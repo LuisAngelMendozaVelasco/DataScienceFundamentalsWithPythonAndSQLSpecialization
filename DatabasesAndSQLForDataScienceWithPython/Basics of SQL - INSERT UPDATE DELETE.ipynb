{
 "cells": [
  {
   "cell_type": "markdown",
   "metadata": {},
   "source": [
    "![](https://cf-courses-data.s3.us.cloud-object-storage.appdomain.cloud/IBMDeveloperSkillsNetwork-DB0201EN-SkillsNetwork/labs/Labs_Coursera_V5/labs/Lab%20-%20INSERT%20-%20UPDATE%20-%20DELETE/images/IDSNlogo.png)"
   ]
  },
  {
   "cell_type": "markdown",
   "metadata": {},
   "source": [
    "# Hands-on Lab : INSERT, UPDATE, DELETE"
   ]
  },
  {
   "cell_type": "markdown",
   "metadata": {},
   "source": [
    "**Estimated time needed:** 20 minutes"
   ]
  },
  {
   "cell_type": "markdown",
   "metadata": {},
   "source": [
    "In this lab, you will learn some commonly used DML (Data Manipulation Language) statements of SQL other than SELECT. First, you will learn the INSERT statement, which is used to insert new rows into a table. Next, you will learn the UPDATE statement which is used to update the data in existing rows in the table. Lastly, you will learn the DELETE statement which is used to remove rows from a table."
   ]
  },
  {
   "cell_type": "markdown",
   "metadata": {},
   "source": [
    "**How does the syntax of an INSERT statement look?**\n",
    "\n",
    "```sql\n",
    "INSERT INTO table_name (column1, column2, ... )\n",
    "VALUES (value1, value2, ... );\n",
    "```"
   ]
  },
  {
   "cell_type": "markdown",
   "metadata": {},
   "source": [
    "**How does the syntax of an UPDATE statement look?**\n",
    "\n",
    "```sql\n",
    "UPDATE table_name\n",
    "SET column1 = value1, column2 = value2, ...\n",
    "WHERE condition;\n",
    "```"
   ]
  },
  {
   "cell_type": "markdown",
   "metadata": {},
   "source": [
    "**How does the syntax of a DELETE statement look?**\n",
    "\n",
    "```sql\n",
    "DELETE FROM table_name\n",
    "WHERE condition;\n",
    "```"
   ]
  },
  {
   "cell_type": "markdown",
   "metadata": {},
   "source": [
    "## Software Used in this Lab"
   ]
  },
  {
   "cell_type": "markdown",
   "metadata": {},
   "source": [
    "In this lab, you will use [Datasette](https://github.com/simonw/datasette?utm_medium=Exinfluencer&utm_source=Exinfluencer&utm_content=000026UJ&utm_term=10006555&utm_id=NA-SkillsNetwork-Channel-SkillsNetworkCoursesIBMDeveloperSkillsNetworkDB0201ENSkillsNetwork20127838-2022-01-01), an open source multi-tool for exploring and publishing data."
   ]
  },
  {
   "cell_type": "markdown",
   "metadata": {},
   "source": [
    "## Database Used in this Lab"
   ]
  },
  {
   "cell_type": "markdown",
   "metadata": {},
   "source": [
    "The dataset used in this lab is an internal database."
   ]
  },
  {
   "cell_type": "markdown",
   "metadata": {},
   "source": [
    "## Objectives"
   ]
  },
  {
   "cell_type": "markdown",
   "metadata": {},
   "source": [
    "After completing this lab, you will be able to:\n",
    "\n",
    "- Insert new rows into a table\n",
    "- Update data in existing rows of the table\n",
    "- Remove rows from a table"
   ]
  },
  {
   "cell_type": "code",
   "execution_count": 1,
   "metadata": {},
   "outputs": [],
   "source": [
    "import sqlite3\n",
    "import pandas as pd"
   ]
  },
  {
   "cell_type": "code",
   "execution_count": 2,
   "metadata": {},
   "outputs": [],
   "source": [
    "con = sqlite3.connect('data/database.db')\n",
    "cur = con.cursor()"
   ]
  },
  {
   "cell_type": "markdown",
   "metadata": {},
   "source": [
    "# Exploring the Database"
   ]
  },
  {
   "cell_type": "markdown",
   "metadata": {},
   "source": [
    "Let us first explore the **Instructors** database using the **Datasette** tool:\n",
    "\n",
    "1. If the first statement listed below is not already in the Datasette textbox on the right, then copy the code below by clicking on the little copy button on the bottom right of the codeblock below and then paste it into the textbox of the Datasette tool using either **Ctrl+V** or right-click in the text box and choose **Paste**.\n",
    "```sql\n",
    "SELECT * FROM Instructor;\n",
    "```\n",
    "![](https://cf-courses-data.s3.us.cloud-object-storage.appdomain.cloud/IBMDeveloperSkillsNetwork-DB0201EN-SkillsNetwork/labs/Labs_Coursera_V5/labs/Lab%20-%20INSERT%20-%20UPDATE%20-%20DELETE/images/ExploringDB.1.png)\n",
    "\n",
    "2. Click **Submit Query**.\n",
    "\n",
    "3. Now you can scroll down the table and explore all the columns and rows of the **Instructor** table to get an overall idea of the table contents.\n",
    "![](https://cf-courses-data.s3.us.cloud-object-storage.appdomain.cloud/IBMDeveloperSkillsNetwork-DB0201EN-SkillsNetwork/labs/Labs_Coursera_V5/labs/Lab%20-%20INSERT%20-%20UPDATE%20-%20DELETE/images/ExploringDB.2.png)\n",
    "\n",
    "4. These are the column attribute descriptions from the **Instructor** table:\n",
    "```\n",
    "Instructor (\n",
    "    ins_id:     unique identification number of the instructors,    \n",
    "    lastname:   last name of the instructors,\n",
    "    firstname:  first name of the instructors,\n",
    "    city:       name of the cities where instructors are located,\n",
    "    country:    two-letter country code of the countries where instructors are located\n",
    ")\n",
    "```"
   ]
  },
  {
   "cell_type": "code",
   "execution_count": 3,
   "metadata": {},
   "outputs": [
    {
     "data": {
      "text/html": [
       "<div>\n",
       "<style scoped>\n",
       "    .dataframe tbody tr th:only-of-type {\n",
       "        vertical-align: middle;\n",
       "    }\n",
       "\n",
       "    .dataframe tbody tr th {\n",
       "        vertical-align: top;\n",
       "    }\n",
       "\n",
       "    .dataframe thead th {\n",
       "        text-align: right;\n",
       "    }\n",
       "</style>\n",
       "<table border=\"1\" class=\"dataframe\">\n",
       "  <thead>\n",
       "    <tr style=\"text-align: right;\">\n",
       "      <th></th>\n",
       "      <th>ins_id</th>\n",
       "      <th>lastname</th>\n",
       "      <th>firstname</th>\n",
       "      <th>city</th>\n",
       "      <th>country</th>\n",
       "    </tr>\n",
       "  </thead>\n",
       "  <tbody>\n",
       "    <tr>\n",
       "      <th>0</th>\n",
       "      <td>1</td>\n",
       "      <td>Ahuja</td>\n",
       "      <td>Rav</td>\n",
       "      <td>Toronto</td>\n",
       "      <td>CA</td>\n",
       "    </tr>\n",
       "    <tr>\n",
       "      <th>1</th>\n",
       "      <td>2</td>\n",
       "      <td>Chong</td>\n",
       "      <td>Raul</td>\n",
       "      <td>Toronto</td>\n",
       "      <td>CA</td>\n",
       "    </tr>\n",
       "    <tr>\n",
       "      <th>2</th>\n",
       "      <td>3</td>\n",
       "      <td>Vasudevan</td>\n",
       "      <td>Hima</td>\n",
       "      <td>Chicago</td>\n",
       "      <td>US</td>\n",
       "    </tr>\n",
       "  </tbody>\n",
       "</table>\n",
       "</div>"
      ],
      "text/plain": [
       "   ins_id   lastname firstname     city country\n",
       "0       1      Ahuja       Rav  Toronto      CA\n",
       "1       2      Chong      Raul  Toronto      CA\n",
       "2       3  Vasudevan      Hima  Chicago      US"
      ]
     },
     "execution_count": 3,
     "metadata": {},
     "output_type": "execute_result"
    }
   ],
   "source": [
    "query = '''\n",
    "            SELECT *\n",
    "            FROM Instructor\n",
    "        '''\n",
    "df = pd.read_sql_query(query, con)\n",
    "df"
   ]
  },
  {
   "cell_type": "markdown",
   "metadata": {},
   "source": [
    "# Exercise 1: INSERT"
   ]
  },
  {
   "cell_type": "markdown",
   "metadata": {},
   "source": [
    "In this exercise, you will first go through some examples of using INSERT in queries and then solve some exercise problems by using it."
   ]
  },
  {
   "cell_type": "markdown",
   "metadata": {},
   "source": [
    "## Task A: Example exercises on INSERT"
   ]
  },
  {
   "cell_type": "markdown",
   "metadata": {},
   "source": [
    "Let us go through some examples of INSERT related queries:"
   ]
  },
  {
   "cell_type": "markdown",
   "metadata": {},
   "source": [
    "1. In this example, suppose we want to insert a new single row into the **Instructor** table.\n",
    "\n",
    "    1. Problem:\n",
    "\n",
    "        *Insert a new instructor record with id 4 for Sandip Saha who lives in Edmonton, CA into the \"Instructor\" table.*\n",
    "\n",
    "    2. Solution:\n",
    "    ```sql\n",
    "    INSERT INTO Instructor(ins_id, lastname, firstname, city, country)\n",
    "    VALUES(4, 'Saha', 'Sandip', 'Edmonton', 'CA');\n",
    "    ```\n",
    "\n",
    "    3. Copy the solution code above by clicking on the little copy button on the bottom right of the codeblock below and paste it to the textbox of the Datasette tool. Then click **Submit query**.\n",
    "\n",
    "    4. Copy the code below by clicking on the little copy button on the bottom right of the codeblock below and paste it to the textbox of the Datasette tool. Then click **Submit query**.\n",
    "    ```sql\n",
    "    SELECT * FROM Instructor;\n",
    "    ```\n",
    "\n",
    "    5. Your output resultset should look like the image below:\n",
    "    ![](https://cf-courses-data.s3.us.cloud-object-storage.appdomain.cloud/IBMDeveloperSkillsNetwork-DB0201EN-SkillsNetwork/labs/Labs_Coursera_V5/labs/Lab%20-%20INSERT%20-%20UPDATE%20-%20DELETE/images/1.A.1.5.png)"
   ]
  },
  {
   "cell_type": "code",
   "execution_count": 5,
   "metadata": {},
   "outputs": [
    {
     "data": {
      "text/plain": [
       "<sqlite3.Cursor at 0x204f22f8c70>"
      ]
     },
     "execution_count": 5,
     "metadata": {},
     "output_type": "execute_result"
    }
   ],
   "source": [
    "query = '''\n",
    "            INSERT INTO Instructor(ins_id, lastname, firstname, city, country)\n",
    "            VALUES(4, 'Saha', 'Sandip', 'Edmonton', 'CA')\n",
    "        '''\n",
    "cur.execute(query)"
   ]
  },
  {
   "cell_type": "code",
   "execution_count": 6,
   "metadata": {},
   "outputs": [
    {
     "data": {
      "text/html": [
       "<div>\n",
       "<style scoped>\n",
       "    .dataframe tbody tr th:only-of-type {\n",
       "        vertical-align: middle;\n",
       "    }\n",
       "\n",
       "    .dataframe tbody tr th {\n",
       "        vertical-align: top;\n",
       "    }\n",
       "\n",
       "    .dataframe thead th {\n",
       "        text-align: right;\n",
       "    }\n",
       "</style>\n",
       "<table border=\"1\" class=\"dataframe\">\n",
       "  <thead>\n",
       "    <tr style=\"text-align: right;\">\n",
       "      <th></th>\n",
       "      <th>ins_id</th>\n",
       "      <th>lastname</th>\n",
       "      <th>firstname</th>\n",
       "      <th>city</th>\n",
       "      <th>country</th>\n",
       "    </tr>\n",
       "  </thead>\n",
       "  <tbody>\n",
       "    <tr>\n",
       "      <th>0</th>\n",
       "      <td>1</td>\n",
       "      <td>Ahuja</td>\n",
       "      <td>Rav</td>\n",
       "      <td>Toronto</td>\n",
       "      <td>CA</td>\n",
       "    </tr>\n",
       "    <tr>\n",
       "      <th>1</th>\n",
       "      <td>2</td>\n",
       "      <td>Chong</td>\n",
       "      <td>Raul</td>\n",
       "      <td>Toronto</td>\n",
       "      <td>CA</td>\n",
       "    </tr>\n",
       "    <tr>\n",
       "      <th>2</th>\n",
       "      <td>3</td>\n",
       "      <td>Vasudevan</td>\n",
       "      <td>Hima</td>\n",
       "      <td>Chicago</td>\n",
       "      <td>US</td>\n",
       "    </tr>\n",
       "    <tr>\n",
       "      <th>3</th>\n",
       "      <td>4</td>\n",
       "      <td>Saha</td>\n",
       "      <td>Sandip</td>\n",
       "      <td>Edmonton</td>\n",
       "      <td>CA</td>\n",
       "    </tr>\n",
       "  </tbody>\n",
       "</table>\n",
       "</div>"
      ],
      "text/plain": [
       "   ins_id   lastname firstname      city country\n",
       "0       1      Ahuja       Rav   Toronto      CA\n",
       "1       2      Chong      Raul   Toronto      CA\n",
       "2       3  Vasudevan      Hima   Chicago      US\n",
       "3       4       Saha    Sandip  Edmonton      CA"
      ]
     },
     "execution_count": 6,
     "metadata": {},
     "output_type": "execute_result"
    }
   ],
   "source": [
    "query = '''\n",
    "            SELECT *\n",
    "            FROM Instructor\n",
    "        '''\n",
    "df = pd.read_sql_query(query, con)\n",
    "df"
   ]
  },
  {
   "cell_type": "markdown",
   "metadata": {},
   "source": [
    "2. In this example, suppose we want to insert some new multiple rows into the **Instructor** table.\n",
    "\n",
    "    1. Problem:\n",
    "\n",
    "        *Insert two new instructor records into the \"Instructor\" table. First record with id 5 for John Doe who lives in Sydney, AU. Second record with id 6 for Jane Doe who lives in Dhaka, BD.*\n",
    "\n",
    "    2. Solution:\n",
    "    ```sql\n",
    "    INSERT INTO Instructor(ins_id, lastname, firstname, city, country)\n",
    "    VALUES(5, 'Doe', 'John', 'Sydney', 'AU'), (6, 'Doe', 'Jane', 'Dhaka', 'BD');\n",
    "    ```\n",
    "\n",
    "    3. Copy the solution code above by clicking on the little copy button on the bottom right of the codeblock below and paste it to the textbox of the Datasette tool. Then click **Submit query**.\n",
    "\n",
    "    4. Copy the code below by clicking on the little copy button on the bottom right of the codeblock below and paste it to the textbox of the Datasette tool. Then click **Submit query**.\n",
    "    ```sql\n",
    "    SELECT * FROM Instructor;\n",
    "    ```\n",
    "\n",
    "    5. Your output resultset should match like below:\n",
    "    ![](https://cf-courses-data.s3.us.cloud-object-storage.appdomain.cloud/IBMDeveloperSkillsNetwork-DB0201EN-SkillsNetwork/labs/Labs_Coursera_V5/labs/Lab%20-%20INSERT%20-%20UPDATE%20-%20DELETE/images/1.A.2.5.png)"
   ]
  },
  {
   "cell_type": "code",
   "execution_count": 7,
   "metadata": {},
   "outputs": [
    {
     "data": {
      "text/plain": [
       "<sqlite3.Cursor at 0x204f22f8c70>"
      ]
     },
     "execution_count": 7,
     "metadata": {},
     "output_type": "execute_result"
    }
   ],
   "source": [
    "query = '''\n",
    "            INSERT INTO Instructor(ins_id, lastname, firstname, city, country)\n",
    "            VALUES(5, 'Doe', 'John', 'Sydney', 'AU'), (6, 'Doe', 'Jane', 'Dhaka', 'BD')\n",
    "        '''\n",
    "cur.execute(query)"
   ]
  },
  {
   "cell_type": "code",
   "execution_count": 8,
   "metadata": {},
   "outputs": [
    {
     "data": {
      "text/html": [
       "<div>\n",
       "<style scoped>\n",
       "    .dataframe tbody tr th:only-of-type {\n",
       "        vertical-align: middle;\n",
       "    }\n",
       "\n",
       "    .dataframe tbody tr th {\n",
       "        vertical-align: top;\n",
       "    }\n",
       "\n",
       "    .dataframe thead th {\n",
       "        text-align: right;\n",
       "    }\n",
       "</style>\n",
       "<table border=\"1\" class=\"dataframe\">\n",
       "  <thead>\n",
       "    <tr style=\"text-align: right;\">\n",
       "      <th></th>\n",
       "      <th>ins_id</th>\n",
       "      <th>lastname</th>\n",
       "      <th>firstname</th>\n",
       "      <th>city</th>\n",
       "      <th>country</th>\n",
       "    </tr>\n",
       "  </thead>\n",
       "  <tbody>\n",
       "    <tr>\n",
       "      <th>0</th>\n",
       "      <td>1</td>\n",
       "      <td>Ahuja</td>\n",
       "      <td>Rav</td>\n",
       "      <td>Toronto</td>\n",
       "      <td>CA</td>\n",
       "    </tr>\n",
       "    <tr>\n",
       "      <th>1</th>\n",
       "      <td>2</td>\n",
       "      <td>Chong</td>\n",
       "      <td>Raul</td>\n",
       "      <td>Toronto</td>\n",
       "      <td>CA</td>\n",
       "    </tr>\n",
       "    <tr>\n",
       "      <th>2</th>\n",
       "      <td>3</td>\n",
       "      <td>Vasudevan</td>\n",
       "      <td>Hima</td>\n",
       "      <td>Chicago</td>\n",
       "      <td>US</td>\n",
       "    </tr>\n",
       "    <tr>\n",
       "      <th>3</th>\n",
       "      <td>4</td>\n",
       "      <td>Saha</td>\n",
       "      <td>Sandip</td>\n",
       "      <td>Edmonton</td>\n",
       "      <td>CA</td>\n",
       "    </tr>\n",
       "    <tr>\n",
       "      <th>4</th>\n",
       "      <td>5</td>\n",
       "      <td>Doe</td>\n",
       "      <td>John</td>\n",
       "      <td>Sydney</td>\n",
       "      <td>AU</td>\n",
       "    </tr>\n",
       "    <tr>\n",
       "      <th>5</th>\n",
       "      <td>6</td>\n",
       "      <td>Doe</td>\n",
       "      <td>Jane</td>\n",
       "      <td>Dhaka</td>\n",
       "      <td>BD</td>\n",
       "    </tr>\n",
       "  </tbody>\n",
       "</table>\n",
       "</div>"
      ],
      "text/plain": [
       "   ins_id   lastname firstname      city country\n",
       "0       1      Ahuja       Rav   Toronto      CA\n",
       "1       2      Chong      Raul   Toronto      CA\n",
       "2       3  Vasudevan      Hima   Chicago      US\n",
       "3       4       Saha    Sandip  Edmonton      CA\n",
       "4       5        Doe      John    Sydney      AU\n",
       "5       6        Doe      Jane     Dhaka      BD"
      ]
     },
     "execution_count": 8,
     "metadata": {},
     "output_type": "execute_result"
    }
   ],
   "source": [
    "query = '''\n",
    "            SELECT *\n",
    "            FROM Instructor\n",
    "        '''\n",
    "df = pd.read_sql_query(query, con)\n",
    "df"
   ]
  },
  {
   "cell_type": "markdown",
   "metadata": {},
   "source": [
    "## Task B: Practice exercises on INSERT"
   ]
  },
  {
   "cell_type": "markdown",
   "metadata": {},
   "source": [
    "Now, let us practice creating and running some INSERT related queries."
   ]
  },
  {
   "cell_type": "markdown",
   "metadata": {},
   "source": [
    "1. Problem:\n",
    "\n",
    "    *Insert a new instructor record with id 7 for Antonio Cangiano who lives in Vancouver, CA into the \"Instructor\" table.*\n",
    "\n",
    "<details>\n",
    "\t<summary>Click here for Hint</summary>\n",
    "\n",
    "Follow example 1 of the INSERT exercise.\n",
    "\n",
    "</details>\n",
    "\n",
    "<details>\n",
    "\t<summary>Click here for Solution</summary>\n",
    "\n",
    "```sql\n",
    "INSERT INTO Instructor(ins_id, lastname, firstname, city, country)\n",
    "VALUES(7, 'Cangiano', 'Antonio', 'Vancouver', 'CA');\n",
    "\n",
    "SELECT * FROM Instructor;\n",
    "```\n",
    "\n",
    "</details>\n",
    "\n",
    "<details>\n",
    "\t<summary>Click here for Output</summary>\n",
    "\n",
    "![](https://cf-courses-data.s3.us.cloud-object-storage.appdomain.cloud/IBMDeveloperSkillsNetwork-DB0201EN-SkillsNetwork/labs/Labs_Coursera_V5/labs/Lab%20-%20INSERT%20-%20UPDATE%20-%20DELETE/images/1.B.1.O.png)\n",
    "\n",
    "</details>"
   ]
  },
  {
   "cell_type": "code",
   "execution_count": 9,
   "metadata": {},
   "outputs": [
    {
     "data": {
      "text/plain": [
       "<sqlite3.Cursor at 0x204f22f8c70>"
      ]
     },
     "execution_count": 9,
     "metadata": {},
     "output_type": "execute_result"
    }
   ],
   "source": [
    "query = '''\n",
    "            INSERT INTO Instructor(ins_id, lastname, firstname, city, country)\n",
    "            VALUES(7, 'Cangiano', 'Antonio', 'Vancouver', 'CA')\n",
    "        '''\n",
    "cur.execute(query)"
   ]
  },
  {
   "cell_type": "code",
   "execution_count": 10,
   "metadata": {},
   "outputs": [
    {
     "data": {
      "text/html": [
       "<div>\n",
       "<style scoped>\n",
       "    .dataframe tbody tr th:only-of-type {\n",
       "        vertical-align: middle;\n",
       "    }\n",
       "\n",
       "    .dataframe tbody tr th {\n",
       "        vertical-align: top;\n",
       "    }\n",
       "\n",
       "    .dataframe thead th {\n",
       "        text-align: right;\n",
       "    }\n",
       "</style>\n",
       "<table border=\"1\" class=\"dataframe\">\n",
       "  <thead>\n",
       "    <tr style=\"text-align: right;\">\n",
       "      <th></th>\n",
       "      <th>ins_id</th>\n",
       "      <th>lastname</th>\n",
       "      <th>firstname</th>\n",
       "      <th>city</th>\n",
       "      <th>country</th>\n",
       "    </tr>\n",
       "  </thead>\n",
       "  <tbody>\n",
       "    <tr>\n",
       "      <th>0</th>\n",
       "      <td>1</td>\n",
       "      <td>Ahuja</td>\n",
       "      <td>Rav</td>\n",
       "      <td>Toronto</td>\n",
       "      <td>CA</td>\n",
       "    </tr>\n",
       "    <tr>\n",
       "      <th>1</th>\n",
       "      <td>2</td>\n",
       "      <td>Chong</td>\n",
       "      <td>Raul</td>\n",
       "      <td>Toronto</td>\n",
       "      <td>CA</td>\n",
       "    </tr>\n",
       "    <tr>\n",
       "      <th>2</th>\n",
       "      <td>3</td>\n",
       "      <td>Vasudevan</td>\n",
       "      <td>Hima</td>\n",
       "      <td>Chicago</td>\n",
       "      <td>US</td>\n",
       "    </tr>\n",
       "    <tr>\n",
       "      <th>3</th>\n",
       "      <td>4</td>\n",
       "      <td>Saha</td>\n",
       "      <td>Sandip</td>\n",
       "      <td>Edmonton</td>\n",
       "      <td>CA</td>\n",
       "    </tr>\n",
       "    <tr>\n",
       "      <th>4</th>\n",
       "      <td>5</td>\n",
       "      <td>Doe</td>\n",
       "      <td>John</td>\n",
       "      <td>Sydney</td>\n",
       "      <td>AU</td>\n",
       "    </tr>\n",
       "    <tr>\n",
       "      <th>5</th>\n",
       "      <td>6</td>\n",
       "      <td>Doe</td>\n",
       "      <td>Jane</td>\n",
       "      <td>Dhaka</td>\n",
       "      <td>BD</td>\n",
       "    </tr>\n",
       "    <tr>\n",
       "      <th>6</th>\n",
       "      <td>7</td>\n",
       "      <td>Cangiano</td>\n",
       "      <td>Antonio</td>\n",
       "      <td>Vancouver</td>\n",
       "      <td>CA</td>\n",
       "    </tr>\n",
       "  </tbody>\n",
       "</table>\n",
       "</div>"
      ],
      "text/plain": [
       "   ins_id   lastname firstname       city country\n",
       "0       1      Ahuja       Rav    Toronto      CA\n",
       "1       2      Chong      Raul    Toronto      CA\n",
       "2       3  Vasudevan      Hima    Chicago      US\n",
       "3       4       Saha    Sandip   Edmonton      CA\n",
       "4       5        Doe      John     Sydney      AU\n",
       "5       6        Doe      Jane      Dhaka      BD\n",
       "6       7   Cangiano   Antonio  Vancouver      CA"
      ]
     },
     "execution_count": 10,
     "metadata": {},
     "output_type": "execute_result"
    }
   ],
   "source": [
    "query = '''\n",
    "            SELECT *\n",
    "            FROM Instructor\n",
    "        '''\n",
    "df = pd.read_sql_query(query, con)\n",
    "df"
   ]
  },
  {
   "cell_type": "markdown",
   "metadata": {},
   "source": [
    "2. Problem:\n",
    "\n",
    "    *Insert two new instructor records into the \"Instructor\" table. First record with id 8 for Steve Ryan who lives in Barlby, GB. Second record with id 9 for Ramesh Sannareddy who lives in Hyderabad, IN.*\n",
    "\n",
    "<details>\n",
    "\t<summary>Click here for Hint</summary>\n",
    "\n",
    "Follow example 2 of the INSERT exercise.\n",
    "\n",
    "</details>\n",
    "\n",
    "<details>\n",
    "\t<summary>Click here for Solution</summary>\n",
    "\n",
    "```sql\n",
    "INSERT INTO Instructor(ins_id, lastname, firstname, city, country)\n",
    "VALUES(8, 'Ryan', 'Steve', 'Barlby', 'GB'), (9, 'Sannareddy', 'Ramesh', 'Hyderabad', 'IN');\n",
    "\n",
    "SELECT * FROM Instructor;\n",
    "```\n",
    "\n",
    "</details>\n",
    "\n",
    "<details>\n",
    "\t<summary>Click here for Output</summary>\n",
    "\n",
    "![](https://cf-courses-data.s3.us.cloud-object-storage.appdomain.cloud/IBMDeveloperSkillsNetwork-DB0201EN-SkillsNetwork/labs/Labs_Coursera_V5/labs/Lab%20-%20INSERT%20-%20UPDATE%20-%20DELETE/images/1.B.2.O.png)\n",
    "\n",
    "</details>"
   ]
  },
  {
   "cell_type": "code",
   "execution_count": 11,
   "metadata": {},
   "outputs": [
    {
     "data": {
      "text/plain": [
       "<sqlite3.Cursor at 0x204f22f8c70>"
      ]
     },
     "execution_count": 11,
     "metadata": {},
     "output_type": "execute_result"
    }
   ],
   "source": [
    "query = '''\n",
    "            INSERT INTO Instructor(ins_id, lastname, firstname, city, country)\n",
    "            VALUES(8, 'Ryan', 'Steve', 'Barlby', 'GB'), (9, 'Sannareddy', 'Ramesh', 'Hyderabad', 'IN')\n",
    "        '''\n",
    "cur.execute(query)"
   ]
  },
  {
   "cell_type": "code",
   "execution_count": 12,
   "metadata": {},
   "outputs": [
    {
     "data": {
      "text/html": [
       "<div>\n",
       "<style scoped>\n",
       "    .dataframe tbody tr th:only-of-type {\n",
       "        vertical-align: middle;\n",
       "    }\n",
       "\n",
       "    .dataframe tbody tr th {\n",
       "        vertical-align: top;\n",
       "    }\n",
       "\n",
       "    .dataframe thead th {\n",
       "        text-align: right;\n",
       "    }\n",
       "</style>\n",
       "<table border=\"1\" class=\"dataframe\">\n",
       "  <thead>\n",
       "    <tr style=\"text-align: right;\">\n",
       "      <th></th>\n",
       "      <th>ins_id</th>\n",
       "      <th>lastname</th>\n",
       "      <th>firstname</th>\n",
       "      <th>city</th>\n",
       "      <th>country</th>\n",
       "    </tr>\n",
       "  </thead>\n",
       "  <tbody>\n",
       "    <tr>\n",
       "      <th>0</th>\n",
       "      <td>1</td>\n",
       "      <td>Ahuja</td>\n",
       "      <td>Rav</td>\n",
       "      <td>Toronto</td>\n",
       "      <td>CA</td>\n",
       "    </tr>\n",
       "    <tr>\n",
       "      <th>1</th>\n",
       "      <td>2</td>\n",
       "      <td>Chong</td>\n",
       "      <td>Raul</td>\n",
       "      <td>Toronto</td>\n",
       "      <td>CA</td>\n",
       "    </tr>\n",
       "    <tr>\n",
       "      <th>2</th>\n",
       "      <td>3</td>\n",
       "      <td>Vasudevan</td>\n",
       "      <td>Hima</td>\n",
       "      <td>Chicago</td>\n",
       "      <td>US</td>\n",
       "    </tr>\n",
       "    <tr>\n",
       "      <th>3</th>\n",
       "      <td>4</td>\n",
       "      <td>Saha</td>\n",
       "      <td>Sandip</td>\n",
       "      <td>Edmonton</td>\n",
       "      <td>CA</td>\n",
       "    </tr>\n",
       "    <tr>\n",
       "      <th>4</th>\n",
       "      <td>5</td>\n",
       "      <td>Doe</td>\n",
       "      <td>John</td>\n",
       "      <td>Sydney</td>\n",
       "      <td>AU</td>\n",
       "    </tr>\n",
       "    <tr>\n",
       "      <th>5</th>\n",
       "      <td>6</td>\n",
       "      <td>Doe</td>\n",
       "      <td>Jane</td>\n",
       "      <td>Dhaka</td>\n",
       "      <td>BD</td>\n",
       "    </tr>\n",
       "    <tr>\n",
       "      <th>6</th>\n",
       "      <td>7</td>\n",
       "      <td>Cangiano</td>\n",
       "      <td>Antonio</td>\n",
       "      <td>Vancouver</td>\n",
       "      <td>CA</td>\n",
       "    </tr>\n",
       "    <tr>\n",
       "      <th>7</th>\n",
       "      <td>8</td>\n",
       "      <td>Ryan</td>\n",
       "      <td>Steve</td>\n",
       "      <td>Barlby</td>\n",
       "      <td>GB</td>\n",
       "    </tr>\n",
       "    <tr>\n",
       "      <th>8</th>\n",
       "      <td>9</td>\n",
       "      <td>Sannareddy</td>\n",
       "      <td>Ramesh</td>\n",
       "      <td>Hyderabad</td>\n",
       "      <td>IN</td>\n",
       "    </tr>\n",
       "  </tbody>\n",
       "</table>\n",
       "</div>"
      ],
      "text/plain": [
       "   ins_id    lastname firstname       city country\n",
       "0       1       Ahuja       Rav    Toronto      CA\n",
       "1       2       Chong      Raul    Toronto      CA\n",
       "2       3   Vasudevan      Hima    Chicago      US\n",
       "3       4        Saha    Sandip   Edmonton      CA\n",
       "4       5         Doe      John     Sydney      AU\n",
       "5       6         Doe      Jane      Dhaka      BD\n",
       "6       7    Cangiano   Antonio  Vancouver      CA\n",
       "7       8        Ryan     Steve     Barlby      GB\n",
       "8       9  Sannareddy    Ramesh  Hyderabad      IN"
      ]
     },
     "execution_count": 12,
     "metadata": {},
     "output_type": "execute_result"
    }
   ],
   "source": [
    "query = '''\n",
    "            SELECT *\n",
    "            FROM Instructor\n",
    "        '''\n",
    "df = pd.read_sql_query(query, con)\n",
    "df"
   ]
  },
  {
   "cell_type": "markdown",
   "metadata": {},
   "source": [
    "# Exercise 2: UPDATE"
   ]
  },
  {
   "cell_type": "markdown",
   "metadata": {},
   "source": [
    "In this exercise, you will first go through some examples of using UPDATE in queries and then solve some exercise problems by using it."
   ]
  },
  {
   "cell_type": "markdown",
   "metadata": {},
   "source": [
    "## Task A: Example exercises on UPDATE"
   ]
  },
  {
   "cell_type": "markdown",
   "metadata": {},
   "source": [
    "Let us go through some examples of UPDATE related queries:"
   ]
  },
  {
   "cell_type": "markdown",
   "metadata": {},
   "source": [
    "1. In this example, we want to update one column of an existing row of the table.\n",
    "\n",
    "    1. Problem:\n",
    "\n",
    "        *Update the city for Sandip to Toronto.*\n",
    "\n",
    "    2. Solution:\n",
    "    ```sql\n",
    "    UPDATE Instructor \n",
    "    SET city='Toronto' \n",
    "    WHERE firstname=\"Sandip\";\n",
    "    ```\n",
    "\n",
    "    3. Copy the solution code above by clicking on the little copy button on the bottom right of the codeblock below and paste it to the textbox of the Datasette tool. Then click **Submit query**.\n",
    "\n",
    "    4. Copy the code below by clicking on the little copy button on the bottom right of the codeblock below and paste it to the textbox of the Datasette tool. Then click **Submit query**.\n",
    "    ```sql\n",
    "    SELECT * FROM Instructor;\n",
    "    ```\n",
    "\n",
    "    5. Your output resultset should match like below:\n",
    "    ![](https://cf-courses-data.s3.us.cloud-object-storage.appdomain.cloud/IBMDeveloperSkillsNetwork-DB0201EN-SkillsNetwork/labs/Labs_Coursera_V5/labs/Lab%20-%20INSERT%20-%20UPDATE%20-%20DELETE/images/2.A.1.5.png)"
   ]
  },
  {
   "cell_type": "code",
   "execution_count": 13,
   "metadata": {},
   "outputs": [
    {
     "data": {
      "text/plain": [
       "<sqlite3.Cursor at 0x204f22f8c70>"
      ]
     },
     "execution_count": 13,
     "metadata": {},
     "output_type": "execute_result"
    }
   ],
   "source": [
    "query = '''\n",
    "            UPDATE Instructor \n",
    "            SET city='Toronto' \n",
    "            WHERE firstname=\"Sandip\";\n",
    "        '''\n",
    "cur.execute(query)"
   ]
  },
  {
   "cell_type": "code",
   "execution_count": 14,
   "metadata": {},
   "outputs": [
    {
     "data": {
      "text/html": [
       "<div>\n",
       "<style scoped>\n",
       "    .dataframe tbody tr th:only-of-type {\n",
       "        vertical-align: middle;\n",
       "    }\n",
       "\n",
       "    .dataframe tbody tr th {\n",
       "        vertical-align: top;\n",
       "    }\n",
       "\n",
       "    .dataframe thead th {\n",
       "        text-align: right;\n",
       "    }\n",
       "</style>\n",
       "<table border=\"1\" class=\"dataframe\">\n",
       "  <thead>\n",
       "    <tr style=\"text-align: right;\">\n",
       "      <th></th>\n",
       "      <th>ins_id</th>\n",
       "      <th>lastname</th>\n",
       "      <th>firstname</th>\n",
       "      <th>city</th>\n",
       "      <th>country</th>\n",
       "    </tr>\n",
       "  </thead>\n",
       "  <tbody>\n",
       "    <tr>\n",
       "      <th>0</th>\n",
       "      <td>1</td>\n",
       "      <td>Ahuja</td>\n",
       "      <td>Rav</td>\n",
       "      <td>Toronto</td>\n",
       "      <td>CA</td>\n",
       "    </tr>\n",
       "    <tr>\n",
       "      <th>1</th>\n",
       "      <td>2</td>\n",
       "      <td>Chong</td>\n",
       "      <td>Raul</td>\n",
       "      <td>Toronto</td>\n",
       "      <td>CA</td>\n",
       "    </tr>\n",
       "    <tr>\n",
       "      <th>2</th>\n",
       "      <td>3</td>\n",
       "      <td>Vasudevan</td>\n",
       "      <td>Hima</td>\n",
       "      <td>Chicago</td>\n",
       "      <td>US</td>\n",
       "    </tr>\n",
       "    <tr>\n",
       "      <th>3</th>\n",
       "      <td>4</td>\n",
       "      <td>Saha</td>\n",
       "      <td>Sandip</td>\n",
       "      <td>Toronto</td>\n",
       "      <td>CA</td>\n",
       "    </tr>\n",
       "    <tr>\n",
       "      <th>4</th>\n",
       "      <td>5</td>\n",
       "      <td>Doe</td>\n",
       "      <td>John</td>\n",
       "      <td>Sydney</td>\n",
       "      <td>AU</td>\n",
       "    </tr>\n",
       "    <tr>\n",
       "      <th>5</th>\n",
       "      <td>6</td>\n",
       "      <td>Doe</td>\n",
       "      <td>Jane</td>\n",
       "      <td>Dhaka</td>\n",
       "      <td>BD</td>\n",
       "    </tr>\n",
       "    <tr>\n",
       "      <th>6</th>\n",
       "      <td>7</td>\n",
       "      <td>Cangiano</td>\n",
       "      <td>Antonio</td>\n",
       "      <td>Vancouver</td>\n",
       "      <td>CA</td>\n",
       "    </tr>\n",
       "    <tr>\n",
       "      <th>7</th>\n",
       "      <td>8</td>\n",
       "      <td>Ryan</td>\n",
       "      <td>Steve</td>\n",
       "      <td>Barlby</td>\n",
       "      <td>GB</td>\n",
       "    </tr>\n",
       "    <tr>\n",
       "      <th>8</th>\n",
       "      <td>9</td>\n",
       "      <td>Sannareddy</td>\n",
       "      <td>Ramesh</td>\n",
       "      <td>Hyderabad</td>\n",
       "      <td>IN</td>\n",
       "    </tr>\n",
       "  </tbody>\n",
       "</table>\n",
       "</div>"
      ],
      "text/plain": [
       "   ins_id    lastname firstname       city country\n",
       "0       1       Ahuja       Rav    Toronto      CA\n",
       "1       2       Chong      Raul    Toronto      CA\n",
       "2       3   Vasudevan      Hima    Chicago      US\n",
       "3       4        Saha    Sandip    Toronto      CA\n",
       "4       5         Doe      John     Sydney      AU\n",
       "5       6         Doe      Jane      Dhaka      BD\n",
       "6       7    Cangiano   Antonio  Vancouver      CA\n",
       "7       8        Ryan     Steve     Barlby      GB\n",
       "8       9  Sannareddy    Ramesh  Hyderabad      IN"
      ]
     },
     "execution_count": 14,
     "metadata": {},
     "output_type": "execute_result"
    }
   ],
   "source": [
    "query = '''\n",
    "            SELECT *\n",
    "            FROM Instructor\n",
    "        '''\n",
    "df = pd.read_sql_query(query, con)\n",
    "df"
   ]
  },
  {
   "cell_type": "markdown",
   "metadata": {},
   "source": [
    "2. In this example, we want to update multiple columns of an existing row of the table.\n",
    "\n",
    "    1. Problem:\n",
    "\n",
    "        *Update the city and country for Doe with id 5 to Dubai and AE respectively.*\n",
    "\n",
    "    2. Solution:\n",
    "    ```sql\n",
    "    UPDATE Instructor \n",
    "    SET city='Dubai', country='AE' \n",
    "    WHERE ins_id=5;\n",
    "    ```\n",
    "\n",
    "    3. Copy the solution code above by clicking on the little copy button on the bottom right of the codeblock below and paste it to the textbox of the Datasette tool. Then click **Submit query**.\n",
    "\n",
    "    4. Copy the code below by clicking on the little copy button on the bottom right of the codeblock below and paste it to the textbox of the Datasette tool. Then click **Submit query**.\n",
    "    ```sql\n",
    "    SELECT * FROM Instructor;\n",
    "    ```\n",
    "\n",
    "    5. Your output resultset should match like below:\n",
    "    ![](https://cf-courses-data.s3.us.cloud-object-storage.appdomain.cloud/IBMDeveloperSkillsNetwork-DB0201EN-SkillsNetwork/labs/Labs_Coursera_V5/labs/Lab%20-%20INSERT%20-%20UPDATE%20-%20DELETE/images/2.A.2.5.png)"
   ]
  },
  {
   "cell_type": "code",
   "execution_count": 15,
   "metadata": {},
   "outputs": [
    {
     "data": {
      "text/plain": [
       "<sqlite3.Cursor at 0x204f22f8c70>"
      ]
     },
     "execution_count": 15,
     "metadata": {},
     "output_type": "execute_result"
    }
   ],
   "source": [
    "query = '''\n",
    "            UPDATE Instructor \n",
    "            SET city='Dubai', country='AE' \n",
    "            WHERE ins_id=5;\n",
    "        '''\n",
    "cur.execute(query)"
   ]
  },
  {
   "cell_type": "code",
   "execution_count": 16,
   "metadata": {},
   "outputs": [
    {
     "data": {
      "text/html": [
       "<div>\n",
       "<style scoped>\n",
       "    .dataframe tbody tr th:only-of-type {\n",
       "        vertical-align: middle;\n",
       "    }\n",
       "\n",
       "    .dataframe tbody tr th {\n",
       "        vertical-align: top;\n",
       "    }\n",
       "\n",
       "    .dataframe thead th {\n",
       "        text-align: right;\n",
       "    }\n",
       "</style>\n",
       "<table border=\"1\" class=\"dataframe\">\n",
       "  <thead>\n",
       "    <tr style=\"text-align: right;\">\n",
       "      <th></th>\n",
       "      <th>ins_id</th>\n",
       "      <th>lastname</th>\n",
       "      <th>firstname</th>\n",
       "      <th>city</th>\n",
       "      <th>country</th>\n",
       "    </tr>\n",
       "  </thead>\n",
       "  <tbody>\n",
       "    <tr>\n",
       "      <th>0</th>\n",
       "      <td>1</td>\n",
       "      <td>Ahuja</td>\n",
       "      <td>Rav</td>\n",
       "      <td>Toronto</td>\n",
       "      <td>CA</td>\n",
       "    </tr>\n",
       "    <tr>\n",
       "      <th>1</th>\n",
       "      <td>2</td>\n",
       "      <td>Chong</td>\n",
       "      <td>Raul</td>\n",
       "      <td>Toronto</td>\n",
       "      <td>CA</td>\n",
       "    </tr>\n",
       "    <tr>\n",
       "      <th>2</th>\n",
       "      <td>3</td>\n",
       "      <td>Vasudevan</td>\n",
       "      <td>Hima</td>\n",
       "      <td>Chicago</td>\n",
       "      <td>US</td>\n",
       "    </tr>\n",
       "    <tr>\n",
       "      <th>3</th>\n",
       "      <td>4</td>\n",
       "      <td>Saha</td>\n",
       "      <td>Sandip</td>\n",
       "      <td>Toronto</td>\n",
       "      <td>CA</td>\n",
       "    </tr>\n",
       "    <tr>\n",
       "      <th>4</th>\n",
       "      <td>5</td>\n",
       "      <td>Doe</td>\n",
       "      <td>John</td>\n",
       "      <td>Dubai</td>\n",
       "      <td>AE</td>\n",
       "    </tr>\n",
       "    <tr>\n",
       "      <th>5</th>\n",
       "      <td>6</td>\n",
       "      <td>Doe</td>\n",
       "      <td>Jane</td>\n",
       "      <td>Dhaka</td>\n",
       "      <td>BD</td>\n",
       "    </tr>\n",
       "    <tr>\n",
       "      <th>6</th>\n",
       "      <td>7</td>\n",
       "      <td>Cangiano</td>\n",
       "      <td>Antonio</td>\n",
       "      <td>Vancouver</td>\n",
       "      <td>CA</td>\n",
       "    </tr>\n",
       "    <tr>\n",
       "      <th>7</th>\n",
       "      <td>8</td>\n",
       "      <td>Ryan</td>\n",
       "      <td>Steve</td>\n",
       "      <td>Barlby</td>\n",
       "      <td>GB</td>\n",
       "    </tr>\n",
       "    <tr>\n",
       "      <th>8</th>\n",
       "      <td>9</td>\n",
       "      <td>Sannareddy</td>\n",
       "      <td>Ramesh</td>\n",
       "      <td>Hyderabad</td>\n",
       "      <td>IN</td>\n",
       "    </tr>\n",
       "  </tbody>\n",
       "</table>\n",
       "</div>"
      ],
      "text/plain": [
       "   ins_id    lastname firstname       city country\n",
       "0       1       Ahuja       Rav    Toronto      CA\n",
       "1       2       Chong      Raul    Toronto      CA\n",
       "2       3   Vasudevan      Hima    Chicago      US\n",
       "3       4        Saha    Sandip    Toronto      CA\n",
       "4       5         Doe      John      Dubai      AE\n",
       "5       6         Doe      Jane      Dhaka      BD\n",
       "6       7    Cangiano   Antonio  Vancouver      CA\n",
       "7       8        Ryan     Steve     Barlby      GB\n",
       "8       9  Sannareddy    Ramesh  Hyderabad      IN"
      ]
     },
     "execution_count": 16,
     "metadata": {},
     "output_type": "execute_result"
    }
   ],
   "source": [
    "query = '''\n",
    "            SELECT *\n",
    "            FROM Instructor\n",
    "        '''\n",
    "df = pd.read_sql_query(query, con)\n",
    "df"
   ]
  },
  {
   "cell_type": "markdown",
   "metadata": {},
   "source": [
    "## Task B: Practice exercises on UPDATE"
   ]
  },
  {
   "cell_type": "markdown",
   "metadata": {},
   "source": [
    "Now, let us practice creating and running some UPDATE related queries."
   ]
  },
  {
   "cell_type": "markdown",
   "metadata": {},
   "source": [
    "1. Problem:\n",
    "\n",
    "    *Update the city of the instructor record to Markham whose id is 1.*\n",
    "\n",
    "<details>\n",
    "\t<summary>Click here for Hint</summary>\n",
    "\n",
    "Follow example 1 of the UPDATE exercise.\n",
    "\n",
    "</details>\n",
    "\n",
    "<details>\n",
    "\t<summary>Click here for Solution</summary>\n",
    "\n",
    "```sql\n",
    "UPDATE Instructor \n",
    "SET city='Markham' \n",
    "WHERE ins_id=1;\n",
    "\n",
    "SELECT * FROM Instructor;\n",
    "```\n",
    "\n",
    "</details>\n",
    "\n",
    "<details>\n",
    "\t<summary>Click here for Output</summary>\n",
    "\n",
    "![](https://cf-courses-data.s3.us.cloud-object-storage.appdomain.cloud/IBMDeveloperSkillsNetwork-DB0201EN-SkillsNetwork/labs/Labs_Coursera_V5/labs/Lab%20-%20INSERT%20-%20UPDATE%20-%20DELETE/images/2.B.1.O.png)\n",
    "\n",
    "</details>"
   ]
  },
  {
   "cell_type": "code",
   "execution_count": 17,
   "metadata": {},
   "outputs": [
    {
     "data": {
      "text/plain": [
       "<sqlite3.Cursor at 0x204f22f8c70>"
      ]
     },
     "execution_count": 17,
     "metadata": {},
     "output_type": "execute_result"
    }
   ],
   "source": [
    "query = '''\n",
    "            UPDATE Instructor \n",
    "            SET city='Markham'\n",
    "            WHERE ins_id=1;\n",
    "        '''\n",
    "cur.execute(query)"
   ]
  },
  {
   "cell_type": "code",
   "execution_count": 18,
   "metadata": {},
   "outputs": [
    {
     "data": {
      "text/html": [
       "<div>\n",
       "<style scoped>\n",
       "    .dataframe tbody tr th:only-of-type {\n",
       "        vertical-align: middle;\n",
       "    }\n",
       "\n",
       "    .dataframe tbody tr th {\n",
       "        vertical-align: top;\n",
       "    }\n",
       "\n",
       "    .dataframe thead th {\n",
       "        text-align: right;\n",
       "    }\n",
       "</style>\n",
       "<table border=\"1\" class=\"dataframe\">\n",
       "  <thead>\n",
       "    <tr style=\"text-align: right;\">\n",
       "      <th></th>\n",
       "      <th>ins_id</th>\n",
       "      <th>lastname</th>\n",
       "      <th>firstname</th>\n",
       "      <th>city</th>\n",
       "      <th>country</th>\n",
       "    </tr>\n",
       "  </thead>\n",
       "  <tbody>\n",
       "    <tr>\n",
       "      <th>0</th>\n",
       "      <td>1</td>\n",
       "      <td>Ahuja</td>\n",
       "      <td>Rav</td>\n",
       "      <td>Markham</td>\n",
       "      <td>CA</td>\n",
       "    </tr>\n",
       "    <tr>\n",
       "      <th>1</th>\n",
       "      <td>2</td>\n",
       "      <td>Chong</td>\n",
       "      <td>Raul</td>\n",
       "      <td>Toronto</td>\n",
       "      <td>CA</td>\n",
       "    </tr>\n",
       "    <tr>\n",
       "      <th>2</th>\n",
       "      <td>3</td>\n",
       "      <td>Vasudevan</td>\n",
       "      <td>Hima</td>\n",
       "      <td>Chicago</td>\n",
       "      <td>US</td>\n",
       "    </tr>\n",
       "    <tr>\n",
       "      <th>3</th>\n",
       "      <td>4</td>\n",
       "      <td>Saha</td>\n",
       "      <td>Sandip</td>\n",
       "      <td>Toronto</td>\n",
       "      <td>CA</td>\n",
       "    </tr>\n",
       "    <tr>\n",
       "      <th>4</th>\n",
       "      <td>5</td>\n",
       "      <td>Doe</td>\n",
       "      <td>John</td>\n",
       "      <td>Dubai</td>\n",
       "      <td>AE</td>\n",
       "    </tr>\n",
       "    <tr>\n",
       "      <th>5</th>\n",
       "      <td>6</td>\n",
       "      <td>Doe</td>\n",
       "      <td>Jane</td>\n",
       "      <td>Dhaka</td>\n",
       "      <td>BD</td>\n",
       "    </tr>\n",
       "    <tr>\n",
       "      <th>6</th>\n",
       "      <td>7</td>\n",
       "      <td>Cangiano</td>\n",
       "      <td>Antonio</td>\n",
       "      <td>Vancouver</td>\n",
       "      <td>CA</td>\n",
       "    </tr>\n",
       "    <tr>\n",
       "      <th>7</th>\n",
       "      <td>8</td>\n",
       "      <td>Ryan</td>\n",
       "      <td>Steve</td>\n",
       "      <td>Barlby</td>\n",
       "      <td>GB</td>\n",
       "    </tr>\n",
       "    <tr>\n",
       "      <th>8</th>\n",
       "      <td>9</td>\n",
       "      <td>Sannareddy</td>\n",
       "      <td>Ramesh</td>\n",
       "      <td>Hyderabad</td>\n",
       "      <td>IN</td>\n",
       "    </tr>\n",
       "  </tbody>\n",
       "</table>\n",
       "</div>"
      ],
      "text/plain": [
       "   ins_id    lastname firstname       city country\n",
       "0       1       Ahuja       Rav    Markham      CA\n",
       "1       2       Chong      Raul    Toronto      CA\n",
       "2       3   Vasudevan      Hima    Chicago      US\n",
       "3       4        Saha    Sandip    Toronto      CA\n",
       "4       5         Doe      John      Dubai      AE\n",
       "5       6         Doe      Jane      Dhaka      BD\n",
       "6       7    Cangiano   Antonio  Vancouver      CA\n",
       "7       8        Ryan     Steve     Barlby      GB\n",
       "8       9  Sannareddy    Ramesh  Hyderabad      IN"
      ]
     },
     "execution_count": 18,
     "metadata": {},
     "output_type": "execute_result"
    }
   ],
   "source": [
    "query = '''\n",
    "            SELECT *\n",
    "            FROM Instructor\n",
    "        '''\n",
    "df = pd.read_sql_query(query, con)\n",
    "df"
   ]
  },
  {
   "cell_type": "markdown",
   "metadata": {},
   "source": [
    "2. Problem:\n",
    "\n",
    "    *Update the city and country for Sandip with id 4 to Dhaka and BD respectively.*\n",
    "\n",
    "<details>\n",
    "\t<summary>Click here for Hint</summary>\n",
    "\n",
    "Follow example 2 of the UPDATE exercise.\n",
    "\n",
    "</details>\n",
    "\n",
    "<details>\n",
    "\t<summary>Click here for Solution</summary>\n",
    "\n",
    "```sql\n",
    "UPDATE Instructor \n",
    "SET city='Dhaka', country='BD' \n",
    "WHERE ins_id=4;\n",
    "\n",
    "SELECT * FROM Instructor;\n",
    "```\n",
    "\n",
    "</details>\n",
    "\n",
    "<details>\n",
    "\t<summary>Click here for Output</summary>\n",
    "\n",
    "![](https://cf-courses-data.s3.us.cloud-object-storage.appdomain.cloud/IBMDeveloperSkillsNetwork-DB0201EN-SkillsNetwork/labs/Labs_Coursera_V5/labs/Lab%20-%20INSERT%20-%20UPDATE%20-%20DELETE/images/2.B.2.O.png)\n",
    "\n",
    "</details>"
   ]
  },
  {
   "cell_type": "code",
   "execution_count": 20,
   "metadata": {},
   "outputs": [
    {
     "data": {
      "text/plain": [
       "<sqlite3.Cursor at 0x204f22f8c70>"
      ]
     },
     "execution_count": 20,
     "metadata": {},
     "output_type": "execute_result"
    }
   ],
   "source": [
    "query = '''\n",
    "            UPDATE Instructor \n",
    "            SET city='Dhaka', country='BD'\n",
    "            WHERE ins_id=4;\n",
    "        '''\n",
    "cur.execute(query)"
   ]
  },
  {
   "cell_type": "code",
   "execution_count": 21,
   "metadata": {},
   "outputs": [
    {
     "data": {
      "text/html": [
       "<div>\n",
       "<style scoped>\n",
       "    .dataframe tbody tr th:only-of-type {\n",
       "        vertical-align: middle;\n",
       "    }\n",
       "\n",
       "    .dataframe tbody tr th {\n",
       "        vertical-align: top;\n",
       "    }\n",
       "\n",
       "    .dataframe thead th {\n",
       "        text-align: right;\n",
       "    }\n",
       "</style>\n",
       "<table border=\"1\" class=\"dataframe\">\n",
       "  <thead>\n",
       "    <tr style=\"text-align: right;\">\n",
       "      <th></th>\n",
       "      <th>ins_id</th>\n",
       "      <th>lastname</th>\n",
       "      <th>firstname</th>\n",
       "      <th>city</th>\n",
       "      <th>country</th>\n",
       "    </tr>\n",
       "  </thead>\n",
       "  <tbody>\n",
       "    <tr>\n",
       "      <th>0</th>\n",
       "      <td>1</td>\n",
       "      <td>Ahuja</td>\n",
       "      <td>Rav</td>\n",
       "      <td>Markham</td>\n",
       "      <td>CA</td>\n",
       "    </tr>\n",
       "    <tr>\n",
       "      <th>1</th>\n",
       "      <td>2</td>\n",
       "      <td>Chong</td>\n",
       "      <td>Raul</td>\n",
       "      <td>Toronto</td>\n",
       "      <td>CA</td>\n",
       "    </tr>\n",
       "    <tr>\n",
       "      <th>2</th>\n",
       "      <td>3</td>\n",
       "      <td>Vasudevan</td>\n",
       "      <td>Hima</td>\n",
       "      <td>Chicago</td>\n",
       "      <td>US</td>\n",
       "    </tr>\n",
       "    <tr>\n",
       "      <th>3</th>\n",
       "      <td>4</td>\n",
       "      <td>Saha</td>\n",
       "      <td>Sandip</td>\n",
       "      <td>Dhaka</td>\n",
       "      <td>BD</td>\n",
       "    </tr>\n",
       "    <tr>\n",
       "      <th>4</th>\n",
       "      <td>5</td>\n",
       "      <td>Doe</td>\n",
       "      <td>John</td>\n",
       "      <td>Dubai</td>\n",
       "      <td>AE</td>\n",
       "    </tr>\n",
       "    <tr>\n",
       "      <th>5</th>\n",
       "      <td>6</td>\n",
       "      <td>Doe</td>\n",
       "      <td>Jane</td>\n",
       "      <td>Dhaka</td>\n",
       "      <td>BD</td>\n",
       "    </tr>\n",
       "    <tr>\n",
       "      <th>6</th>\n",
       "      <td>7</td>\n",
       "      <td>Cangiano</td>\n",
       "      <td>Antonio</td>\n",
       "      <td>Vancouver</td>\n",
       "      <td>CA</td>\n",
       "    </tr>\n",
       "    <tr>\n",
       "      <th>7</th>\n",
       "      <td>8</td>\n",
       "      <td>Ryan</td>\n",
       "      <td>Steve</td>\n",
       "      <td>Barlby</td>\n",
       "      <td>GB</td>\n",
       "    </tr>\n",
       "    <tr>\n",
       "      <th>8</th>\n",
       "      <td>9</td>\n",
       "      <td>Sannareddy</td>\n",
       "      <td>Ramesh</td>\n",
       "      <td>Hyderabad</td>\n",
       "      <td>IN</td>\n",
       "    </tr>\n",
       "  </tbody>\n",
       "</table>\n",
       "</div>"
      ],
      "text/plain": [
       "   ins_id    lastname firstname       city country\n",
       "0       1       Ahuja       Rav    Markham      CA\n",
       "1       2       Chong      Raul    Toronto      CA\n",
       "2       3   Vasudevan      Hima    Chicago      US\n",
       "3       4        Saha    Sandip      Dhaka      BD\n",
       "4       5         Doe      John      Dubai      AE\n",
       "5       6         Doe      Jane      Dhaka      BD\n",
       "6       7    Cangiano   Antonio  Vancouver      CA\n",
       "7       8        Ryan     Steve     Barlby      GB\n",
       "8       9  Sannareddy    Ramesh  Hyderabad      IN"
      ]
     },
     "execution_count": 21,
     "metadata": {},
     "output_type": "execute_result"
    }
   ],
   "source": [
    "query = '''\n",
    "            SELECT *\n",
    "            FROM Instructor\n",
    "        '''\n",
    "df = pd.read_sql_query(query, con)\n",
    "df"
   ]
  },
  {
   "cell_type": "markdown",
   "metadata": {},
   "source": [
    "# Exercise 3: DELETE"
   ]
  },
  {
   "cell_type": "markdown",
   "metadata": {},
   "source": [
    "In this exercise, you will first go through an example of using DELETE in a query and then solve an exercise problem by using it."
   ]
  },
  {
   "cell_type": "markdown",
   "metadata": {},
   "source": [
    "## Task A: Example exercise on DELETE"
   ]
  },
  {
   "cell_type": "markdown",
   "metadata": {},
   "source": [
    "Let us go through an example of a DELETE related query:"
   ]
  },
  {
   "cell_type": "markdown",
   "metadata": {},
   "source": [
    "1. In this example, we want to remove a row from the table.\n",
    "\n",
    "    1. Problem:\n",
    "\n",
    "        *Remove the instructor record of Doe whose id is 6.*\n",
    "\n",
    "    2. Solution:\n",
    "    ```sql\n",
    "    DELETE FROM instructor\n",
    "    WHERE ins_id = 6;\n",
    "    ```\n",
    "\n",
    "    3. Copy the solution code above by clicking on the little copy button on the bottom right of the codeblock below and paste it to the textbox of the Datasette tool. Then click **Submit query**.\n",
    "\n",
    "    4. Copy the code below by clicking on the little copy button on the bottom right of the codeblock below and paste it to the textbox of the Datasette tool. Then click **Submit query**.\n",
    "    ```sql\n",
    "    SELECT * FROM Instructor;\n",
    "    ```\n",
    "\n",
    "    5. Your output resultset should match like below:\n",
    "    ![](https://cf-courses-data.s3.us.cloud-object-storage.appdomain.cloud/IBMDeveloperSkillsNetwork-DB0201EN-SkillsNetwork/labs/Labs_Coursera_V5/labs/Lab%20-%20INSERT%20-%20UPDATE%20-%20DELETE/images/3.A.1.5.png)"
   ]
  },
  {
   "cell_type": "code",
   "execution_count": 22,
   "metadata": {},
   "outputs": [
    {
     "data": {
      "text/plain": [
       "<sqlite3.Cursor at 0x204f22f8c70>"
      ]
     },
     "execution_count": 22,
     "metadata": {},
     "output_type": "execute_result"
    }
   ],
   "source": [
    "query = '''\n",
    "            DELETE FROM Instructor\n",
    "            WHERE ins_id=6;\n",
    "        '''\n",
    "cur.execute(query)"
   ]
  },
  {
   "cell_type": "code",
   "execution_count": 23,
   "metadata": {},
   "outputs": [
    {
     "data": {
      "text/html": [
       "<div>\n",
       "<style scoped>\n",
       "    .dataframe tbody tr th:only-of-type {\n",
       "        vertical-align: middle;\n",
       "    }\n",
       "\n",
       "    .dataframe tbody tr th {\n",
       "        vertical-align: top;\n",
       "    }\n",
       "\n",
       "    .dataframe thead th {\n",
       "        text-align: right;\n",
       "    }\n",
       "</style>\n",
       "<table border=\"1\" class=\"dataframe\">\n",
       "  <thead>\n",
       "    <tr style=\"text-align: right;\">\n",
       "      <th></th>\n",
       "      <th>ins_id</th>\n",
       "      <th>lastname</th>\n",
       "      <th>firstname</th>\n",
       "      <th>city</th>\n",
       "      <th>country</th>\n",
       "    </tr>\n",
       "  </thead>\n",
       "  <tbody>\n",
       "    <tr>\n",
       "      <th>0</th>\n",
       "      <td>1</td>\n",
       "      <td>Ahuja</td>\n",
       "      <td>Rav</td>\n",
       "      <td>Markham</td>\n",
       "      <td>CA</td>\n",
       "    </tr>\n",
       "    <tr>\n",
       "      <th>1</th>\n",
       "      <td>2</td>\n",
       "      <td>Chong</td>\n",
       "      <td>Raul</td>\n",
       "      <td>Toronto</td>\n",
       "      <td>CA</td>\n",
       "    </tr>\n",
       "    <tr>\n",
       "      <th>2</th>\n",
       "      <td>3</td>\n",
       "      <td>Vasudevan</td>\n",
       "      <td>Hima</td>\n",
       "      <td>Chicago</td>\n",
       "      <td>US</td>\n",
       "    </tr>\n",
       "    <tr>\n",
       "      <th>3</th>\n",
       "      <td>4</td>\n",
       "      <td>Saha</td>\n",
       "      <td>Sandip</td>\n",
       "      <td>Dhaka</td>\n",
       "      <td>BD</td>\n",
       "    </tr>\n",
       "    <tr>\n",
       "      <th>4</th>\n",
       "      <td>5</td>\n",
       "      <td>Doe</td>\n",
       "      <td>John</td>\n",
       "      <td>Dubai</td>\n",
       "      <td>AE</td>\n",
       "    </tr>\n",
       "    <tr>\n",
       "      <th>5</th>\n",
       "      <td>7</td>\n",
       "      <td>Cangiano</td>\n",
       "      <td>Antonio</td>\n",
       "      <td>Vancouver</td>\n",
       "      <td>CA</td>\n",
       "    </tr>\n",
       "    <tr>\n",
       "      <th>6</th>\n",
       "      <td>8</td>\n",
       "      <td>Ryan</td>\n",
       "      <td>Steve</td>\n",
       "      <td>Barlby</td>\n",
       "      <td>GB</td>\n",
       "    </tr>\n",
       "    <tr>\n",
       "      <th>7</th>\n",
       "      <td>9</td>\n",
       "      <td>Sannareddy</td>\n",
       "      <td>Ramesh</td>\n",
       "      <td>Hyderabad</td>\n",
       "      <td>IN</td>\n",
       "    </tr>\n",
       "  </tbody>\n",
       "</table>\n",
       "</div>"
      ],
      "text/plain": [
       "   ins_id    lastname firstname       city country\n",
       "0       1       Ahuja       Rav    Markham      CA\n",
       "1       2       Chong      Raul    Toronto      CA\n",
       "2       3   Vasudevan      Hima    Chicago      US\n",
       "3       4        Saha    Sandip      Dhaka      BD\n",
       "4       5         Doe      John      Dubai      AE\n",
       "5       7    Cangiano   Antonio  Vancouver      CA\n",
       "6       8        Ryan     Steve     Barlby      GB\n",
       "7       9  Sannareddy    Ramesh  Hyderabad      IN"
      ]
     },
     "execution_count": 23,
     "metadata": {},
     "output_type": "execute_result"
    }
   ],
   "source": [
    "query = '''\n",
    "            SELECT *\n",
    "            FROM Instructor\n",
    "        '''\n",
    "df = pd.read_sql_query(query, con)\n",
    "df"
   ]
  },
  {
   "cell_type": "markdown",
   "metadata": {},
   "source": [
    "## Task B: Practice exercise on DELETE"
   ]
  },
  {
   "cell_type": "markdown",
   "metadata": {},
   "source": [
    "Now, let us practice creating and running a DELETE related query."
   ]
  },
  {
   "cell_type": "markdown",
   "metadata": {},
   "source": [
    "1. Problem:\n",
    "\n",
    "    *Remove the instructor record of Hima.*\n",
    "\n",
    "<details>\n",
    "\t<summary>Click here for Hint</summary>\n",
    "\n",
    "Follow example 1 of the DELETE exercise.\n",
    "\n",
    "</details>\n",
    "\n",
    "<details>\n",
    "\t<summary>Click here for Solution</summary>\n",
    "\n",
    "```sql\n",
    "DELETE FROM instructor\n",
    "WHERE firstname = 'Hima';\n",
    "\n",
    "SELECT * FROM Instructor;\n",
    "```\n",
    "\n",
    "</details>\n",
    "\n",
    "<details>\n",
    "\t<summary>Click here for Output</summary>\n",
    "\n",
    "![](https://cf-courses-data.s3.us.cloud-object-storage.appdomain.cloud/IBMDeveloperSkillsNetwork-DB0201EN-SkillsNetwork/labs/Labs_Coursera_V5/labs/Lab%20-%20INSERT%20-%20UPDATE%20-%20DELETE/images/3.B.1.O.png)\n",
    "\n",
    "</details>"
   ]
  },
  {
   "cell_type": "code",
   "execution_count": 25,
   "metadata": {},
   "outputs": [
    {
     "data": {
      "text/plain": [
       "<sqlite3.Cursor at 0x204f22f8c70>"
      ]
     },
     "execution_count": 25,
     "metadata": {},
     "output_type": "execute_result"
    }
   ],
   "source": [
    "query = '''\n",
    "            DELETE FROM Instructor\n",
    "            WHERE firstname='Hima';\n",
    "        '''\n",
    "cur.execute(query)"
   ]
  },
  {
   "cell_type": "code",
   "execution_count": 26,
   "metadata": {},
   "outputs": [
    {
     "data": {
      "text/html": [
       "<div>\n",
       "<style scoped>\n",
       "    .dataframe tbody tr th:only-of-type {\n",
       "        vertical-align: middle;\n",
       "    }\n",
       "\n",
       "    .dataframe tbody tr th {\n",
       "        vertical-align: top;\n",
       "    }\n",
       "\n",
       "    .dataframe thead th {\n",
       "        text-align: right;\n",
       "    }\n",
       "</style>\n",
       "<table border=\"1\" class=\"dataframe\">\n",
       "  <thead>\n",
       "    <tr style=\"text-align: right;\">\n",
       "      <th></th>\n",
       "      <th>ins_id</th>\n",
       "      <th>lastname</th>\n",
       "      <th>firstname</th>\n",
       "      <th>city</th>\n",
       "      <th>country</th>\n",
       "    </tr>\n",
       "  </thead>\n",
       "  <tbody>\n",
       "    <tr>\n",
       "      <th>0</th>\n",
       "      <td>1</td>\n",
       "      <td>Ahuja</td>\n",
       "      <td>Rav</td>\n",
       "      <td>Markham</td>\n",
       "      <td>CA</td>\n",
       "    </tr>\n",
       "    <tr>\n",
       "      <th>1</th>\n",
       "      <td>2</td>\n",
       "      <td>Chong</td>\n",
       "      <td>Raul</td>\n",
       "      <td>Toronto</td>\n",
       "      <td>CA</td>\n",
       "    </tr>\n",
       "    <tr>\n",
       "      <th>2</th>\n",
       "      <td>4</td>\n",
       "      <td>Saha</td>\n",
       "      <td>Sandip</td>\n",
       "      <td>Dhaka</td>\n",
       "      <td>BD</td>\n",
       "    </tr>\n",
       "    <tr>\n",
       "      <th>3</th>\n",
       "      <td>5</td>\n",
       "      <td>Doe</td>\n",
       "      <td>John</td>\n",
       "      <td>Dubai</td>\n",
       "      <td>AE</td>\n",
       "    </tr>\n",
       "    <tr>\n",
       "      <th>4</th>\n",
       "      <td>7</td>\n",
       "      <td>Cangiano</td>\n",
       "      <td>Antonio</td>\n",
       "      <td>Vancouver</td>\n",
       "      <td>CA</td>\n",
       "    </tr>\n",
       "    <tr>\n",
       "      <th>5</th>\n",
       "      <td>8</td>\n",
       "      <td>Ryan</td>\n",
       "      <td>Steve</td>\n",
       "      <td>Barlby</td>\n",
       "      <td>GB</td>\n",
       "    </tr>\n",
       "    <tr>\n",
       "      <th>6</th>\n",
       "      <td>9</td>\n",
       "      <td>Sannareddy</td>\n",
       "      <td>Ramesh</td>\n",
       "      <td>Hyderabad</td>\n",
       "      <td>IN</td>\n",
       "    </tr>\n",
       "  </tbody>\n",
       "</table>\n",
       "</div>"
      ],
      "text/plain": [
       "   ins_id    lastname firstname       city country\n",
       "0       1       Ahuja       Rav    Markham      CA\n",
       "1       2       Chong      Raul    Toronto      CA\n",
       "2       4        Saha    Sandip      Dhaka      BD\n",
       "3       5         Doe      John      Dubai      AE\n",
       "4       7    Cangiano   Antonio  Vancouver      CA\n",
       "5       8        Ryan     Steve     Barlby      GB\n",
       "6       9  Sannareddy    Ramesh  Hyderabad      IN"
      ]
     },
     "execution_count": 26,
     "metadata": {},
     "output_type": "execute_result"
    }
   ],
   "source": [
    "query = '''\n",
    "            SELECT *\n",
    "            FROM Instructor\n",
    "        '''\n",
    "df = pd.read_sql_query(query, con)\n",
    "df"
   ]
  },
  {
   "cell_type": "markdown",
   "metadata": {},
   "source": [
    "## Congratulations! You have completed this Lab."
   ]
  },
  {
   "cell_type": "code",
   "execution_count": 27,
   "metadata": {},
   "outputs": [],
   "source": [
    "con.close()"
   ]
  },
  {
   "cell_type": "markdown",
   "metadata": {},
   "source": [
    "## Author(s)\n",
    "\n",
    "- [Sandip Saha Joy](https://www.linkedin.com/in/sandipsahajoy/?utm_medium=Exinfluencer&utm_source=Exinfluencer&utm_content=000026UJ&utm_term=10006555&utm_id=NA-SkillsNetwork-Channel-SkillsNetworkCoursesIBMDeveloperSkillsNetworkDB0201ENSkillsNetwork20127838-2022-01-01)"
   ]
  },
  {
   "cell_type": "markdown",
   "metadata": {},
   "source": [
    "## Other Contributor(s)\n",
    "\n",
    "- "
   ]
  },
  {
   "cell_type": "markdown",
   "metadata": {},
   "source": [
    "## Changelog\n",
    "\n",
    "| Date              | Version | Changed By          | Change Description      |\n",
    "| ----------------- | ------- | ------------------- | ----------------------- |\n",
    "| 2022-08-03        | 1.3     | Sathya Priya        | updated HTML tag        |\n",
    "| 2022-07-27        | 1.2     | Lakshmi Holla       | updated HTML tag        |\n",
    "| 2020-11-23        | 1.1     | Steve Ryan          | ID Review               |\n",
    "| 2020-11-30        | 1.0     | Sandip Saha Joy     | Initial version created |\n",
    "\n",
    "## <h3 align=\"center\"> © IBM Corporation 2020. All rights reserved. <h3/>"
   ]
  }
 ],
 "metadata": {
  "kernelspec": {
   "display_name": "Python 3.9.13 ('base')",
   "language": "python",
   "name": "python3"
  },
  "language_info": {
   "codemirror_mode": {
    "name": "ipython",
    "version": 3
   },
   "file_extension": ".py",
   "mimetype": "text/x-python",
   "name": "python",
   "nbconvert_exporter": "python",
   "pygments_lexer": "ipython3",
   "version": "3.9.13"
  },
  "orig_nbformat": 4,
  "vscode": {
   "interpreter": {
    "hash": "3cfd106f785ae1e288da74ae733f9b47f8a2699db986927140be0bc196406f4c"
   }
  }
 },
 "nbformat": 4,
 "nbformat_minor": 2
}
