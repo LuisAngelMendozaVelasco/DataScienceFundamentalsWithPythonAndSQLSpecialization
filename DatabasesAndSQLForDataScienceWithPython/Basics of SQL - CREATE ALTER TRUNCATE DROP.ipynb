{
 "cells": [
  {
   "cell_type": "markdown",
   "metadata": {},
   "source": [
    "![](https://cf-courses-data.s3.us.cloud-object-storage.appdomain.cloud/IBMDeveloperSkillsNetwork-DB0201EN-SkillsNetwork/labs/Labs_Coursera_V5/labs/Lab%20-%20INSERT%20-%20UPDATE%20-%20DELETE/images/IDSNlogo.png)"
   ]
  },
  {
   "cell_type": "markdown",
   "metadata": {},
   "source": [
    "# Hands-on Lab : CREATE, ALTER, TRUNCATE, DROP"
   ]
  },
  {
   "cell_type": "markdown",
   "metadata": {},
   "source": [
    "**Estimated time needed:** 15 minutes"
   ]
  },
  {
   "cell_type": "markdown",
   "metadata": {},
   "source": [
    "In this lab, you will learn some commonly used DDL (Data Definition Language) statements of SQL. First you will learn the CREATE statement, which is used to create a new table in a database. Next, you will learn the ALTER statement which is used to add, delete, or modify columns in an existing table. Then, you will learn the TRUNCATE statement which is used to remove all rows from an existing table without deleting the table itself. Lastly, you will learn the DROP statement which is used to delete an existing table in a database."
   ]
  },
  {
   "cell_type": "markdown",
   "metadata": {},
   "source": [
    "**How does the syntax of a CREATE statement look?**\n",
    "\n",
    "```sql\n",
    "CREATE TABLE table_name (\n",
    "    column1 datatype,\n",
    "    column2 datatype,\n",
    "    column3 datatype,\n",
    "   ....);\n",
    "```"
   ]
  },
  {
   "cell_type": "markdown",
   "metadata": {},
   "source": [
    "**How does the syntax of an ALTER statement look?**\n",
    "\n",
    "```sql\n",
    "ALTER TABLE table_name\n",
    "ADD COLUMN column_name data_type column_constraint;\n",
    "\n",
    "ALTER TABLE table_name\n",
    "DROP COLUMN column_name;\n",
    "\n",
    "ALTER TABLE table_name\n",
    "ALTER COLUMN column_name SET DATA TYPE data_type;\n",
    "\n",
    "ALTER TABLE table_name\n",
    "RENAME COLUMN current_column_name TO new_column_name;\n",
    "```"
   ]
  },
  {
   "cell_type": "markdown",
   "metadata": {},
   "source": [
    "**How does the syntax of a TRUNCATE statement look?**\n",
    "\n",
    "```sql\n",
    "TRUNCATE TABLE table_name;\n",
    "```"
   ]
  },
  {
   "cell_type": "markdown",
   "metadata": {},
   "source": [
    "**How does the syntax of a DROP statement look?**\n",
    "\n",
    "```sql\n",
    "DROP TABLE table_name;\n",
    "```"
   ]
  },
  {
   "cell_type": "markdown",
   "metadata": {},
   "source": [
    "## Software Used in this Lab"
   ]
  },
  {
   "cell_type": "markdown",
   "metadata": {},
   "source": [
    "In this lab, you will use [IBM Db2 Database](https://www.ibm.com/products/db2-database?utm_medium=Exinfluencer&utm_source=Exinfluencer&utm_content=000026UJ&utm_term=10006555&utm_id=NA-SkillsNetwork-Channel-SkillsNetworkCoursesIBMDeveloperSkillsNetworkDB0201ENSkillsNetwork20127838-2022-01-01). Db2 is a Relational Database Management System (RDBMS) from IBM, designed to store, analyze and retrieve the data efficiently.\n",
    "\n",
    "To complete this lab you will utilize a Db2 database service on IBM Cloud. If you did not already complete this lab task earlier in this module, you will not yet have access to Db2 on IBM Cloud, and you will need to follow this lab first:\n",
    "\n",
    "- [Hands-on Lab : Sign up for IBM Cloud, Create Db2 service instance and Get started with the Db2 console](https://cf-courses-data.s3.us.cloud-object-storage.appdomain.cloud/IBMDeveloperSkillsNetwork-DB0201EN-SkillsNetwork/labs/Labs_Coursera_V5/labs/Lab%20-%20Sign%20up%20for%20IBM%20Cloud%20-%20Create%20Db2%20service%20instance%20-%20Get%20started%20with%20the%20Db2%20console/instructional-labs.md.html)"
   ]
  },
  {
   "cell_type": "markdown",
   "metadata": {},
   "source": [
    "## Database Used in this Lab"
   ]
  },
  {
   "cell_type": "markdown",
   "metadata": {},
   "source": [
    "The databases used in this lab are internal databases."
   ]
  },
  {
   "cell_type": "markdown",
   "metadata": {},
   "source": [
    "## Objectives"
   ]
  },
  {
   "cell_type": "markdown",
   "metadata": {},
   "source": [
    "After completing this lab, you will be able to:\n",
    "\n",
    "- Create a new table in a database\n",
    "- Add, delete, or modify columns in an existing table\n",
    "- Remove all rows from an existing table without deleting the table itself\n",
    "- Delete an existing table in a database"
   ]
  },
  {
   "cell_type": "markdown",
   "metadata": {},
   "source": [
    "## Instructions"
   ]
  },
  {
   "cell_type": "markdown",
   "metadata": {},
   "source": [
    "When you approach the exercises in this lab, follow the instructions to run the queries on Db2:\n",
    "\n",
    "- Go to the [Resource List](https://cloud.ibm.com/resources?utm_medium=Exinfluencer&utm_source=Exinfluencer&utm_content=000026UJ&utm_term=10006555&utm_id=NA-SkillsNetwork-Channel-SkillsNetworkCoursesIBMDeveloperSkillsNetworkDB0201ENSkillsNetwork20127838-2022-01-01) of IBM Cloud by logging in where you can find the Db2 service instance that you created in a previous lab under **Services** section. Click on the **Db2-xx service**. Next, open the Db2 Console by clicking on **Open Console** button. Click on the 3-bar menu icon in the top left corner and go to the **Run SQL** page. The Run SQL tool enables you to run SQL statements.\n",
    "\n",
    "    - If needed, follow [Hands-on Lab : Sign up for IBM Cloud, Create Db2 service instance and Get started with the Db2 console](https://cf-courses-data.s3.us.cloud-object-storage.appdomain.cloud/IBMDeveloperSkillsNetwork-DB0201EN-SkillsNetwork/labs/Labs_Coursera_V5/labs/Lab%20-%20Sign%20up%20for%20IBM%20Cloud%20-%20Create%20Db2%20service%20instance%20-%20Get%20started%20with%20the%20Db2%20console/instructional-labs.md.html)"
   ]
  },
  {
   "cell_type": "code",
   "execution_count": 25,
   "metadata": {},
   "outputs": [],
   "source": [
    "import sqlite3\n",
    "import pandas as pd"
   ]
  },
  {
   "cell_type": "code",
   "execution_count": 26,
   "metadata": {},
   "outputs": [],
   "source": [
    "con = sqlite3.connect(\":memory:\")\n",
    "cur = con.cursor()"
   ]
  },
  {
   "cell_type": "markdown",
   "metadata": {},
   "source": [
    "# Exercise 1: CREATE"
   ]
  },
  {
   "cell_type": "markdown",
   "metadata": {},
   "source": [
    "In this exercise, you will use the CREATE statement to create two new tables using Db2."
   ]
  },
  {
   "cell_type": "markdown",
   "metadata": {},
   "source": [
    "1. You need to create two tables, **PETSALE** and **PET**. To create the two tables PETSALE and PET, copy the code below and paste it to the textbox of the **Run SQL** page. Click **Run all**.\n",
    "\n",
    "```sql\n",
    "CREATE TABLE PETSALE (\n",
    "    ID INTEGER NOT NULL,\n",
    "    PET CHAR(20),\n",
    "    SALEPRICE DECIMAL(6,2),\n",
    "    PROFIT DECIMAL(6,2),\n",
    "    SALEDATE DATE\n",
    "    );\n",
    "    \n",
    "CREATE TABLE PET (\n",
    "    ID INTEGER NOT NULL,\n",
    "    ANIMAL VARCHAR(20),\n",
    "    QUANTITY INTEGER\n",
    "    );\n",
    "```\n",
    "\n",
    "![](https://cf-courses-data.s3.us.cloud-object-storage.appdomain.cloud/IBMDeveloperSkillsNetwork-DB0201EN-SkillsNetwork/labs/Labs_Coursera_V5/labs/Lab%20-%20CREATE%20-%20ALTER%20-%20TRUNCATE%20-%20DROP/images/1.1.png)\n",
    "\n",
    "2. Now insert some records into the two newly created tables and show all the records of the two tables. Copy the code below and paste it to the textbox of the **Run SQL** page. Click **Run all**.\n",
    "\n",
    "```sql\n",
    "INSERT INTO PETSALE VALUES\n",
    "    (1,'Cat',450.09,100.47,'2018-05-29'),\n",
    "    (2,'Dog',666.66,150.76,'2018-06-01'),\n",
    "    (3,'Parrot',50.00,8.9,'2018-06-04'),\n",
    "    (4,'Hamster',60.60,12,'2018-06-11'),\n",
    "    (5,'Goldfish',48.48,3.5,'2018-06-14');\n",
    "    \n",
    "INSERT INTO PET VALUES\n",
    "    (1,'Cat',3),\n",
    "    (2,'Dog',4),\n",
    "    (3,'Hamster',2);\n",
    "    \n",
    "SELECT * FROM PETSALE;\n",
    "SELECT * FROM PET;\n",
    "```\n",
    "\n",
    "![](https://cf-courses-data.s3.us.cloud-object-storage.appdomain.cloud/IBMDeveloperSkillsNetwork-DB0201EN-SkillsNetwork/labs/Labs_Coursera_V5/labs/Lab%20-%20CREATE%20-%20ALTER%20-%20TRUNCATE%20-%20DROP/images/1.2.png)"
   ]
  },
  {
   "cell_type": "code",
   "execution_count": 27,
   "metadata": {},
   "outputs": [
    {
     "data": {
      "text/plain": [
       "<sqlite3.Cursor at 0x152042f6880>"
      ]
     },
     "execution_count": 27,
     "metadata": {},
     "output_type": "execute_result"
    }
   ],
   "source": [
    "query = '''\n",
    "            CREATE TABLE PETSALE (  ID INTEGER NOT NULL,\n",
    "                                    PET CHAR(20),\n",
    "                                    SALEPRICE DECIMAL(6, 2),\n",
    "                                    PROFIT DECIMAL(6, 2),\n",
    "                                    SALEDATE DATE);\n",
    "        '''\n",
    "cur.execute(query)"
   ]
  },
  {
   "cell_type": "code",
   "execution_count": 28,
   "metadata": {},
   "outputs": [
    {
     "data": {
      "text/plain": [
       "<sqlite3.Cursor at 0x152042f6880>"
      ]
     },
     "execution_count": 28,
     "metadata": {},
     "output_type": "execute_result"
    }
   ],
   "source": [
    "query = '''\n",
    "            CREATE TABLE PET (  ID INTEGER NOT NULL,\n",
    "                                ANIMAL VARCHAR(20),\n",
    "                                QUANTITY INTEGER);\n",
    "        '''\n",
    "cur.execute(query)            "
   ]
  },
  {
   "cell_type": "code",
   "execution_count": 29,
   "metadata": {},
   "outputs": [
    {
     "data": {
      "text/plain": [
       "<sqlite3.Cursor at 0x152042f6880>"
      ]
     },
     "execution_count": 29,
     "metadata": {},
     "output_type": "execute_result"
    }
   ],
   "source": [
    "query = '''\n",
    "            INSERT INTO PETSALE \n",
    "            VALUES  (1,'Cat',450.09,100.47,'2018-05-29'),\n",
    "                    (2,'Dog',666.66,150.76,'2018-06-01'),\n",
    "                    (3,'Parrot',50.00,8.9,'2018-06-04'),\n",
    "                    (4,'Hamster',60.60,12,'2018-06-11'),\n",
    "                    (5,'Goldfish',48.48,3.5,'2018-06-14');\n",
    "        '''\n",
    "cur.execute(query)        "
   ]
  },
  {
   "cell_type": "code",
   "execution_count": 30,
   "metadata": {},
   "outputs": [
    {
     "data": {
      "text/plain": [
       "<sqlite3.Cursor at 0x152042f6880>"
      ]
     },
     "execution_count": 30,
     "metadata": {},
     "output_type": "execute_result"
    }
   ],
   "source": [
    "query = '''\n",
    "            INSERT INTO PET \n",
    "            VALUES  (1,'Cat',3),\n",
    "                    (2,'Dog',4),\n",
    "                    (3,'Hamster',2);\n",
    "        '''\n",
    "cur.execute(query)   "
   ]
  },
  {
   "cell_type": "code",
   "execution_count": 31,
   "metadata": {},
   "outputs": [
    {
     "data": {
      "text/html": [
       "<div>\n",
       "<style scoped>\n",
       "    .dataframe tbody tr th:only-of-type {\n",
       "        vertical-align: middle;\n",
       "    }\n",
       "\n",
       "    .dataframe tbody tr th {\n",
       "        vertical-align: top;\n",
       "    }\n",
       "\n",
       "    .dataframe thead th {\n",
       "        text-align: right;\n",
       "    }\n",
       "</style>\n",
       "<table border=\"1\" class=\"dataframe\">\n",
       "  <thead>\n",
       "    <tr style=\"text-align: right;\">\n",
       "      <th></th>\n",
       "      <th>ID</th>\n",
       "      <th>PET</th>\n",
       "      <th>SALEPRICE</th>\n",
       "      <th>PROFIT</th>\n",
       "      <th>SALEDATE</th>\n",
       "    </tr>\n",
       "  </thead>\n",
       "  <tbody>\n",
       "    <tr>\n",
       "      <th>0</th>\n",
       "      <td>1</td>\n",
       "      <td>Cat</td>\n",
       "      <td>450.09</td>\n",
       "      <td>100.47</td>\n",
       "      <td>2018-05-29</td>\n",
       "    </tr>\n",
       "    <tr>\n",
       "      <th>1</th>\n",
       "      <td>2</td>\n",
       "      <td>Dog</td>\n",
       "      <td>666.66</td>\n",
       "      <td>150.76</td>\n",
       "      <td>2018-06-01</td>\n",
       "    </tr>\n",
       "    <tr>\n",
       "      <th>2</th>\n",
       "      <td>3</td>\n",
       "      <td>Parrot</td>\n",
       "      <td>50.00</td>\n",
       "      <td>8.90</td>\n",
       "      <td>2018-06-04</td>\n",
       "    </tr>\n",
       "    <tr>\n",
       "      <th>3</th>\n",
       "      <td>4</td>\n",
       "      <td>Hamster</td>\n",
       "      <td>60.60</td>\n",
       "      <td>12.00</td>\n",
       "      <td>2018-06-11</td>\n",
       "    </tr>\n",
       "    <tr>\n",
       "      <th>4</th>\n",
       "      <td>5</td>\n",
       "      <td>Goldfish</td>\n",
       "      <td>48.48</td>\n",
       "      <td>3.50</td>\n",
       "      <td>2018-06-14</td>\n",
       "    </tr>\n",
       "  </tbody>\n",
       "</table>\n",
       "</div>"
      ],
      "text/plain": [
       "   ID       PET  SALEPRICE  PROFIT    SALEDATE\n",
       "0   1       Cat     450.09  100.47  2018-05-29\n",
       "1   2       Dog     666.66  150.76  2018-06-01\n",
       "2   3    Parrot      50.00    8.90  2018-06-04\n",
       "3   4   Hamster      60.60   12.00  2018-06-11\n",
       "4   5  Goldfish      48.48    3.50  2018-06-14"
      ]
     },
     "execution_count": 31,
     "metadata": {},
     "output_type": "execute_result"
    }
   ],
   "source": [
    "query = '''\n",
    "            SELECT *\n",
    "            FROM PETSALE\n",
    "        '''\n",
    "df = pd.read_sql_query(query, con)\n",
    "df"
   ]
  },
  {
   "cell_type": "code",
   "execution_count": 32,
   "metadata": {},
   "outputs": [
    {
     "data": {
      "text/html": [
       "<div>\n",
       "<style scoped>\n",
       "    .dataframe tbody tr th:only-of-type {\n",
       "        vertical-align: middle;\n",
       "    }\n",
       "\n",
       "    .dataframe tbody tr th {\n",
       "        vertical-align: top;\n",
       "    }\n",
       "\n",
       "    .dataframe thead th {\n",
       "        text-align: right;\n",
       "    }\n",
       "</style>\n",
       "<table border=\"1\" class=\"dataframe\">\n",
       "  <thead>\n",
       "    <tr style=\"text-align: right;\">\n",
       "      <th></th>\n",
       "      <th>ID</th>\n",
       "      <th>ANIMAL</th>\n",
       "      <th>QUANTITY</th>\n",
       "    </tr>\n",
       "  </thead>\n",
       "  <tbody>\n",
       "    <tr>\n",
       "      <th>0</th>\n",
       "      <td>1</td>\n",
       "      <td>Cat</td>\n",
       "      <td>3</td>\n",
       "    </tr>\n",
       "    <tr>\n",
       "      <th>1</th>\n",
       "      <td>2</td>\n",
       "      <td>Dog</td>\n",
       "      <td>4</td>\n",
       "    </tr>\n",
       "    <tr>\n",
       "      <th>2</th>\n",
       "      <td>3</td>\n",
       "      <td>Hamster</td>\n",
       "      <td>2</td>\n",
       "    </tr>\n",
       "  </tbody>\n",
       "</table>\n",
       "</div>"
      ],
      "text/plain": [
       "   ID   ANIMAL  QUANTITY\n",
       "0   1      Cat         3\n",
       "1   2      Dog         4\n",
       "2   3  Hamster         2"
      ]
     },
     "execution_count": 32,
     "metadata": {},
     "output_type": "execute_result"
    }
   ],
   "source": [
    "query = '''\n",
    "            SELECT *\n",
    "            FROM PET\n",
    "        '''\n",
    "df = pd.read_sql_query(query, con)\n",
    "df"
   ]
  },
  {
   "cell_type": "markdown",
   "metadata": {},
   "source": [
    "# Exercise 2: ALTER"
   ]
  },
  {
   "cell_type": "markdown",
   "metadata": {},
   "source": [
    "In this exercise, you will use the ALTER statement to add, delete, or modify columns in two of the existing tables created in exercise 1."
   ]
  },
  {
   "cell_type": "markdown",
   "metadata": {},
   "source": [
    "## Task A: ALTER using ADD COLUMN"
   ]
  },
  {
   "cell_type": "markdown",
   "metadata": {},
   "source": [
    "1. Add a new **QUANTITY** column to the **PETSALE** table and show the altered table. Copy the code below and paste it to the textbox of the **Run SQL** page. Click **Run all**.\n",
    "\n",
    "```sql\n",
    "ALTER TABLE PETSALE\n",
    "ADD COLUMN QUANTITY INTEGER;\n",
    "\n",
    "SELECT * FROM PETSALE;\n",
    "```\n",
    "\n",
    "![](https://cf-courses-data.s3.us.cloud-object-storage.appdomain.cloud/IBMDeveloperSkillsNetwork-DB0201EN-SkillsNetwork/labs/Labs_Coursera_V5/labs/Lab%20-%20CREATE%20-%20ALTER%20-%20TRUNCATE%20-%20DROP/images/2.A.1.png)\n",
    "\n",
    "2. Now update the newly added **QUANTITY** column of the **PETSALE** table with some values and show all the records of the table. Copy the code below and paste it to the textbox of the **Run SQL** page. Click **Run all**.\n",
    "\n",
    "```sql\n",
    "UPDATE PETSALE SET QUANTITY = 9 WHERE ID = 1;\n",
    "UPDATE PETSALE SET QUANTITY = 3 WHERE ID = 2;\n",
    "UPDATE PETSALE SET QUANTITY = 2 WHERE ID = 3;\n",
    "UPDATE PETSALE SET QUANTITY = 6 WHERE ID = 4;\n",
    "UPDATE PETSALE SET QUANTITY = 24 WHERE ID = 5;\n",
    "\n",
    "SELECT * FROM PETSALE;\n",
    "```\n",
    "\n",
    "![](https://cf-courses-data.s3.us.cloud-object-storage.appdomain.cloud/IBMDeveloperSkillsNetwork-DB0201EN-SkillsNetwork/labs/Labs_Coursera_V5/labs/Lab%20-%20CREATE%20-%20ALTER%20-%20TRUNCATE%20-%20DROP/images/2.A.2.png)"
   ]
  },
  {
   "cell_type": "code",
   "execution_count": 33,
   "metadata": {},
   "outputs": [
    {
     "data": {
      "text/plain": [
       "<sqlite3.Cursor at 0x152042f6880>"
      ]
     },
     "execution_count": 33,
     "metadata": {},
     "output_type": "execute_result"
    }
   ],
   "source": [
    "query = '''\n",
    "            ALTER TABLE PETSALE\n",
    "            ADD COLUMN QUANTITY INTEGER;\n",
    "        '''\n",
    "cur.execute(query)"
   ]
  },
  {
   "cell_type": "code",
   "execution_count": 34,
   "metadata": {},
   "outputs": [
    {
     "data": {
      "text/html": [
       "<div>\n",
       "<style scoped>\n",
       "    .dataframe tbody tr th:only-of-type {\n",
       "        vertical-align: middle;\n",
       "    }\n",
       "\n",
       "    .dataframe tbody tr th {\n",
       "        vertical-align: top;\n",
       "    }\n",
       "\n",
       "    .dataframe thead th {\n",
       "        text-align: right;\n",
       "    }\n",
       "</style>\n",
       "<table border=\"1\" class=\"dataframe\">\n",
       "  <thead>\n",
       "    <tr style=\"text-align: right;\">\n",
       "      <th></th>\n",
       "      <th>ID</th>\n",
       "      <th>PET</th>\n",
       "      <th>SALEPRICE</th>\n",
       "      <th>PROFIT</th>\n",
       "      <th>SALEDATE</th>\n",
       "      <th>QUANTITY</th>\n",
       "    </tr>\n",
       "  </thead>\n",
       "  <tbody>\n",
       "    <tr>\n",
       "      <th>0</th>\n",
       "      <td>1</td>\n",
       "      <td>Cat</td>\n",
       "      <td>450.09</td>\n",
       "      <td>100.47</td>\n",
       "      <td>2018-05-29</td>\n",
       "      <td>None</td>\n",
       "    </tr>\n",
       "    <tr>\n",
       "      <th>1</th>\n",
       "      <td>2</td>\n",
       "      <td>Dog</td>\n",
       "      <td>666.66</td>\n",
       "      <td>150.76</td>\n",
       "      <td>2018-06-01</td>\n",
       "      <td>None</td>\n",
       "    </tr>\n",
       "    <tr>\n",
       "      <th>2</th>\n",
       "      <td>3</td>\n",
       "      <td>Parrot</td>\n",
       "      <td>50.00</td>\n",
       "      <td>8.90</td>\n",
       "      <td>2018-06-04</td>\n",
       "      <td>None</td>\n",
       "    </tr>\n",
       "    <tr>\n",
       "      <th>3</th>\n",
       "      <td>4</td>\n",
       "      <td>Hamster</td>\n",
       "      <td>60.60</td>\n",
       "      <td>12.00</td>\n",
       "      <td>2018-06-11</td>\n",
       "      <td>None</td>\n",
       "    </tr>\n",
       "    <tr>\n",
       "      <th>4</th>\n",
       "      <td>5</td>\n",
       "      <td>Goldfish</td>\n",
       "      <td>48.48</td>\n",
       "      <td>3.50</td>\n",
       "      <td>2018-06-14</td>\n",
       "      <td>None</td>\n",
       "    </tr>\n",
       "  </tbody>\n",
       "</table>\n",
       "</div>"
      ],
      "text/plain": [
       "   ID       PET  SALEPRICE  PROFIT    SALEDATE QUANTITY\n",
       "0   1       Cat     450.09  100.47  2018-05-29     None\n",
       "1   2       Dog     666.66  150.76  2018-06-01     None\n",
       "2   3    Parrot      50.00    8.90  2018-06-04     None\n",
       "3   4   Hamster      60.60   12.00  2018-06-11     None\n",
       "4   5  Goldfish      48.48    3.50  2018-06-14     None"
      ]
     },
     "execution_count": 34,
     "metadata": {},
     "output_type": "execute_result"
    }
   ],
   "source": [
    "query = '''\n",
    "            SELECT *\n",
    "            FROM PETSALE\n",
    "        '''\n",
    "df = pd.read_sql_query(query, con)\n",
    "df"
   ]
  },
  {
   "cell_type": "code",
   "execution_count": 35,
   "metadata": {},
   "outputs": [],
   "source": [
    "quantities = [9, 3, 2, 6, 24]\n",
    "ids = [1, 2, 3, 4, 5]\n",
    "\n",
    "for quantity, id in list(zip(quantities, ids)):\n",
    "   query =  '''\n",
    "               UPDATE PETSALE \n",
    "               SET QUANTITY={} \n",
    "               WHERE ID={}\n",
    "            '''.format(quantity, id)\n",
    "   cur.execute(query)"
   ]
  },
  {
   "cell_type": "code",
   "execution_count": 36,
   "metadata": {},
   "outputs": [
    {
     "data": {
      "text/html": [
       "<div>\n",
       "<style scoped>\n",
       "    .dataframe tbody tr th:only-of-type {\n",
       "        vertical-align: middle;\n",
       "    }\n",
       "\n",
       "    .dataframe tbody tr th {\n",
       "        vertical-align: top;\n",
       "    }\n",
       "\n",
       "    .dataframe thead th {\n",
       "        text-align: right;\n",
       "    }\n",
       "</style>\n",
       "<table border=\"1\" class=\"dataframe\">\n",
       "  <thead>\n",
       "    <tr style=\"text-align: right;\">\n",
       "      <th></th>\n",
       "      <th>ID</th>\n",
       "      <th>PET</th>\n",
       "      <th>SALEPRICE</th>\n",
       "      <th>PROFIT</th>\n",
       "      <th>SALEDATE</th>\n",
       "      <th>QUANTITY</th>\n",
       "    </tr>\n",
       "  </thead>\n",
       "  <tbody>\n",
       "    <tr>\n",
       "      <th>0</th>\n",
       "      <td>1</td>\n",
       "      <td>Cat</td>\n",
       "      <td>450.09</td>\n",
       "      <td>100.47</td>\n",
       "      <td>2018-05-29</td>\n",
       "      <td>9</td>\n",
       "    </tr>\n",
       "    <tr>\n",
       "      <th>1</th>\n",
       "      <td>2</td>\n",
       "      <td>Dog</td>\n",
       "      <td>666.66</td>\n",
       "      <td>150.76</td>\n",
       "      <td>2018-06-01</td>\n",
       "      <td>3</td>\n",
       "    </tr>\n",
       "    <tr>\n",
       "      <th>2</th>\n",
       "      <td>3</td>\n",
       "      <td>Parrot</td>\n",
       "      <td>50.00</td>\n",
       "      <td>8.90</td>\n",
       "      <td>2018-06-04</td>\n",
       "      <td>2</td>\n",
       "    </tr>\n",
       "    <tr>\n",
       "      <th>3</th>\n",
       "      <td>4</td>\n",
       "      <td>Hamster</td>\n",
       "      <td>60.60</td>\n",
       "      <td>12.00</td>\n",
       "      <td>2018-06-11</td>\n",
       "      <td>6</td>\n",
       "    </tr>\n",
       "    <tr>\n",
       "      <th>4</th>\n",
       "      <td>5</td>\n",
       "      <td>Goldfish</td>\n",
       "      <td>48.48</td>\n",
       "      <td>3.50</td>\n",
       "      <td>2018-06-14</td>\n",
       "      <td>24</td>\n",
       "    </tr>\n",
       "  </tbody>\n",
       "</table>\n",
       "</div>"
      ],
      "text/plain": [
       "   ID       PET  SALEPRICE  PROFIT    SALEDATE  QUANTITY\n",
       "0   1       Cat     450.09  100.47  2018-05-29         9\n",
       "1   2       Dog     666.66  150.76  2018-06-01         3\n",
       "2   3    Parrot      50.00    8.90  2018-06-04         2\n",
       "3   4   Hamster      60.60   12.00  2018-06-11         6\n",
       "4   5  Goldfish      48.48    3.50  2018-06-14        24"
      ]
     },
     "execution_count": 36,
     "metadata": {},
     "output_type": "execute_result"
    }
   ],
   "source": [
    "query = '''\n",
    "            SELECT *\n",
    "            FROM PETSALE\n",
    "        '''\n",
    "df = pd.read_sql_query(query, con)\n",
    "df"
   ]
  },
  {
   "cell_type": "markdown",
   "metadata": {},
   "source": [
    "## Task B: ALTER using DROP COLUMN"
   ]
  },
  {
   "cell_type": "markdown",
   "metadata": {},
   "source": [
    "1. Delete the **PROFIT** column from the **PETSALE** table and show the altered table. Copy the code below and paste it to the textbox of the **Run SQL** page. Click **Run all**.\n",
    "\n",
    "```sql\n",
    "ALTER TABLE PETSALE\n",
    "DROP COLUMN PROFIT;\n",
    "\n",
    "SELECT * FROM PETSALE;\n",
    "```\n",
    "\n",
    "![](https://cf-courses-data.s3.us.cloud-object-storage.appdomain.cloud/IBMDeveloperSkillsNetwork-DB0201EN-SkillsNetwork/labs/Labs_Coursera_V5/labs/Lab%20-%20CREATE%20-%20ALTER%20-%20TRUNCATE%20-%20DROP/images/2.B.1.png)"
   ]
  },
  {
   "cell_type": "code",
   "execution_count": 37,
   "metadata": {},
   "outputs": [
    {
     "data": {
      "text/plain": [
       "<sqlite3.Cursor at 0x152042f6880>"
      ]
     },
     "execution_count": 37,
     "metadata": {},
     "output_type": "execute_result"
    }
   ],
   "source": [
    "query = '''\n",
    "            ALTER TABLE PETSALE\n",
    "            DROP COLUMN PROFIT;\n",
    "        '''\n",
    "cur.execute(query)"
   ]
  },
  {
   "cell_type": "code",
   "execution_count": 38,
   "metadata": {},
   "outputs": [
    {
     "data": {
      "text/html": [
       "<div>\n",
       "<style scoped>\n",
       "    .dataframe tbody tr th:only-of-type {\n",
       "        vertical-align: middle;\n",
       "    }\n",
       "\n",
       "    .dataframe tbody tr th {\n",
       "        vertical-align: top;\n",
       "    }\n",
       "\n",
       "    .dataframe thead th {\n",
       "        text-align: right;\n",
       "    }\n",
       "</style>\n",
       "<table border=\"1\" class=\"dataframe\">\n",
       "  <thead>\n",
       "    <tr style=\"text-align: right;\">\n",
       "      <th></th>\n",
       "      <th>ID</th>\n",
       "      <th>PET</th>\n",
       "      <th>SALEPRICE</th>\n",
       "      <th>SALEDATE</th>\n",
       "      <th>QUANTITY</th>\n",
       "    </tr>\n",
       "  </thead>\n",
       "  <tbody>\n",
       "    <tr>\n",
       "      <th>0</th>\n",
       "      <td>1</td>\n",
       "      <td>Cat</td>\n",
       "      <td>450.09</td>\n",
       "      <td>2018-05-29</td>\n",
       "      <td>9</td>\n",
       "    </tr>\n",
       "    <tr>\n",
       "      <th>1</th>\n",
       "      <td>2</td>\n",
       "      <td>Dog</td>\n",
       "      <td>666.66</td>\n",
       "      <td>2018-06-01</td>\n",
       "      <td>3</td>\n",
       "    </tr>\n",
       "    <tr>\n",
       "      <th>2</th>\n",
       "      <td>3</td>\n",
       "      <td>Parrot</td>\n",
       "      <td>50.00</td>\n",
       "      <td>2018-06-04</td>\n",
       "      <td>2</td>\n",
       "    </tr>\n",
       "    <tr>\n",
       "      <th>3</th>\n",
       "      <td>4</td>\n",
       "      <td>Hamster</td>\n",
       "      <td>60.60</td>\n",
       "      <td>2018-06-11</td>\n",
       "      <td>6</td>\n",
       "    </tr>\n",
       "    <tr>\n",
       "      <th>4</th>\n",
       "      <td>5</td>\n",
       "      <td>Goldfish</td>\n",
       "      <td>48.48</td>\n",
       "      <td>2018-06-14</td>\n",
       "      <td>24</td>\n",
       "    </tr>\n",
       "  </tbody>\n",
       "</table>\n",
       "</div>"
      ],
      "text/plain": [
       "   ID       PET  SALEPRICE    SALEDATE  QUANTITY\n",
       "0   1       Cat     450.09  2018-05-29         9\n",
       "1   2       Dog     666.66  2018-06-01         3\n",
       "2   3    Parrot      50.00  2018-06-04         2\n",
       "3   4   Hamster      60.60  2018-06-11         6\n",
       "4   5  Goldfish      48.48  2018-06-14        24"
      ]
     },
     "execution_count": 38,
     "metadata": {},
     "output_type": "execute_result"
    }
   ],
   "source": [
    "query = '''\n",
    "            SELECT *\n",
    "            FROM PETSALE\n",
    "        '''\n",
    "df = pd.read_sql_query(query, con)\n",
    "df"
   ]
  },
  {
   "cell_type": "markdown",
   "metadata": {},
   "source": [
    "## Task C: ALTER using ALTER COLUMN"
   ]
  },
  {
   "cell_type": "markdown",
   "metadata": {},
   "source": [
    "1. Change the data type to **VARCHAR(20)** type of the column **PET** of the table **PETSALE** and show the altered table. Copy the code below and paste it to the textbox of the **Run SQL** page. Click **Run all**.\n",
    "\n",
    "```sql\n",
    "ALTER TABLE PETSALE\n",
    "ALTER COLUMN PET SET DATA TYPE VARCHAR(20);\n",
    "\n",
    "SELECT * FROM PETSALE;\n",
    "```\n",
    "\n",
    "![](https://cf-courses-data.s3.us.cloud-object-storage.appdomain.cloud/IBMDeveloperSkillsNetwork-DB0201EN-SkillsNetwork/labs/Labs_Coursera_V5/labs/Lab%20-%20CREATE%20-%20ALTER%20-%20TRUNCATE%20-%20DROP/images/2.C.1.png)\n",
    "\n",
    "2. Now verify if the data type of the column **PET** of the table **PETSALE** changed to **VARCHAR(20)** type or not. Click on the 3 bar menu icon in the top left corner and click **Explore > Tables**. Find the **PETSALE** table from Schemas by clicking **Select All**. Click on the **PETSALE** table to open the Table Definition page of the table. Here, you can see all the current data type of the columns of the **PETSALE** table.\n",
    "\n",
    "![](https://cf-courses-data.s3.us.cloud-object-storage.appdomain.cloud/IBMDeveloperSkillsNetwork-DB0201EN-SkillsNetwork/labs/Labs_Coursera_V5/labs/Lab%20-%20CREATE%20-%20ALTER%20-%20TRUNCATE%20-%20DROP/images/2.C.2.png)"
   ]
  },
  {
   "cell_type": "code",
   "execution_count": 39,
   "metadata": {},
   "outputs": [],
   "source": [
    "# query = '''\n",
    "#             ALTER TABLE PETSALE\n",
    "#             ALTER COLUMN PET SET DATA TYPE VARCHAR(20);\n",
    "#         '''\n",
    "# cur.execute(query)"
   ]
  },
  {
   "cell_type": "code",
   "execution_count": 42,
   "metadata": {},
   "outputs": [
    {
     "data": {
      "text/html": [
       "<div>\n",
       "<style scoped>\n",
       "    .dataframe tbody tr th:only-of-type {\n",
       "        vertical-align: middle;\n",
       "    }\n",
       "\n",
       "    .dataframe tbody tr th {\n",
       "        vertical-align: top;\n",
       "    }\n",
       "\n",
       "    .dataframe thead th {\n",
       "        text-align: right;\n",
       "    }\n",
       "</style>\n",
       "<table border=\"1\" class=\"dataframe\">\n",
       "  <thead>\n",
       "    <tr style=\"text-align: right;\">\n",
       "      <th></th>\n",
       "      <th>typeof(PET)</th>\n",
       "    </tr>\n",
       "  </thead>\n",
       "  <tbody>\n",
       "    <tr>\n",
       "      <th>0</th>\n",
       "      <td>text</td>\n",
       "    </tr>\n",
       "  </tbody>\n",
       "</table>\n",
       "</div>"
      ],
      "text/plain": [
       "  typeof(PET)\n",
       "0        text"
      ]
     },
     "execution_count": 42,
     "metadata": {},
     "output_type": "execute_result"
    }
   ],
   "source": [
    "query = '''\n",
    "            SELECT DISTINCT typeof(PET)\n",
    "            FROM PETSALE\n",
    "        '''\n",
    "df = pd.read_sql_query(query, con)\n",
    "df"
   ]
  },
  {
   "cell_type": "markdown",
   "metadata": {},
   "source": [
    "## Task D: ALTER using RENAME COLUMN"
   ]
  },
  {
   "cell_type": "markdown",
   "metadata": {},
   "source": [
    "1. Rename the column **PET** to **ANIMAL** of the **PETSALE** table and show the altered table. Copy the code below and paste it to the textbox of the **Run SQL** page. Click **Run all**.\n",
    "\n",
    "```sql\n",
    "ALTER TABLE PETSALE\n",
    "RENAME COLUMN PET TO ANIMAL;\n",
    "\n",
    "SELECT * FROM PETSALE;\n",
    "```\n",
    "\n",
    "![](https://cf-courses-data.s3.us.cloud-object-storage.appdomain.cloud/IBMDeveloperSkillsNetwork-DB0201EN-SkillsNetwork/labs/Labs_Coursera_V5/labs/Lab%20-%20CREATE%20-%20ALTER%20-%20TRUNCATE%20-%20DROP/images/2.D.1.png)"
   ]
  },
  {
   "cell_type": "code",
   "execution_count": 43,
   "metadata": {},
   "outputs": [
    {
     "data": {
      "text/plain": [
       "<sqlite3.Cursor at 0x152042f6880>"
      ]
     },
     "execution_count": 43,
     "metadata": {},
     "output_type": "execute_result"
    }
   ],
   "source": [
    "query = '''\n",
    "            ALTER TABLE PETSALE\n",
    "            RENAME COLUMN PET TO ANIMAL;\n",
    "        '''\n",
    "cur.execute(query)"
   ]
  },
  {
   "cell_type": "code",
   "execution_count": 44,
   "metadata": {},
   "outputs": [
    {
     "data": {
      "text/html": [
       "<div>\n",
       "<style scoped>\n",
       "    .dataframe tbody tr th:only-of-type {\n",
       "        vertical-align: middle;\n",
       "    }\n",
       "\n",
       "    .dataframe tbody tr th {\n",
       "        vertical-align: top;\n",
       "    }\n",
       "\n",
       "    .dataframe thead th {\n",
       "        text-align: right;\n",
       "    }\n",
       "</style>\n",
       "<table border=\"1\" class=\"dataframe\">\n",
       "  <thead>\n",
       "    <tr style=\"text-align: right;\">\n",
       "      <th></th>\n",
       "      <th>ID</th>\n",
       "      <th>ANIMAL</th>\n",
       "      <th>SALEPRICE</th>\n",
       "      <th>SALEDATE</th>\n",
       "      <th>QUANTITY</th>\n",
       "    </tr>\n",
       "  </thead>\n",
       "  <tbody>\n",
       "    <tr>\n",
       "      <th>0</th>\n",
       "      <td>1</td>\n",
       "      <td>Cat</td>\n",
       "      <td>450.09</td>\n",
       "      <td>2018-05-29</td>\n",
       "      <td>9</td>\n",
       "    </tr>\n",
       "    <tr>\n",
       "      <th>1</th>\n",
       "      <td>2</td>\n",
       "      <td>Dog</td>\n",
       "      <td>666.66</td>\n",
       "      <td>2018-06-01</td>\n",
       "      <td>3</td>\n",
       "    </tr>\n",
       "    <tr>\n",
       "      <th>2</th>\n",
       "      <td>3</td>\n",
       "      <td>Parrot</td>\n",
       "      <td>50.00</td>\n",
       "      <td>2018-06-04</td>\n",
       "      <td>2</td>\n",
       "    </tr>\n",
       "    <tr>\n",
       "      <th>3</th>\n",
       "      <td>4</td>\n",
       "      <td>Hamster</td>\n",
       "      <td>60.60</td>\n",
       "      <td>2018-06-11</td>\n",
       "      <td>6</td>\n",
       "    </tr>\n",
       "    <tr>\n",
       "      <th>4</th>\n",
       "      <td>5</td>\n",
       "      <td>Goldfish</td>\n",
       "      <td>48.48</td>\n",
       "      <td>2018-06-14</td>\n",
       "      <td>24</td>\n",
       "    </tr>\n",
       "  </tbody>\n",
       "</table>\n",
       "</div>"
      ],
      "text/plain": [
       "   ID    ANIMAL  SALEPRICE    SALEDATE  QUANTITY\n",
       "0   1       Cat     450.09  2018-05-29         9\n",
       "1   2       Dog     666.66  2018-06-01         3\n",
       "2   3    Parrot      50.00  2018-06-04         2\n",
       "3   4   Hamster      60.60  2018-06-11         6\n",
       "4   5  Goldfish      48.48  2018-06-14        24"
      ]
     },
     "execution_count": 44,
     "metadata": {},
     "output_type": "execute_result"
    }
   ],
   "source": [
    "query = '''\n",
    "            SELECT *\n",
    "            FROM PETSALE\n",
    "        '''\n",
    "df = pd.read_sql_query(query, con)\n",
    "df"
   ]
  },
  {
   "cell_type": "markdown",
   "metadata": {},
   "source": [
    "# Exercise 3: TRUNCATE"
   ]
  },
  {
   "cell_type": "markdown",
   "metadata": {},
   "source": [
    "In this exercise, you will use the TRUNCATE statement to remove all rows from an existing table created in exercise 1 without deleting the table itself."
   ]
  },
  {
   "cell_type": "markdown",
   "metadata": {},
   "source": [
    "1. Remove all rows from the **PET** table and show the empty table. Copy the code below and paste it to the textbox of the **Run SQL** page. Click **Run all**.\n",
    "\n",
    "```sql\n",
    "TRUNCATE TABLE PET IMMEDIATE;\n",
    "\n",
    "SELECT * FROM PET;\n",
    "```\n",
    "\n",
    "![](https://cf-courses-data.s3.us.cloud-object-storage.appdomain.cloud/IBMDeveloperSkillsNetwork-DB0201EN-SkillsNetwork/labs/Labs_Coursera_V5/labs/Lab%20-%20CREATE%20-%20ALTER%20-%20TRUNCATE%20-%20DROP/images/3.1.png)"
   ]
  },
  {
   "cell_type": "code",
   "execution_count": 45,
   "metadata": {},
   "outputs": [
    {
     "data": {
      "text/plain": [
       "<sqlite3.Cursor at 0x152042f6880>"
      ]
     },
     "execution_count": 45,
     "metadata": {},
     "output_type": "execute_result"
    }
   ],
   "source": [
    "query = '''\n",
    "            DELETE\n",
    "            FROM PET;\n",
    "        '''\n",
    "cur.execute(query)"
   ]
  },
  {
   "cell_type": "code",
   "execution_count": 46,
   "metadata": {},
   "outputs": [
    {
     "data": {
      "text/html": [
       "<div>\n",
       "<style scoped>\n",
       "    .dataframe tbody tr th:only-of-type {\n",
       "        vertical-align: middle;\n",
       "    }\n",
       "\n",
       "    .dataframe tbody tr th {\n",
       "        vertical-align: top;\n",
       "    }\n",
       "\n",
       "    .dataframe thead th {\n",
       "        text-align: right;\n",
       "    }\n",
       "</style>\n",
       "<table border=\"1\" class=\"dataframe\">\n",
       "  <thead>\n",
       "    <tr style=\"text-align: right;\">\n",
       "      <th></th>\n",
       "      <th>ID</th>\n",
       "      <th>ANIMAL</th>\n",
       "      <th>QUANTITY</th>\n",
       "    </tr>\n",
       "  </thead>\n",
       "  <tbody>\n",
       "  </tbody>\n",
       "</table>\n",
       "</div>"
      ],
      "text/plain": [
       "Empty DataFrame\n",
       "Columns: [ID, ANIMAL, QUANTITY]\n",
       "Index: []"
      ]
     },
     "execution_count": 46,
     "metadata": {},
     "output_type": "execute_result"
    }
   ],
   "source": [
    "query = '''\n",
    "            SELECT *\n",
    "            FROM PET\n",
    "        '''\n",
    "df = pd.read_sql_query(query, con)\n",
    "df"
   ]
  },
  {
   "cell_type": "markdown",
   "metadata": {},
   "source": [
    "# Exercise 4: DROP"
   ]
  },
  {
   "cell_type": "markdown",
   "metadata": {},
   "source": [
    "In this exercise, you will use the DROP statement to delete an existing table created in exercise 1."
   ]
  },
  {
   "cell_type": "markdown",
   "metadata": {},
   "source": [
    "1. Delete the **PET** table and verify if the table still exists or not (SELECT statement won't work if a table doesn't exist). Copy the code below and paste it to the textbox of the **Run SQL** page. Click **Run all**.\n",
    "\n",
    "```sql\n",
    "DROP TABLE PET;\n",
    "\n",
    "SELECT * FROM PET;\n",
    "```\n",
    "\n",
    "![](https://cf-courses-data.s3.us.cloud-object-storage.appdomain.cloud/IBMDeveloperSkillsNetwork-DB0201EN-SkillsNetwork/labs/Labs_Coursera_V5/labs/Lab%20-%20CREATE%20-%20ALTER%20-%20TRUNCATE%20-%20DROP/images/4.1.png)"
   ]
  },
  {
   "cell_type": "code",
   "execution_count": 47,
   "metadata": {},
   "outputs": [
    {
     "data": {
      "text/plain": [
       "<sqlite3.Cursor at 0x152042f6880>"
      ]
     },
     "execution_count": 47,
     "metadata": {},
     "output_type": "execute_result"
    }
   ],
   "source": [
    "query = '''\n",
    "            DROP TABLE PET\n",
    "        '''\n",
    "cur.execute(query)"
   ]
  },
  {
   "cell_type": "code",
   "execution_count": 48,
   "metadata": {},
   "outputs": [
    {
     "name": "stdout",
     "output_type": "stream",
     "text": [
      "Execution failed on sql '\n",
      "            SELECT *\n",
      "            FROM PET\n",
      "        ': no such table: PET\n"
     ]
    }
   ],
   "source": [
    "query = '''\n",
    "            SELECT *\n",
    "            FROM PET\n",
    "        '''\n",
    "        \n",
    "try: \n",
    "    df = pd.read_sql_query(query, con)\n",
    "    df\n",
    "except Exception as e: \n",
    "    print(e)"
   ]
  },
  {
   "cell_type": "markdown",
   "metadata": {},
   "source": [
    "## Congratulations! You have completed this Lab. You are ready for the next topic."
   ]
  },
  {
   "cell_type": "code",
   "execution_count": 49,
   "metadata": {},
   "outputs": [],
   "source": [
    "con.close()"
   ]
  },
  {
   "cell_type": "markdown",
   "metadata": {},
   "source": [
    "## Author(s)\n",
    "\n",
    "- [Sandip Saha Joy](https://www.linkedin.com/in/sandipsahajoy/?utm_medium=Exinfluencer&utm_source=Exinfluencer&utm_content=000026UJ&utm_term=10006555&utm_id=NA-SkillsNetwork-Channel-SkillsNetworkCoursesIBMDeveloperSkillsNetworkDB0201ENSkillsNetwork20127838-2022-01-01)"
   ]
  },
  {
   "cell_type": "markdown",
   "metadata": {},
   "source": [
    "## Other Contributor(s)\n",
    "\n",
    "- "
   ]
  },
  {
   "cell_type": "markdown",
   "metadata": {},
   "source": [
    "## Changelog\n",
    "\n",
    "| Date              | Version | Changed By          | Change Description      |\n",
    "| ----------------- | ------- | ------------------- | ----------------------- |\n",
    "| 2020-12-24        | 1.1     | Steve Ryan          | ID Review               |\n",
    "| 2020-12-07        | 1.0     | Sandip Saha Joy     | Initial version created |\n",
    "\n",
    "## <h3 align=\"center\"> © IBM Corporation 2020. All rights reserved. <h3/>"
   ]
  }
 ],
 "metadata": {
  "kernelspec": {
   "display_name": "Python 3.9.13 ('base')",
   "language": "python",
   "name": "python3"
  },
  "language_info": {
   "codemirror_mode": {
    "name": "ipython",
    "version": 3
   },
   "file_extension": ".py",
   "mimetype": "text/x-python",
   "name": "python",
   "nbconvert_exporter": "python",
   "pygments_lexer": "ipython3",
   "version": "3.9.13"
  },
  "orig_nbformat": 4,
  "vscode": {
   "interpreter": {
    "hash": "3cfd106f785ae1e288da74ae733f9b47f8a2699db986927140be0bc196406f4c"
   }
  }
 },
 "nbformat": 4,
 "nbformat_minor": 2
}
