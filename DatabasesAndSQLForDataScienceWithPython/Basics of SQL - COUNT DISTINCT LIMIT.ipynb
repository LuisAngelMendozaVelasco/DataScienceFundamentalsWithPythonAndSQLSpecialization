{
 "cells": [
  {
   "cell_type": "markdown",
   "metadata": {},
   "source": [
    "![](https://cf-courses-data.s3.us.cloud-object-storage.appdomain.cloud/IBMDeveloperSkillsNetwork-DB0201EN-SkillsNetwork/labs/Labs_Coursera_V5/labs/Lab%20-%20INSERT%20-%20UPDATE%20-%20DELETE/images/IDSNlogo.png)"
   ]
  },
  {
   "cell_type": "markdown",
   "metadata": {},
   "source": [
    "# Hands-on Lab : COUNT, DISTINCT, LIMIT"
   ]
  },
  {
   "cell_type": "markdown",
   "metadata": {},
   "source": [
    "**Estimated time needed:** 35 minutes"
   ]
  },
  {
   "cell_type": "markdown",
   "metadata": {},
   "source": [
    "In this lab, you will learn a few useful expressions that are used with SELECT statements. First, you will learn COUNT, which is an aggregate function that retrieves the number of rows that matches the query criteria. Next, you will learn DISTINCT, which is used to remove duplicate values from a specified result set and only return the unique values. Lastly, you will learn LIMIT, which is used for restricting the number of rows retrieved from the table."
   ]
  },
  {
   "cell_type": "markdown",
   "metadata": {},
   "source": [
    "## Software Used in this Lab"
   ]
  },
  {
   "cell_type": "markdown",
   "metadata": {},
   "source": [
    "In this lab, you will use [Datasette](https://github.com/simonw/datasette?utm_medium=Exinfluencer&utm_source=Exinfluencer&utm_content=000026UJ&utm_term=10006555&utm_id=NA-SkillsNetwork-Channel-SkillsNetworkCoursesIBMDeveloperSkillsNetworkDB0201ENSkillsNetwork20127838-2022-01-01), an open source multi-tool for exploring and publishing data."
   ]
  },
  {
   "cell_type": "markdown",
   "metadata": {},
   "source": [
    "## Database Used in this Lab"
   ]
  },
  {
   "cell_type": "markdown",
   "metadata": {},
   "source": [
    "The database used in this lab comes from the following dataset source: [Film Locations in San Francisco](https://data.sfgov.org/Culture-and-Recreation/Film-Locations-in-San-Francisco/yitu-d5am?utm_medium=Exinfluencer&utm_source=Exinfluencer&utm_content=000026UJ&utm_term=10006555&utm_id=NA-SkillsNetwork-Channel-SkillsNetworkCoursesIBMDeveloperSkillsNetworkDB0201ENSkillsNetwork20127838-2022-01-01) under a [PDDL: Public Domain Dedication and License](https://opendatacommons.org/licenses/pddl/1-0/?utm_medium=Exinfluencer&utm_source=Exinfluencer&utm_content=000026UJ&utm_term=10006555&utm_id=NA-SkillsNetwork-Channel-SkillsNetworkCoursesIBMDeveloperSkillsNetworkDB0201ENSkillsNetwork20127838-2022-01-01)."
   ]
  },
  {
   "cell_type": "markdown",
   "metadata": {},
   "source": [
    "## Objectives"
   ]
  },
  {
   "cell_type": "markdown",
   "metadata": {},
   "source": [
    "After completing this lab, you will be able to:\n",
    "\n",
    "- Retrieve the number of rows that match a query criteria\n",
    "- Remove duplicate values from a result set and return the unique values\n",
    "- Restrict the number of rows retrieved from a table"
   ]
  },
  {
   "cell_type": "code",
   "execution_count": 1,
   "metadata": {},
   "outputs": [],
   "source": [
    "import sqlite3\n",
    "import pandas as pd"
   ]
  },
  {
   "cell_type": "code",
   "execution_count": 2,
   "metadata": {},
   "outputs": [],
   "source": [
    "con = sqlite3.connect('data/database.db')\n",
    "cur = con.cursor()"
   ]
  },
  {
   "cell_type": "markdown",
   "metadata": {},
   "source": [
    "# Exploring the Database"
   ]
  },
  {
   "cell_type": "markdown",
   "metadata": {},
   "source": [
    "Let us first explore the **SanFranciscoFilmLocations** database using the **Datasette** tool:\n",
    "\n",
    "1. If the first statement listed below is not already in the Datasette textbox on the right, then copy the code below by clicking on the little copy button on the bottom right of the codeblock below and then paste it into the textbox of the Datasette tool using either **Ctrl+V** or right-click in the text box and choose **Paste**.\n",
    "```sql\n",
    "SELECT * FROM FilmLocations;\n",
    "```\n",
    "![](https://cf-courses-data.s3.us.cloud-object-storage.appdomain.cloud/IBMDeveloperSkillsNetwork-DB0201EN-SkillsNetwork/labs/Labs_Coursera_V5/labs/Lab%20-%20COUNT%20-%20DISTINCT%20-%20LIMIT/images/ExploringDB.1.png)\n",
    "\n",
    "2. Click **Submit Query**.\n",
    "\n",
    "3. Now you can scroll down the table and explore all the columns and rows of the **FilmLocations** table to get an overall idea of the table contents.\n",
    "![](https://cf-courses-data.s3.us.cloud-object-storage.appdomain.cloud/IBMDeveloperSkillsNetwork-DB0201EN-SkillsNetwork/labs/Labs_Coursera_V5/labs/Lab%20-%20COUNT%20-%20DISTINCT%20-%20LIMIT/images/ExploringDB.2.png)\n",
    "\n",
    "4. These are the column attribute descriptions from the **FilmLocations** table:\n",
    "```\n",
    "FilmLocations(\n",
    "    Title:              titles of the films, \n",
    "    ReleaseYear:        time of public release of the films, \n",
    "    Locations:          locations of San Francisco where the films were shot, \n",
    "    FunFacts:           funny facts about the filming locations, \n",
    "    ProductionCompany:  companies who produced the films, \n",
    "    Distributor:        companies who distributed the films, \n",
    "    Director:           people who directed the films, \n",
    "    Writer:             people who wrote the films, \n",
    "    Actor1:             person 1 who acted in the films, \n",
    "    Actor2:             person 2 who acted in the films, \n",
    "    Actor3:             person 3 who acted in the films\n",
    ")\n",
    "```"
   ]
  },
  {
   "cell_type": "code",
   "execution_count": 5,
   "metadata": {},
   "outputs": [
    {
     "data": {
      "text/html": [
       "<div>\n",
       "<style scoped>\n",
       "    .dataframe tbody tr th:only-of-type {\n",
       "        vertical-align: middle;\n",
       "    }\n",
       "\n",
       "    .dataframe tbody tr th {\n",
       "        vertical-align: top;\n",
       "    }\n",
       "\n",
       "    .dataframe thead th {\n",
       "        text-align: right;\n",
       "    }\n",
       "</style>\n",
       "<table border=\"1\" class=\"dataframe\">\n",
       "  <thead>\n",
       "    <tr style=\"text-align: right;\">\n",
       "      <th></th>\n",
       "      <th>Title</th>\n",
       "      <th>Release Year</th>\n",
       "      <th>Locations</th>\n",
       "      <th>Fun Facts</th>\n",
       "      <th>Production Company</th>\n",
       "      <th>Distributor</th>\n",
       "      <th>Director</th>\n",
       "      <th>Writer</th>\n",
       "      <th>Actor 1</th>\n",
       "      <th>Actor 2</th>\n",
       "      <th>Actor 3</th>\n",
       "    </tr>\n",
       "  </thead>\n",
       "  <tbody>\n",
       "    <tr>\n",
       "      <th>0</th>\n",
       "      <td>A Jitney Elopement</td>\n",
       "      <td>1915</td>\n",
       "      <td>20th and Folsom Streets</td>\n",
       "      <td>None</td>\n",
       "      <td>The Essanay Film Manufacturing Company</td>\n",
       "      <td>General Film Company</td>\n",
       "      <td>Charles Chaplin</td>\n",
       "      <td>Charles Chaplin</td>\n",
       "      <td>Charles Chaplin</td>\n",
       "      <td>Edna Purviance</td>\n",
       "      <td>None</td>\n",
       "    </tr>\n",
       "    <tr>\n",
       "      <th>1</th>\n",
       "      <td>A Jitney Elopement</td>\n",
       "      <td>1915</td>\n",
       "      <td>Golden Gate Park</td>\n",
       "      <td>During San Francisco's Gold Rush era, the Park...</td>\n",
       "      <td>The Essanay Film Manufacturing Company</td>\n",
       "      <td>General Film Company</td>\n",
       "      <td>Charles Chaplin</td>\n",
       "      <td>Charles Chaplin</td>\n",
       "      <td>Charles Chaplin</td>\n",
       "      <td>Edna Purviance</td>\n",
       "      <td>None</td>\n",
       "    </tr>\n",
       "    <tr>\n",
       "      <th>2</th>\n",
       "      <td>Greed</td>\n",
       "      <td>1924</td>\n",
       "      <td>Cliff House (1090 Point Lobos Avenue)</td>\n",
       "      <td>In 1887, the Cliff House was severely damaged ...</td>\n",
       "      <td>Metro-Goldwyn-Mayer (MGM)</td>\n",
       "      <td>Metro-Goldwyn-Mayer (MGM)</td>\n",
       "      <td>Eric von Stroheim</td>\n",
       "      <td>Eric von Stroheim</td>\n",
       "      <td>Zasu Pitts</td>\n",
       "      <td>Gibson Gowland</td>\n",
       "      <td>Jean Hersholt</td>\n",
       "    </tr>\n",
       "    <tr>\n",
       "      <th>3</th>\n",
       "      <td>Greed</td>\n",
       "      <td>1924</td>\n",
       "      <td>Bush and Sutter Streets</td>\n",
       "      <td>None</td>\n",
       "      <td>Metro-Goldwyn-Mayer (MGM)</td>\n",
       "      <td>Metro-Goldwyn-Mayer (MGM)</td>\n",
       "      <td>Eric von Stroheim</td>\n",
       "      <td>Eric von Stroheim</td>\n",
       "      <td>Zasu Pitts</td>\n",
       "      <td>Gibson Gowland</td>\n",
       "      <td>Jean Hersholt</td>\n",
       "    </tr>\n",
       "    <tr>\n",
       "      <th>4</th>\n",
       "      <td>Greed</td>\n",
       "      <td>1924</td>\n",
       "      <td>Hayes Street at Laguna</td>\n",
       "      <td>None</td>\n",
       "      <td>Metro-Goldwyn-Mayer (MGM)</td>\n",
       "      <td>Metro-Goldwyn-Mayer (MGM)</td>\n",
       "      <td>Eric von Stroheim</td>\n",
       "      <td>Eric von Stroheim</td>\n",
       "      <td>Zasu Pitts</td>\n",
       "      <td>Gibson Gowland</td>\n",
       "      <td>Jean Hersholt</td>\n",
       "    </tr>\n",
       "  </tbody>\n",
       "</table>\n",
       "</div>"
      ],
      "text/plain": [
       "                Title  Release Year                              Locations  \\\n",
       "0  A Jitney Elopement          1915                20th and Folsom Streets   \n",
       "1  A Jitney Elopement          1915                       Golden Gate Park   \n",
       "2               Greed          1924  Cliff House (1090 Point Lobos Avenue)   \n",
       "3               Greed          1924                Bush and Sutter Streets   \n",
       "4               Greed          1924                 Hayes Street at Laguna   \n",
       "\n",
       "                                           Fun Facts  \\\n",
       "0                                               None   \n",
       "1  During San Francisco's Gold Rush era, the Park...   \n",
       "2  In 1887, the Cliff House was severely damaged ...   \n",
       "3                                               None   \n",
       "4                                               None   \n",
       "\n",
       "                       Production Company                Distributor  \\\n",
       "0  The Essanay Film Manufacturing Company       General Film Company   \n",
       "1  The Essanay Film Manufacturing Company       General Film Company   \n",
       "2               Metro-Goldwyn-Mayer (MGM)  Metro-Goldwyn-Mayer (MGM)   \n",
       "3               Metro-Goldwyn-Mayer (MGM)  Metro-Goldwyn-Mayer (MGM)   \n",
       "4               Metro-Goldwyn-Mayer (MGM)  Metro-Goldwyn-Mayer (MGM)   \n",
       "\n",
       "            Director             Writer          Actor 1         Actor 2  \\\n",
       "0    Charles Chaplin    Charles Chaplin  Charles Chaplin  Edna Purviance   \n",
       "1    Charles Chaplin    Charles Chaplin  Charles Chaplin  Edna Purviance   \n",
       "2  Eric von Stroheim  Eric von Stroheim       Zasu Pitts  Gibson Gowland   \n",
       "3  Eric von Stroheim  Eric von Stroheim       Zasu Pitts  Gibson Gowland   \n",
       "4  Eric von Stroheim  Eric von Stroheim       Zasu Pitts  Gibson Gowland   \n",
       "\n",
       "         Actor 3  \n",
       "0           None  \n",
       "1           None  \n",
       "2  Jean Hersholt  \n",
       "3  Jean Hersholt  \n",
       "4  Jean Hersholt  "
      ]
     },
     "execution_count": 5,
     "metadata": {},
     "output_type": "execute_result"
    }
   ],
   "source": [
    "query = '''\n",
    "            SELECT *\n",
    "            FROM FilmLocations\n",
    "        '''\n",
    "df = pd.read_sql_query(query, con)\n",
    "df.head()"
   ]
  },
  {
   "cell_type": "markdown",
   "metadata": {},
   "source": [
    "# Exercise 1: COUNT"
   ]
  },
  {
   "cell_type": "markdown",
   "metadata": {},
   "source": [
    "In this exercise, you will first go through some examples of using COUNT in queries and then solve some exercise problems by using it."
   ]
  },
  {
   "cell_type": "markdown",
   "metadata": {},
   "source": [
    "## Task A: Example exercises on COUNT"
   ]
  },
  {
   "cell_type": "markdown",
   "metadata": {},
   "source": [
    "Let us go through some examples of COUNT related queries:"
   ]
  },
  {
   "cell_type": "markdown",
   "metadata": {},
   "source": [
    "1. In this example, suppose we want to count the number of records or rows of the \"FilmLocations\" table.\n",
    "\n",
    "    1. Problem:\n",
    "\n",
    "        *Retrieve the number of rows from the \"FilmLocations\" table.*\n",
    "\n",
    "    2. Solution:\n",
    "    ```sql\n",
    "    SELECT COUNT(*) FROM FilmLocations;\n",
    "    ```\n",
    "\n",
    "    3. Copy the solution code above by clicking on the little copy button on the bottom right of the codeblock below and paste it to the textbox of the Datasette tool. Then click **Submit query**.\n",
    "\n",
    "    4. Your output resultset should match like below:\n",
    "    ![](https://cf-courses-data.s3.us.cloud-object-storage.appdomain.cloud/IBMDeveloperSkillsNetwork-DB0201EN-SkillsNetwork/labs/Labs_Coursera_V5/labs/Lab%20-%20COUNT%20-%20DISTINCT%20-%20LIMIT/images/1.A.1.4.png)"
   ]
  },
  {
   "cell_type": "code",
   "execution_count": 16,
   "metadata": {},
   "outputs": [
    {
     "data": {
      "text/html": [
       "<div>\n",
       "<style scoped>\n",
       "    .dataframe tbody tr th:only-of-type {\n",
       "        vertical-align: middle;\n",
       "    }\n",
       "\n",
       "    .dataframe tbody tr th {\n",
       "        vertical-align: top;\n",
       "    }\n",
       "\n",
       "    .dataframe thead th {\n",
       "        text-align: right;\n",
       "    }\n",
       "</style>\n",
       "<table border=\"1\" class=\"dataframe\">\n",
       "  <thead>\n",
       "    <tr style=\"text-align: right;\">\n",
       "      <th></th>\n",
       "      <th>COUNT(*)</th>\n",
       "    </tr>\n",
       "  </thead>\n",
       "  <tbody>\n",
       "    <tr>\n",
       "      <th>0</th>\n",
       "      <td>1976</td>\n",
       "    </tr>\n",
       "  </tbody>\n",
       "</table>\n",
       "</div>"
      ],
      "text/plain": [
       "   COUNT(*)\n",
       "0      1976"
      ]
     },
     "execution_count": 16,
     "metadata": {},
     "output_type": "execute_result"
    }
   ],
   "source": [
    "query = '''\n",
    "            SELECT COUNT(*)\n",
    "            FROM FilmLocations\n",
    "        '''\n",
    "df = pd.read_sql_query(query, con)\n",
    "df"
   ]
  },
  {
   "cell_type": "markdown",
   "metadata": {},
   "source": [
    "2. In this example, now we want to count the number of locations of the films. But we also want to restrict the output resultset in such a way that we only retrieve the number of locations of the films written by a certain writer.\n",
    "\n",
    "    1. Problem:\n",
    "\n",
    "        *Retrieve the number of locations of the films which are written by James Cameron.*\n",
    "\n",
    "    2. Solution:\n",
    "    ```sql\n",
    "    SELECT COUNT(Locations) FROM FilmLocations WHERE Writer=\"James Cameron\";\n",
    "    ```\n",
    "\n",
    "    3. Copy the solution code above by clicking on the little copy button on the bottom right of the codeblock below and paste it to the textbox of the Datasette tool. Then click **Submit query**.\n",
    "\n",
    "    4. Your output resultset should match like below:\n",
    "    ![](https://cf-courses-data.s3.us.cloud-object-storage.appdomain.cloud/IBMDeveloperSkillsNetwork-DB0201EN-SkillsNetwork/labs/Labs_Coursera_V5/labs/Lab%20-%20COUNT%20-%20DISTINCT%20-%20LIMIT/images/1.A.2.4.png)"
   ]
  },
  {
   "cell_type": "code",
   "execution_count": 7,
   "metadata": {},
   "outputs": [
    {
     "data": {
      "text/html": [
       "<div>\n",
       "<style scoped>\n",
       "    .dataframe tbody tr th:only-of-type {\n",
       "        vertical-align: middle;\n",
       "    }\n",
       "\n",
       "    .dataframe tbody tr th {\n",
       "        vertical-align: top;\n",
       "    }\n",
       "\n",
       "    .dataframe thead th {\n",
       "        text-align: right;\n",
       "    }\n",
       "</style>\n",
       "<table border=\"1\" class=\"dataframe\">\n",
       "  <thead>\n",
       "    <tr style=\"text-align: right;\">\n",
       "      <th></th>\n",
       "      <th>COUNT(Locations)</th>\n",
       "    </tr>\n",
       "  </thead>\n",
       "  <tbody>\n",
       "    <tr>\n",
       "      <th>0</th>\n",
       "      <td>24</td>\n",
       "    </tr>\n",
       "  </tbody>\n",
       "</table>\n",
       "</div>"
      ],
      "text/plain": [
       "   COUNT(Locations)\n",
       "0                24"
      ]
     },
     "execution_count": 7,
     "metadata": {},
     "output_type": "execute_result"
    }
   ],
   "source": [
    "query = '''\n",
    "            SELECT COUNT(Locations)\n",
    "            FROM FilmLocations\n",
    "            WHERE Writer == 'James Cameron'\n",
    "        '''\n",
    "df = pd.read_sql_query(query, con)\n",
    "df"
   ]
  },
  {
   "cell_type": "markdown",
   "metadata": {},
   "source": [
    "## Task B: Practice exercises on COUNT"
   ]
  },
  {
   "cell_type": "markdown",
   "metadata": {},
   "source": [
    "Now, let us practice creating and running some COUNT related queries."
   ]
  },
  {
   "cell_type": "markdown",
   "metadata": {},
   "source": [
    "1. Problem:\n",
    "\n",
    "    *Retrieve the number of locations of the films which are directed by Woody Allen.*\n",
    "\n",
    "<details>\n",
    "\t<summary>Click here for Hint</summary>\n",
    "\n",
    "Follow example 2 of the COUNT exercise. Use the WHERE clause comparison operator = which means **\"Equal to\"**.\n",
    "\n",
    "</details>\n",
    "\n",
    "<details>\n",
    "\t<summary>Click here for Solution</summary>\n",
    "\n",
    "```sql\n",
    "SELECT COUNT(Locations) FROM FilmLocations WHERE Director=\"Woody Allen\";\n",
    "```\n",
    "\n",
    "</details>\n",
    "\n",
    "<details>\n",
    "\t<summary>Click here for Output</summary>\n",
    "\n",
    "![](https://cf-courses-data.s3.us.cloud-object-storage.appdomain.cloud/IBMDeveloperSkillsNetwork-DB0201EN-SkillsNetwork/labs/Labs_Coursera_V5/labs/Lab%20-%20COUNT%20-%20DISTINCT%20-%20LIMIT/images/1.B.1.O.png)\n",
    "\n",
    "</details>"
   ]
  },
  {
   "cell_type": "code",
   "execution_count": 10,
   "metadata": {},
   "outputs": [
    {
     "data": {
      "text/html": [
       "<div>\n",
       "<style scoped>\n",
       "    .dataframe tbody tr th:only-of-type {\n",
       "        vertical-align: middle;\n",
       "    }\n",
       "\n",
       "    .dataframe tbody tr th {\n",
       "        vertical-align: top;\n",
       "    }\n",
       "\n",
       "    .dataframe thead th {\n",
       "        text-align: right;\n",
       "    }\n",
       "</style>\n",
       "<table border=\"1\" class=\"dataframe\">\n",
       "  <thead>\n",
       "    <tr style=\"text-align: right;\">\n",
       "      <th></th>\n",
       "      <th>COUNT(Locations)</th>\n",
       "    </tr>\n",
       "  </thead>\n",
       "  <tbody>\n",
       "    <tr>\n",
       "      <th>0</th>\n",
       "      <td>31</td>\n",
       "    </tr>\n",
       "  </tbody>\n",
       "</table>\n",
       "</div>"
      ],
      "text/plain": [
       "   COUNT(Locations)\n",
       "0                31"
      ]
     },
     "execution_count": 10,
     "metadata": {},
     "output_type": "execute_result"
    }
   ],
   "source": [
    "query = '''\n",
    "            SELECT COUNT(Locations)\n",
    "            FROM FilmLocations\n",
    "            WHERE Director == 'Woody Allen'\n",
    "        '''\n",
    "df = pd.read_sql_query(query, con)\n",
    "df"
   ]
  },
  {
   "cell_type": "markdown",
   "metadata": {},
   "source": [
    "2. Problem:\n",
    "\n",
    "    *Retrieve the number of films shot at Russian Hill.*\n",
    "\n",
    "<details>\n",
    "\t<summary>Click here for Hint</summary>\n",
    "\n",
    "Follow example 2 of the COUNT exercise. Use the WHERE clause comparison operator = which means **\"Equal to\"**.\n",
    "\n",
    "</details>\n",
    "\n",
    "<details>\n",
    "\t<summary>Click here for Solution</summary>\n",
    "\n",
    "```sql\n",
    "SELECT Count(Title) FROM FilmLocations WHERE Locations=\"Russian Hill\";\n",
    "```\n",
    "\n",
    "</details>\n",
    "\n",
    "<details>\n",
    "\t<summary>Click here for Output</summary>\n",
    "\n",
    "![](https://cf-courses-data.s3.us.cloud-object-storage.appdomain.cloud/IBMDeveloperSkillsNetwork-DB0201EN-SkillsNetwork/labs/Labs_Coursera_V5/labs/Lab%20-%20COUNT%20-%20DISTINCT%20-%20LIMIT/images/1.B.2.O.png)\n",
    "\n",
    "</details>"
   ]
  },
  {
   "cell_type": "code",
   "execution_count": 11,
   "metadata": {},
   "outputs": [
    {
     "data": {
      "text/html": [
       "<div>\n",
       "<style scoped>\n",
       "    .dataframe tbody tr th:only-of-type {\n",
       "        vertical-align: middle;\n",
       "    }\n",
       "\n",
       "    .dataframe tbody tr th {\n",
       "        vertical-align: top;\n",
       "    }\n",
       "\n",
       "    .dataframe thead th {\n",
       "        text-align: right;\n",
       "    }\n",
       "</style>\n",
       "<table border=\"1\" class=\"dataframe\">\n",
       "  <thead>\n",
       "    <tr style=\"text-align: right;\">\n",
       "      <th></th>\n",
       "      <th>COUNT(Title)</th>\n",
       "    </tr>\n",
       "  </thead>\n",
       "  <tbody>\n",
       "    <tr>\n",
       "      <th>0</th>\n",
       "      <td>1</td>\n",
       "    </tr>\n",
       "  </tbody>\n",
       "</table>\n",
       "</div>"
      ],
      "text/plain": [
       "   COUNT(Title)\n",
       "0             1"
      ]
     },
     "execution_count": 11,
     "metadata": {},
     "output_type": "execute_result"
    }
   ],
   "source": [
    "query = '''\n",
    "            SELECT COUNT(Title)\n",
    "            FROM FilmLocations\n",
    "            WHERE Locations == 'Russian Hill'\n",
    "        '''\n",
    "df = pd.read_sql_query(query, con)\n",
    "df"
   ]
  },
  {
   "cell_type": "markdown",
   "metadata": {},
   "source": [
    "3. Problem:\n",
    "\n",
    "    *Retrieve the number of rows having a release year older than 1950 from the \"FilmLocations\" table.*\n",
    "\n",
    "<details>\n",
    "\t<summary>Click here for Hint</summary>\n",
    "\n",
    "Follow example 1 of the COUNT exercise. Use the WHERE clause comparison operator < which means **\"Less than\"**.\n",
    "\n",
    "</details>\n",
    "\n",
    "<details>\n",
    "\t<summary>Click here for Solution</summary>\n",
    "\n",
    "```sql\n",
    "SELECT Count(*) FROM FilmLocations WHERE ReleaseYear<1950;\n",
    "```\n",
    "\n",
    "</details>\n",
    "\n",
    "<details>\n",
    "\t<summary>Click here for Output</summary>\n",
    "\n",
    "![](https://cf-courses-data.s3.us.cloud-object-storage.appdomain.cloud/IBMDeveloperSkillsNetwork-DB0201EN-SkillsNetwork/labs/Labs_Coursera_V5/labs/Lab%20-%20COUNT%20-%20DISTINCT%20-%20LIMIT/images/1.B.3.O.png)\n",
    "\n",
    "</details>"
   ]
  },
  {
   "cell_type": "code",
   "execution_count": 14,
   "metadata": {},
   "outputs": [
    {
     "data": {
      "text/html": [
       "<div>\n",
       "<style scoped>\n",
       "    .dataframe tbody tr th:only-of-type {\n",
       "        vertical-align: middle;\n",
       "    }\n",
       "\n",
       "    .dataframe tbody tr th {\n",
       "        vertical-align: top;\n",
       "    }\n",
       "\n",
       "    .dataframe thead th {\n",
       "        text-align: right;\n",
       "    }\n",
       "</style>\n",
       "<table border=\"1\" class=\"dataframe\">\n",
       "  <thead>\n",
       "    <tr style=\"text-align: right;\">\n",
       "      <th></th>\n",
       "      <th>COUNT(*)</th>\n",
       "    </tr>\n",
       "  </thead>\n",
       "  <tbody>\n",
       "    <tr>\n",
       "      <th>0</th>\n",
       "      <td>1929</td>\n",
       "    </tr>\n",
       "  </tbody>\n",
       "</table>\n",
       "</div>"
      ],
      "text/plain": [
       "   COUNT(*)\n",
       "0      1929"
      ]
     },
     "execution_count": 14,
     "metadata": {},
     "output_type": "execute_result"
    }
   ],
   "source": [
    "query = '''\n",
    "            SELECT COUNT(*)\n",
    "            FROM FilmLocations\n",
    "            WHERE [Release Year] > 1950\n",
    "        '''\n",
    "df = pd.read_sql_query(query, con)\n",
    "df"
   ]
  },
  {
   "cell_type": "markdown",
   "metadata": {},
   "source": [
    "# Exercise 2: DISTINCT"
   ]
  },
  {
   "cell_type": "markdown",
   "metadata": {},
   "source": [
    "In this exercise, you will first go through some examples of using DISTINCT in queries, and then solve some exercise problems by using it."
   ]
  },
  {
   "cell_type": "markdown",
   "metadata": {},
   "source": [
    "## Task A: Example exercises of DISTINCT"
   ]
  },
  {
   "cell_type": "markdown",
   "metadata": {},
   "source": [
    "Let us go through some examples of DISTINCT related queries:"
   ]
  },
  {
   "cell_type": "markdown",
   "metadata": {},
   "source": [
    "1. In this example, we want to retrieve the title of all films in the table in such a way that duplicates will be discarded in the output resultset.\n",
    "\n",
    "    1. Problem:\n",
    "\n",
    "        *Retrieve the name of all films without any repeated titles.*\n",
    "\n",
    "    2. Solution:\n",
    "    ```sql\n",
    "    SELECT DISTINCT Title FROM FilmLocations;\n",
    "    ```\n",
    "\n",
    "    3. Copy the solution code above by clicking on the little copy button on the bottom right of the codeblock below and paste it to the textbox of the Datasette tool. Then click **Submit query**.\n",
    "\n",
    "    4. Your output resultset should match like below:\n",
    "    ![](https://cf-courses-data.s3.us.cloud-object-storage.appdomain.cloud/IBMDeveloperSkillsNetwork-DB0201EN-SkillsNetwork/labs/Labs_Coursera_V5/labs/Lab%20-%20COUNT%20-%20DISTINCT%20-%20LIMIT/images/2.A.1.4.png)"
   ]
  },
  {
   "cell_type": "code",
   "execution_count": 18,
   "metadata": {},
   "outputs": [
    {
     "data": {
      "text/html": [
       "<div>\n",
       "<style scoped>\n",
       "    .dataframe tbody tr th:only-of-type {\n",
       "        vertical-align: middle;\n",
       "    }\n",
       "\n",
       "    .dataframe tbody tr th {\n",
       "        vertical-align: top;\n",
       "    }\n",
       "\n",
       "    .dataframe thead th {\n",
       "        text-align: right;\n",
       "    }\n",
       "</style>\n",
       "<table border=\"1\" class=\"dataframe\">\n",
       "  <thead>\n",
       "    <tr style=\"text-align: right;\">\n",
       "      <th></th>\n",
       "      <th>Title</th>\n",
       "    </tr>\n",
       "  </thead>\n",
       "  <tbody>\n",
       "    <tr>\n",
       "      <th>0</th>\n",
       "      <td>A Jitney Elopement</td>\n",
       "    </tr>\n",
       "    <tr>\n",
       "      <th>1</th>\n",
       "      <td>Greed</td>\n",
       "    </tr>\n",
       "    <tr>\n",
       "      <th>2</th>\n",
       "      <td>The Jazz Singer</td>\n",
       "    </tr>\n",
       "    <tr>\n",
       "      <th>3</th>\n",
       "      <td>Barbary Coast</td>\n",
       "    </tr>\n",
       "    <tr>\n",
       "      <th>4</th>\n",
       "      <td>After the Thin Man</td>\n",
       "    </tr>\n",
       "  </tbody>\n",
       "</table>\n",
       "</div>"
      ],
      "text/plain": [
       "                Title\n",
       "0  A Jitney Elopement\n",
       "1               Greed\n",
       "2     The Jazz Singer\n",
       "3       Barbary Coast\n",
       "4  After the Thin Man"
      ]
     },
     "execution_count": 18,
     "metadata": {},
     "output_type": "execute_result"
    }
   ],
   "source": [
    "query = '''\n",
    "            SELECT DISTINCT(Title)\n",
    "            FROM FilmLocations\n",
    "        '''\n",
    "df = pd.read_sql_query(query, con)\n",
    "df.head()"
   ]
  },
  {
   "cell_type": "markdown",
   "metadata": {},
   "source": [
    "2. In this example, we want to retrieve the count of release years of the films produced by a specific company in such a way that duplicate release years of those films will be discarded in the count.\n",
    "\n",
    "    1. Problem:\n",
    "\n",
    "        *Retrieve the number of release years of the films distinctly, produced by Warner Bros. Pictures.*\n",
    "\n",
    "    2. Solution:\n",
    "    ```sql\n",
    "    SELECT COUNT(DISTINCT ReleaseYear) FROM FilmLocations WHERE ProductionCompany=\"Warner Bros. Pictures\";\n",
    "    ```\n",
    "\n",
    "    3. Copy the solution code above by clicking on the little copy button on the bottom right of the codeblock below and paste it to the textbox of the Datasette tool. Then click **Submit query**.\n",
    "\n",
    "    4. Your output resultset should match like below:\n",
    "    ![](https://cf-courses-data.s3.us.cloud-object-storage.appdomain.cloud/IBMDeveloperSkillsNetwork-DB0201EN-SkillsNetwork/labs/Labs_Coursera_V5/labs/Lab%20-%20COUNT%20-%20DISTINCT%20-%20LIMIT/images/2.A.2.4.png)"
   ]
  },
  {
   "cell_type": "code",
   "execution_count": 20,
   "metadata": {},
   "outputs": [
    {
     "data": {
      "text/html": [
       "<div>\n",
       "<style scoped>\n",
       "    .dataframe tbody tr th:only-of-type {\n",
       "        vertical-align: middle;\n",
       "    }\n",
       "\n",
       "    .dataframe tbody tr th {\n",
       "        vertical-align: top;\n",
       "    }\n",
       "\n",
       "    .dataframe thead th {\n",
       "        text-align: right;\n",
       "    }\n",
       "</style>\n",
       "<table border=\"1\" class=\"dataframe\">\n",
       "  <thead>\n",
       "    <tr style=\"text-align: right;\">\n",
       "      <th></th>\n",
       "      <th>COUNT(DISTINCT([Release Year]))</th>\n",
       "    </tr>\n",
       "  </thead>\n",
       "  <tbody>\n",
       "    <tr>\n",
       "      <th>0</th>\n",
       "      <td>14</td>\n",
       "    </tr>\n",
       "  </tbody>\n",
       "</table>\n",
       "</div>"
      ],
      "text/plain": [
       "   COUNT(DISTINCT([Release Year]))\n",
       "0                               14"
      ]
     },
     "execution_count": 20,
     "metadata": {},
     "output_type": "execute_result"
    }
   ],
   "source": [
    "query = '''\n",
    "            SELECT COUNT(DISTINCT([Release Year]))\n",
    "            FROM FilmLocations\n",
    "            WHERE [Production Company] == 'Warner Bros. Pictures'\n",
    "        '''\n",
    "df = pd.read_sql_query(query, con)\n",
    "df"
   ]
  },
  {
   "cell_type": "markdown",
   "metadata": {},
   "source": [
    "## Task B: Practice exercises on DISTINCT"
   ]
  },
  {
   "cell_type": "markdown",
   "metadata": {},
   "source": [
    "Now, let us practice creating and running some DISTINCT related queries."
   ]
  },
  {
   "cell_type": "markdown",
   "metadata": {},
   "source": [
    "1. Problem:\n",
    "\n",
    "    *Retrieve the name of all unique films released in the 21st century and onwards, along with their release years.*\n",
    "\n",
    "<details>\n",
    "\t<summary>Click here for Hint</summary>\n",
    "\n",
    "Follow example 1 of DISTINCT. Use WHERE clause comparsion operator >= which means **\"Greater than or equal to\"**.\n",
    "\n",
    "</details>\n",
    "\n",
    "<details>\n",
    "\t<summary>Click here for Solution</summary>\n",
    "\n",
    "```sql\n",
    "SELECT DISTINCT Title, ReleaseYear FROM FilmLocations WHERE ReleaseYear>=2001;\n",
    "```\n",
    "\n",
    "</details>\n",
    "\n",
    "<details>\n",
    "\t<summary>Click here for Output</summary>\n",
    "\n",
    "![](https://cf-courses-data.s3.us.cloud-object-storage.appdomain.cloud/IBMDeveloperSkillsNetwork-DB0201EN-SkillsNetwork/labs/Labs_Coursera_V5/labs/Lab%20-%20COUNT%20-%20DISTINCT%20-%20LIMIT/images/2.B.1.O.png)\n",
    "\n",
    "</details>"
   ]
  },
  {
   "cell_type": "code",
   "execution_count": 24,
   "metadata": {},
   "outputs": [
    {
     "data": {
      "text/html": [
       "<div>\n",
       "<style scoped>\n",
       "    .dataframe tbody tr th:only-of-type {\n",
       "        vertical-align: middle;\n",
       "    }\n",
       "\n",
       "    .dataframe tbody tr th {\n",
       "        vertical-align: top;\n",
       "    }\n",
       "\n",
       "    .dataframe thead th {\n",
       "        text-align: right;\n",
       "    }\n",
       "</style>\n",
       "<table border=\"1\" class=\"dataframe\">\n",
       "  <thead>\n",
       "    <tr style=\"text-align: right;\">\n",
       "      <th></th>\n",
       "      <th>Title</th>\n",
       "      <th>Release Year</th>\n",
       "    </tr>\n",
       "  </thead>\n",
       "  <tbody>\n",
       "    <tr>\n",
       "      <th>0</th>\n",
       "      <td>By Hook or By Crook</td>\n",
       "      <td>2001</td>\n",
       "    </tr>\n",
       "    <tr>\n",
       "      <th>1</th>\n",
       "      <td>Dr. Dolittle 2</td>\n",
       "      <td>2001</td>\n",
       "    </tr>\n",
       "    <tr>\n",
       "      <th>2</th>\n",
       "      <td>Haiku Tunnel</td>\n",
       "      <td>2001</td>\n",
       "    </tr>\n",
       "    <tr>\n",
       "      <th>3</th>\n",
       "      <td>Mission (aka City of Bars)</td>\n",
       "      <td>2001</td>\n",
       "    </tr>\n",
       "    <tr>\n",
       "      <th>4</th>\n",
       "      <td>Never Die Twice</td>\n",
       "      <td>2001</td>\n",
       "    </tr>\n",
       "  </tbody>\n",
       "</table>\n",
       "</div>"
      ],
      "text/plain": [
       "                        Title  Release Year\n",
       "0         By Hook or By Crook          2001\n",
       "1              Dr. Dolittle 2          2001\n",
       "2                Haiku Tunnel          2001\n",
       "3  Mission (aka City of Bars)          2001\n",
       "4             Never Die Twice          2001"
      ]
     },
     "execution_count": 24,
     "metadata": {},
     "output_type": "execute_result"
    }
   ],
   "source": [
    "query = '''\n",
    "            SELECT DISTINCT(Title), [Release Year]\n",
    "            FROM FilmLocations\n",
    "            WHERE [Release Year] >= 2001\n",
    "        '''\n",
    "df = pd.read_sql_query(query, con)\n",
    "df.head()"
   ]
  },
  {
   "cell_type": "markdown",
   "metadata": {},
   "source": [
    "2. Problem:\n",
    "\n",
    "    *Retrieve the names of all the directors and their distinct films shot at City Hall.*\n",
    "\n",
    "<details>\n",
    "\t<summary>Click here for Hint</summary>\n",
    "\n",
    "Follow example 1 of DISTINCT. Use WHERE clause comparsion operator = which means **\"Equal to\"**.\n",
    "\n",
    "</details>\n",
    "\n",
    "<details>\n",
    "\t<summary>Click here for Solution</summary>\n",
    "\n",
    "```sql\n",
    "SELECT DISTINCT Title, Director FROM FilmLocations WHERE Locations=\"City Hall\";\n",
    "```\n",
    "\n",
    "</details>\n",
    "\n",
    "<details>\n",
    "\t<summary>Click here for Output</summary>\n",
    "\n",
    "![](https://cf-courses-data.s3.us.cloud-object-storage.appdomain.cloud/IBMDeveloperSkillsNetwork-DB0201EN-SkillsNetwork/labs/Labs_Coursera_V5/labs/Lab%20-%20COUNT%20-%20DISTINCT%20-%20LIMIT/images/2.B.2.O.png)\n",
    "\n",
    "</details>"
   ]
  },
  {
   "cell_type": "code",
   "execution_count": 31,
   "metadata": {},
   "outputs": [
    {
     "data": {
      "text/html": [
       "<div>\n",
       "<style scoped>\n",
       "    .dataframe tbody tr th:only-of-type {\n",
       "        vertical-align: middle;\n",
       "    }\n",
       "\n",
       "    .dataframe tbody tr th {\n",
       "        vertical-align: top;\n",
       "    }\n",
       "\n",
       "    .dataframe thead th {\n",
       "        text-align: right;\n",
       "    }\n",
       "</style>\n",
       "<table border=\"1\" class=\"dataframe\">\n",
       "  <thead>\n",
       "    <tr style=\"text-align: right;\">\n",
       "      <th></th>\n",
       "      <th>Title</th>\n",
       "      <th>Director</th>\n",
       "    </tr>\n",
       "  </thead>\n",
       "  <tbody>\n",
       "    <tr>\n",
       "      <th>0</th>\n",
       "      <td>San Francisco</td>\n",
       "      <td>W.S. Van Dyke</td>\n",
       "    </tr>\n",
       "    <tr>\n",
       "      <th>1</th>\n",
       "      <td>Magnum Force</td>\n",
       "      <td>Ted Post</td>\n",
       "    </tr>\n",
       "    <tr>\n",
       "      <th>2</th>\n",
       "      <td>The Enforcer</td>\n",
       "      <td>James Fargo</td>\n",
       "    </tr>\n",
       "    <tr>\n",
       "      <th>3</th>\n",
       "      <td>Foul Play</td>\n",
       "      <td>Colin Higgins</td>\n",
       "    </tr>\n",
       "    <tr>\n",
       "      <th>4</th>\n",
       "      <td>Invasion of the Body Snatchers</td>\n",
       "      <td>Philip Kaufman</td>\n",
       "    </tr>\n",
       "  </tbody>\n",
       "</table>\n",
       "</div>"
      ],
      "text/plain": [
       "                            Title        Director\n",
       "0                   San Francisco   W.S. Van Dyke\n",
       "1                    Magnum Force        Ted Post\n",
       "2                    The Enforcer     James Fargo\n",
       "3                       Foul Play   Colin Higgins\n",
       "4  Invasion of the Body Snatchers  Philip Kaufman"
      ]
     },
     "execution_count": 31,
     "metadata": {},
     "output_type": "execute_result"
    }
   ],
   "source": [
    "query = '''\n",
    "            SELECT DISTINCT(Title), Director\n",
    "            FROM FilmLocations\n",
    "            WHERE Locations == 'City Hall'\n",
    "        '''\n",
    "df = pd.read_sql_query(query, con)\n",
    "df.head()"
   ]
  },
  {
   "cell_type": "markdown",
   "metadata": {},
   "source": [
    "3. Problem:\n",
    "\n",
    "    *Retrieve the number of distributors distinctly who distributed films acted by Clint Eastwood as 1st actor.*\n",
    "\n",
    "<details>\n",
    "\t<summary>Click here for Hint</summary>\n",
    "\n",
    "Follow example 2 of DISTINCT. Use WHERE clause comparsion operator = which means **\"Equal to\"**.\n",
    "\n",
    "</details>\n",
    "\n",
    "<details>\n",
    "\t<summary>Click here for Solution</summary>\n",
    "\n",
    "```sql\n",
    "SELECT COUNT(DISTINCT Distributor) FROM FilmLocations WHERE Actor1=\"Clint Eastwood\";\n",
    "```\n",
    "\n",
    "</details>\n",
    "\n",
    "<details>\n",
    "\t<summary>Click here for Output</summary>\n",
    "\n",
    "![](https://cf-courses-data.s3.us.cloud-object-storage.appdomain.cloud/IBMDeveloperSkillsNetwork-DB0201EN-SkillsNetwork/labs/Labs_Coursera_V5/labs/Lab%20-%20COUNT%20-%20DISTINCT%20-%20LIMIT/images/2.B.3.O.png)\n",
    "\n",
    "</details>"
   ]
  },
  {
   "cell_type": "code",
   "execution_count": 34,
   "metadata": {},
   "outputs": [
    {
     "data": {
      "text/html": [
       "<div>\n",
       "<style scoped>\n",
       "    .dataframe tbody tr th:only-of-type {\n",
       "        vertical-align: middle;\n",
       "    }\n",
       "\n",
       "    .dataframe tbody tr th {\n",
       "        vertical-align: top;\n",
       "    }\n",
       "\n",
       "    .dataframe thead th {\n",
       "        text-align: right;\n",
       "    }\n",
       "</style>\n",
       "<table border=\"1\" class=\"dataframe\">\n",
       "  <thead>\n",
       "    <tr style=\"text-align: right;\">\n",
       "      <th></th>\n",
       "      <th>COUNT(DISTINCT(Distributor))</th>\n",
       "    </tr>\n",
       "  </thead>\n",
       "  <tbody>\n",
       "    <tr>\n",
       "      <th>0</th>\n",
       "      <td>3</td>\n",
       "    </tr>\n",
       "  </tbody>\n",
       "</table>\n",
       "</div>"
      ],
      "text/plain": [
       "   COUNT(DISTINCT(Distributor))\n",
       "0                             3"
      ]
     },
     "execution_count": 34,
     "metadata": {},
     "output_type": "execute_result"
    }
   ],
   "source": [
    "query = '''\n",
    "            SELECT COUNT(DISTINCT(Distributor))\n",
    "            FROM FilmLocations\n",
    "            WHERE [Actor 1] == 'Clint Eastwood'\n",
    "        '''\n",
    "df = pd.read_sql_query(query, con)\n",
    "df"
   ]
  },
  {
   "cell_type": "markdown",
   "metadata": {},
   "source": [
    "# Exercise 3: LIMIT"
   ]
  },
  {
   "cell_type": "markdown",
   "metadata": {},
   "source": [
    "In this exercise, you will first go through some examples of using LIMIT in queries and then solve some exercise by using it."
   ]
  },
  {
   "cell_type": "markdown",
   "metadata": {},
   "source": [
    "## Task A: Example exercises of LIMIT"
   ]
  },
  {
   "cell_type": "markdown",
   "metadata": {},
   "source": [
    "Let us go through some examples of LIMIT related queries:"
   ]
  },
  {
   "cell_type": "markdown",
   "metadata": {},
   "source": [
    "1. In this example, let us retrieve a specific number of rows from the top of the table in such a way that rows other than those are not in the output resultset.\n",
    "\n",
    "    1. Problem:\n",
    "\n",
    "        *Retrieve the first 25 rows from the \"FilmLocations\" table.*\n",
    "\n",
    "    2. Solution:\n",
    "    ```sql\n",
    "    SELECT * FROM FilmLocations LIMIT 25;\n",
    "    ```\n",
    "\n",
    "    3. Copy the solution code above by clicking on the little copy button on the bottom right of the codeblock below and paste it to the textbox of the Datasette tool. Then click **Submit query**.\n",
    "\n",
    "    4. Your output resultset should match like below:\n",
    "    ![](https://cf-courses-data.s3.us.cloud-object-storage.appdomain.cloud/IBMDeveloperSkillsNetwork-DB0201EN-SkillsNetwork/labs/Labs_Coursera_V5/labs/Lab%20-%20COUNT%20-%20DISTINCT%20-%20LIMIT/images/3.A.1.4.png)"
   ]
  },
  {
   "cell_type": "code",
   "execution_count": 37,
   "metadata": {},
   "outputs": [
    {
     "data": {
      "text/html": [
       "<div>\n",
       "<style scoped>\n",
       "    .dataframe tbody tr th:only-of-type {\n",
       "        vertical-align: middle;\n",
       "    }\n",
       "\n",
       "    .dataframe tbody tr th {\n",
       "        vertical-align: top;\n",
       "    }\n",
       "\n",
       "    .dataframe thead th {\n",
       "        text-align: right;\n",
       "    }\n",
       "</style>\n",
       "<table border=\"1\" class=\"dataframe\">\n",
       "  <thead>\n",
       "    <tr style=\"text-align: right;\">\n",
       "      <th></th>\n",
       "      <th>Title</th>\n",
       "      <th>Release Year</th>\n",
       "      <th>Locations</th>\n",
       "      <th>Fun Facts</th>\n",
       "      <th>Production Company</th>\n",
       "      <th>Distributor</th>\n",
       "      <th>Director</th>\n",
       "      <th>Writer</th>\n",
       "      <th>Actor 1</th>\n",
       "      <th>Actor 2</th>\n",
       "      <th>Actor 3</th>\n",
       "    </tr>\n",
       "  </thead>\n",
       "  <tbody>\n",
       "    <tr>\n",
       "      <th>0</th>\n",
       "      <td>A Jitney Elopement</td>\n",
       "      <td>1915</td>\n",
       "      <td>20th and Folsom Streets</td>\n",
       "      <td>None</td>\n",
       "      <td>The Essanay Film Manufacturing Company</td>\n",
       "      <td>General Film Company</td>\n",
       "      <td>Charles Chaplin</td>\n",
       "      <td>Charles Chaplin</td>\n",
       "      <td>Charles Chaplin</td>\n",
       "      <td>Edna Purviance</td>\n",
       "      <td>None</td>\n",
       "    </tr>\n",
       "    <tr>\n",
       "      <th>1</th>\n",
       "      <td>A Jitney Elopement</td>\n",
       "      <td>1915</td>\n",
       "      <td>Golden Gate Park</td>\n",
       "      <td>During San Francisco's Gold Rush era, the Park...</td>\n",
       "      <td>The Essanay Film Manufacturing Company</td>\n",
       "      <td>General Film Company</td>\n",
       "      <td>Charles Chaplin</td>\n",
       "      <td>Charles Chaplin</td>\n",
       "      <td>Charles Chaplin</td>\n",
       "      <td>Edna Purviance</td>\n",
       "      <td>None</td>\n",
       "    </tr>\n",
       "    <tr>\n",
       "      <th>2</th>\n",
       "      <td>Greed</td>\n",
       "      <td>1924</td>\n",
       "      <td>Cliff House (1090 Point Lobos Avenue)</td>\n",
       "      <td>In 1887, the Cliff House was severely damaged ...</td>\n",
       "      <td>Metro-Goldwyn-Mayer (MGM)</td>\n",
       "      <td>Metro-Goldwyn-Mayer (MGM)</td>\n",
       "      <td>Eric von Stroheim</td>\n",
       "      <td>Eric von Stroheim</td>\n",
       "      <td>Zasu Pitts</td>\n",
       "      <td>Gibson Gowland</td>\n",
       "      <td>Jean Hersholt</td>\n",
       "    </tr>\n",
       "    <tr>\n",
       "      <th>3</th>\n",
       "      <td>Greed</td>\n",
       "      <td>1924</td>\n",
       "      <td>Bush and Sutter Streets</td>\n",
       "      <td>None</td>\n",
       "      <td>Metro-Goldwyn-Mayer (MGM)</td>\n",
       "      <td>Metro-Goldwyn-Mayer (MGM)</td>\n",
       "      <td>Eric von Stroheim</td>\n",
       "      <td>Eric von Stroheim</td>\n",
       "      <td>Zasu Pitts</td>\n",
       "      <td>Gibson Gowland</td>\n",
       "      <td>Jean Hersholt</td>\n",
       "    </tr>\n",
       "    <tr>\n",
       "      <th>4</th>\n",
       "      <td>Greed</td>\n",
       "      <td>1924</td>\n",
       "      <td>Hayes Street at Laguna</td>\n",
       "      <td>None</td>\n",
       "      <td>Metro-Goldwyn-Mayer (MGM)</td>\n",
       "      <td>Metro-Goldwyn-Mayer (MGM)</td>\n",
       "      <td>Eric von Stroheim</td>\n",
       "      <td>Eric von Stroheim</td>\n",
       "      <td>Zasu Pitts</td>\n",
       "      <td>Gibson Gowland</td>\n",
       "      <td>Jean Hersholt</td>\n",
       "    </tr>\n",
       "  </tbody>\n",
       "</table>\n",
       "</div>"
      ],
      "text/plain": [
       "                Title  Release Year                              Locations  \\\n",
       "0  A Jitney Elopement          1915                20th and Folsom Streets   \n",
       "1  A Jitney Elopement          1915                       Golden Gate Park   \n",
       "2               Greed          1924  Cliff House (1090 Point Lobos Avenue)   \n",
       "3               Greed          1924                Bush and Sutter Streets   \n",
       "4               Greed          1924                 Hayes Street at Laguna   \n",
       "\n",
       "                                           Fun Facts  \\\n",
       "0                                               None   \n",
       "1  During San Francisco's Gold Rush era, the Park...   \n",
       "2  In 1887, the Cliff House was severely damaged ...   \n",
       "3                                               None   \n",
       "4                                               None   \n",
       "\n",
       "                       Production Company                Distributor  \\\n",
       "0  The Essanay Film Manufacturing Company       General Film Company   \n",
       "1  The Essanay Film Manufacturing Company       General Film Company   \n",
       "2               Metro-Goldwyn-Mayer (MGM)  Metro-Goldwyn-Mayer (MGM)   \n",
       "3               Metro-Goldwyn-Mayer (MGM)  Metro-Goldwyn-Mayer (MGM)   \n",
       "4               Metro-Goldwyn-Mayer (MGM)  Metro-Goldwyn-Mayer (MGM)   \n",
       "\n",
       "            Director             Writer          Actor 1         Actor 2  \\\n",
       "0    Charles Chaplin    Charles Chaplin  Charles Chaplin  Edna Purviance   \n",
       "1    Charles Chaplin    Charles Chaplin  Charles Chaplin  Edna Purviance   \n",
       "2  Eric von Stroheim  Eric von Stroheim       Zasu Pitts  Gibson Gowland   \n",
       "3  Eric von Stroheim  Eric von Stroheim       Zasu Pitts  Gibson Gowland   \n",
       "4  Eric von Stroheim  Eric von Stroheim       Zasu Pitts  Gibson Gowland   \n",
       "\n",
       "         Actor 3  \n",
       "0           None  \n",
       "1           None  \n",
       "2  Jean Hersholt  \n",
       "3  Jean Hersholt  \n",
       "4  Jean Hersholt  "
      ]
     },
     "execution_count": 37,
     "metadata": {},
     "output_type": "execute_result"
    }
   ],
   "source": [
    "query = '''\n",
    "            SELECT *\n",
    "            FROM FilmLocations\n",
    "            LIMIT 25\n",
    "        '''\n",
    "df = pd.read_sql_query(query, con)\n",
    "df.head()"
   ]
  },
  {
   "cell_type": "markdown",
   "metadata": {},
   "source": [
    "2. In this example, let us take the first example to a more advanced level. Now we want to retrieve a specific number of rows from the table, but thid time, not from the top of the table. This time we want to retrieve a specific number of rows starting from a specific row in the table.\n",
    "\n",
    "    1. Problem:\n",
    "\n",
    "        *Retrieve the first 15 rows from the \"FilmLocations\" table starting from row 11.*\n",
    "\n",
    "    2. Solution:\n",
    "    ```sql\n",
    "    SELECT * FROM FilmLocations LIMIT 15 OFFSET 10;\n",
    "    ```\n",
    "\n",
    "    3. Copy the solution code above by clicking on the little copy button on the bottom right of the codeblock below and paste it to the textbox of the Datasette tool. Then click **Submit query**.\n",
    "\n",
    "    4. Your output resultset should match like below:\n",
    "    ![](https://cf-courses-data.s3.us.cloud-object-storage.appdomain.cloud/IBMDeveloperSkillsNetwork-DB0201EN-SkillsNetwork/labs/Labs_Coursera_V5/labs/Lab%20-%20COUNT%20-%20DISTINCT%20-%20LIMIT/images/3.A.2.4.png)"
   ]
  },
  {
   "cell_type": "code",
   "execution_count": 38,
   "metadata": {},
   "outputs": [
    {
     "data": {
      "text/html": [
       "<div>\n",
       "<style scoped>\n",
       "    .dataframe tbody tr th:only-of-type {\n",
       "        vertical-align: middle;\n",
       "    }\n",
       "\n",
       "    .dataframe tbody tr th {\n",
       "        vertical-align: top;\n",
       "    }\n",
       "\n",
       "    .dataframe thead th {\n",
       "        text-align: right;\n",
       "    }\n",
       "</style>\n",
       "<table border=\"1\" class=\"dataframe\">\n",
       "  <thead>\n",
       "    <tr style=\"text-align: right;\">\n",
       "      <th></th>\n",
       "      <th>Title</th>\n",
       "      <th>Release Year</th>\n",
       "      <th>Locations</th>\n",
       "      <th>Fun Facts</th>\n",
       "      <th>Production Company</th>\n",
       "      <th>Distributor</th>\n",
       "      <th>Director</th>\n",
       "      <th>Writer</th>\n",
       "      <th>Actor 1</th>\n",
       "      <th>Actor 2</th>\n",
       "      <th>Actor 3</th>\n",
       "    </tr>\n",
       "  </thead>\n",
       "  <tbody>\n",
       "    <tr>\n",
       "      <th>0</th>\n",
       "      <td>Alexander's Ragtime Band</td>\n",
       "      <td>1938</td>\n",
       "      <td>Cliff House (1090 Point Lobos Avenue)</td>\n",
       "      <td>In 1887, the Cliff House was severely damaged ...</td>\n",
       "      <td>Twentieth Century Fox Film Corporation</td>\n",
       "      <td>Twentieth Century Fox Film Corporation</td>\n",
       "      <td>Henry King</td>\n",
       "      <td>Kathryn Scola</td>\n",
       "      <td>Tyrone Power</td>\n",
       "      <td>Alice Faye</td>\n",
       "      <td>Don Ameche</td>\n",
       "    </tr>\n",
       "    <tr>\n",
       "      <th>1</th>\n",
       "      <td>Alexander's Ragtime Band</td>\n",
       "      <td>1938</td>\n",
       "      <td>San Francisco Bay</td>\n",
       "      <td>None</td>\n",
       "      <td>Twentieth Century Fox Film Corporation</td>\n",
       "      <td>Twentieth Century Fox Film Corporation</td>\n",
       "      <td>Henry King</td>\n",
       "      <td>Kathryn Scola</td>\n",
       "      <td>Tyrone Power</td>\n",
       "      <td>Alice Faye</td>\n",
       "      <td>Don Ameche</td>\n",
       "    </tr>\n",
       "    <tr>\n",
       "      <th>2</th>\n",
       "      <td>Alexander's Ragtime Band</td>\n",
       "      <td>1938</td>\n",
       "      <td>Fairmont Hotel (950 Mason Street, Nob Hill)</td>\n",
       "      <td>In 1945 the Fairmont hosted the United Nations...</td>\n",
       "      <td>Twentieth Century Fox Film Corporation</td>\n",
       "      <td>Twentieth Century Fox Film Corporation</td>\n",
       "      <td>Henry King</td>\n",
       "      <td>Kathryn Scola</td>\n",
       "      <td>Tyrone Power</td>\n",
       "      <td>Alice Faye</td>\n",
       "      <td>Don Ameche</td>\n",
       "    </tr>\n",
       "    <tr>\n",
       "      <th>3</th>\n",
       "      <td>Shadow of the Thin Man</td>\n",
       "      <td>1941</td>\n",
       "      <td>Bay Bridge</td>\n",
       "      <td>Before opening in 1936, the bridge was blessed...</td>\n",
       "      <td>Metro-Goldwyn Mayer</td>\n",
       "      <td>Metro-Goldwyn Mayer</td>\n",
       "      <td>W.S. Van Dyke</td>\n",
       "      <td>Harry Kurnitz</td>\n",
       "      <td>William Powell</td>\n",
       "      <td>Myrna Loy</td>\n",
       "      <td>Barry Nelson</td>\n",
       "    </tr>\n",
       "    <tr>\n",
       "      <th>4</th>\n",
       "      <td>The Maltese Falcon</td>\n",
       "      <td>1941</td>\n",
       "      <td>Golden Gate Bridge</td>\n",
       "      <td>With 23 miles of ladders and 300,000 rivets in...</td>\n",
       "      <td>Warner Bros. Pictures</td>\n",
       "      <td>Warner Bros. Pictures</td>\n",
       "      <td>John Huston</td>\n",
       "      <td>John Huston</td>\n",
       "      <td>Humphrey Bogart</td>\n",
       "      <td>Mary Astor</td>\n",
       "      <td>Gladys George</td>\n",
       "    </tr>\n",
       "  </tbody>\n",
       "</table>\n",
       "</div>"
      ],
      "text/plain": [
       "                      Title  Release Year  \\\n",
       "0  Alexander's Ragtime Band          1938   \n",
       "1  Alexander's Ragtime Band          1938   \n",
       "2  Alexander's Ragtime Band          1938   \n",
       "3    Shadow of the Thin Man          1941   \n",
       "4        The Maltese Falcon          1941   \n",
       "\n",
       "                                     Locations  \\\n",
       "0        Cliff House (1090 Point Lobos Avenue)   \n",
       "1                            San Francisco Bay   \n",
       "2  Fairmont Hotel (950 Mason Street, Nob Hill)   \n",
       "3                                   Bay Bridge   \n",
       "4                           Golden Gate Bridge   \n",
       "\n",
       "                                           Fun Facts  \\\n",
       "0  In 1887, the Cliff House was severely damaged ...   \n",
       "1                                               None   \n",
       "2  In 1945 the Fairmont hosted the United Nations...   \n",
       "3  Before opening in 1936, the bridge was blessed...   \n",
       "4  With 23 miles of ladders and 300,000 rivets in...   \n",
       "\n",
       "                       Production Company  \\\n",
       "0  Twentieth Century Fox Film Corporation   \n",
       "1  Twentieth Century Fox Film Corporation   \n",
       "2  Twentieth Century Fox Film Corporation   \n",
       "3                     Metro-Goldwyn Mayer   \n",
       "4                   Warner Bros. Pictures   \n",
       "\n",
       "                              Distributor       Director         Writer  \\\n",
       "0  Twentieth Century Fox Film Corporation     Henry King  Kathryn Scola   \n",
       "1  Twentieth Century Fox Film Corporation     Henry King  Kathryn Scola   \n",
       "2  Twentieth Century Fox Film Corporation     Henry King  Kathryn Scola   \n",
       "3                     Metro-Goldwyn Mayer  W.S. Van Dyke  Harry Kurnitz   \n",
       "4                   Warner Bros. Pictures    John Huston    John Huston   \n",
       "\n",
       "           Actor 1     Actor 2        Actor 3  \n",
       "0     Tyrone Power  Alice Faye     Don Ameche  \n",
       "1     Tyrone Power  Alice Faye     Don Ameche  \n",
       "2     Tyrone Power  Alice Faye     Don Ameche  \n",
       "3   William Powell   Myrna Loy   Barry Nelson  \n",
       "4  Humphrey Bogart  Mary Astor  Gladys George  "
      ]
     },
     "execution_count": 38,
     "metadata": {},
     "output_type": "execute_result"
    }
   ],
   "source": [
    "query = '''\n",
    "            SELECT *\n",
    "            FROM FilmLocations\n",
    "            LIMIT 15 OFFSET 10\n",
    "        '''\n",
    "df = pd.read_sql_query(query, con)\n",
    "df.head()"
   ]
  },
  {
   "cell_type": "markdown",
   "metadata": {},
   "source": [
    "## Task B: Practice exercises on LIMIT"
   ]
  },
  {
   "cell_type": "markdown",
   "metadata": {},
   "source": [
    "Now, let us practice creating and running some LIMIT related queries."
   ]
  },
  {
   "cell_type": "markdown",
   "metadata": {},
   "source": [
    "1. Problem:\n",
    "\n",
    "    *Retrieve the name of first 50 films distinctly.*\n",
    "\n",
    "<details>\n",
    "\t<summary>Click here for Hint</summary>\n",
    "\n",
    "Follow example 1 of LIMIT. Use DISTINCT.\n",
    "\n",
    "</details>\n",
    "\n",
    "<details>\n",
    "\t<summary>Click here for Solution</summary>\n",
    "\n",
    "```sql\n",
    "SELECT DISTINCT Title FROM FilmLocations LIMIT 50;\n",
    "```\n",
    "\n",
    "</details>\n",
    "\n",
    "<details>\n",
    "\t<summary>Click here for Output</summary>\n",
    "\n",
    "![](https://cf-courses-data.s3.us.cloud-object-storage.appdomain.cloud/IBMDeveloperSkillsNetwork-DB0201EN-SkillsNetwork/labs/Labs_Coursera_V5/labs/Lab%20-%20COUNT%20-%20DISTINCT%20-%20LIMIT/images/3.B.1.O.png)\n",
    "\n",
    "</details>"
   ]
  },
  {
   "cell_type": "code",
   "execution_count": 39,
   "metadata": {},
   "outputs": [
    {
     "data": {
      "text/html": [
       "<div>\n",
       "<style scoped>\n",
       "    .dataframe tbody tr th:only-of-type {\n",
       "        vertical-align: middle;\n",
       "    }\n",
       "\n",
       "    .dataframe tbody tr th {\n",
       "        vertical-align: top;\n",
       "    }\n",
       "\n",
       "    .dataframe thead th {\n",
       "        text-align: right;\n",
       "    }\n",
       "</style>\n",
       "<table border=\"1\" class=\"dataframe\">\n",
       "  <thead>\n",
       "    <tr style=\"text-align: right;\">\n",
       "      <th></th>\n",
       "      <th>Title</th>\n",
       "    </tr>\n",
       "  </thead>\n",
       "  <tbody>\n",
       "    <tr>\n",
       "      <th>0</th>\n",
       "      <td>A Jitney Elopement</td>\n",
       "    </tr>\n",
       "    <tr>\n",
       "      <th>1</th>\n",
       "      <td>Greed</td>\n",
       "    </tr>\n",
       "    <tr>\n",
       "      <th>2</th>\n",
       "      <td>The Jazz Singer</td>\n",
       "    </tr>\n",
       "    <tr>\n",
       "      <th>3</th>\n",
       "      <td>Barbary Coast</td>\n",
       "    </tr>\n",
       "    <tr>\n",
       "      <th>4</th>\n",
       "      <td>After the Thin Man</td>\n",
       "    </tr>\n",
       "  </tbody>\n",
       "</table>\n",
       "</div>"
      ],
      "text/plain": [
       "                Title\n",
       "0  A Jitney Elopement\n",
       "1               Greed\n",
       "2     The Jazz Singer\n",
       "3       Barbary Coast\n",
       "4  After the Thin Man"
      ]
     },
     "execution_count": 39,
     "metadata": {},
     "output_type": "execute_result"
    }
   ],
   "source": [
    "query = '''\n",
    "            SELECT DISTINCT(Title)\n",
    "            FROM FilmLocations\n",
    "            LIMIT 50\n",
    "        '''\n",
    "df = pd.read_sql_query(query, con)\n",
    "df.head()"
   ]
  },
  {
   "cell_type": "markdown",
   "metadata": {},
   "source": [
    "2. Problem:\n",
    "\n",
    "    *Retrieve first 10 film names distinctly released in 2015.*\n",
    "\n",
    "<details>\n",
    "\t<summary>Click here for Hint</summary>\n",
    "\n",
    "Follow example 1 of LIMIT. Use DISTINCT. Use WHERE clause comparsion operator = which means **\"Equal to\"**.\n",
    "\n",
    "</details>\n",
    "\n",
    "<details>\n",
    "\t<summary>Click here for Solution</summary>\n",
    "\n",
    "```sql\n",
    "SELECT DISTINCT Title FROM FilmLocations WHERE ReleaseYear=2015 LIMIT 10;\n",
    "```\n",
    "\n",
    "</details>\n",
    "\n",
    "<details>\n",
    "\t<summary>Click here for Output</summary>\n",
    "\n",
    "![](https://cf-courses-data.s3.us.cloud-object-storage.appdomain.cloud/IBMDeveloperSkillsNetwork-DB0201EN-SkillsNetwork/labs/Labs_Coursera_V5/labs/Lab%20-%20COUNT%20-%20DISTINCT%20-%20LIMIT/images/3.B.2.O.png)\n",
    "\n",
    "</details>"
   ]
  },
  {
   "cell_type": "code",
   "execution_count": 41,
   "metadata": {},
   "outputs": [
    {
     "data": {
      "text/html": [
       "<div>\n",
       "<style scoped>\n",
       "    .dataframe tbody tr th:only-of-type {\n",
       "        vertical-align: middle;\n",
       "    }\n",
       "\n",
       "    .dataframe tbody tr th {\n",
       "        vertical-align: top;\n",
       "    }\n",
       "\n",
       "    .dataframe thead th {\n",
       "        text-align: right;\n",
       "    }\n",
       "</style>\n",
       "<table border=\"1\" class=\"dataframe\">\n",
       "  <thead>\n",
       "    <tr style=\"text-align: right;\">\n",
       "      <th></th>\n",
       "      <th>Title</th>\n",
       "    </tr>\n",
       "  </thead>\n",
       "  <tbody>\n",
       "    <tr>\n",
       "      <th>0</th>\n",
       "      <td>Age of Adaline</td>\n",
       "    </tr>\n",
       "    <tr>\n",
       "      <th>1</th>\n",
       "      <td>Americana</td>\n",
       "    </tr>\n",
       "    <tr>\n",
       "      <th>2</th>\n",
       "      <td>Ant-Man</td>\n",
       "    </tr>\n",
       "    <tr>\n",
       "      <th>3</th>\n",
       "      <td>Cardinal X</td>\n",
       "    </tr>\n",
       "    <tr>\n",
       "      <th>4</th>\n",
       "      <td>I Am Michael</td>\n",
       "    </tr>\n",
       "  </tbody>\n",
       "</table>\n",
       "</div>"
      ],
      "text/plain": [
       "            Title\n",
       "0  Age of Adaline\n",
       "1       Americana\n",
       "2         Ant-Man\n",
       "3      Cardinal X\n",
       "4    I Am Michael"
      ]
     },
     "execution_count": 41,
     "metadata": {},
     "output_type": "execute_result"
    }
   ],
   "source": [
    "query = '''\n",
    "            SELECT DISTINCT(Title)\n",
    "            FROM FilmLocations\n",
    "            WHERE [Release Year] == 2015\n",
    "            LIMIT 10\n",
    "        '''\n",
    "df = pd.read_sql_query(query, con)\n",
    "df.head()"
   ]
  },
  {
   "cell_type": "markdown",
   "metadata": {},
   "source": [
    "3. Problem:\n",
    "\n",
    "    *Retrieve the next 3 film names distinctly after first 5 films released in 2015.*\n",
    "\n",
    "<details>\n",
    "\t<summary>Click here for Hint</summary>\n",
    "\n",
    "Follow example 2 of the LIMIT exercise to learn how to use OFFSET. Use DISTINCT and use the WHERE clause comparison operator = which means **\"Equal to\"**.\n",
    "\n",
    "</details>\n",
    "\n",
    "<details>\n",
    "\t<summary>Click here for Solution</summary>\n",
    "\n",
    "```sql\n",
    "SELECT DISTINCT Title FROM FilmLocations WHERE ReleaseYear=2015 LIMIT 3 OFFSET 5;\n",
    "```\n",
    "\n",
    "</details>\n",
    "\n",
    "<details>\n",
    "\t<summary>Click here for Output</summary>\n",
    "\n",
    "![](https://cf-courses-data.s3.us.cloud-object-storage.appdomain.cloud/IBMDeveloperSkillsNetwork-DB0201EN-SkillsNetwork/labs/Labs_Coursera_V5/labs/Lab%20-%20COUNT%20-%20DISTINCT%20-%20LIMIT/images/3.B.3.O.png)\n",
    "\n",
    "</details>"
   ]
  },
  {
   "cell_type": "code",
   "execution_count": 42,
   "metadata": {},
   "outputs": [
    {
     "data": {
      "text/html": [
       "<div>\n",
       "<style scoped>\n",
       "    .dataframe tbody tr th:only-of-type {\n",
       "        vertical-align: middle;\n",
       "    }\n",
       "\n",
       "    .dataframe tbody tr th {\n",
       "        vertical-align: top;\n",
       "    }\n",
       "\n",
       "    .dataframe thead th {\n",
       "        text-align: right;\n",
       "    }\n",
       "</style>\n",
       "<table border=\"1\" class=\"dataframe\">\n",
       "  <thead>\n",
       "    <tr style=\"text-align: right;\">\n",
       "      <th></th>\n",
       "      <th>Title</th>\n",
       "    </tr>\n",
       "  </thead>\n",
       "  <tbody>\n",
       "    <tr>\n",
       "      <th>0</th>\n",
       "      <td>Looking Season 2 ep 202</td>\n",
       "    </tr>\n",
       "    <tr>\n",
       "      <th>1</th>\n",
       "      <td>Looking Season 2 ep 203</td>\n",
       "    </tr>\n",
       "    <tr>\n",
       "      <th>2</th>\n",
       "      <td>Looking Season 2 ep 204</td>\n",
       "    </tr>\n",
       "  </tbody>\n",
       "</table>\n",
       "</div>"
      ],
      "text/plain": [
       "                     Title\n",
       "0  Looking Season 2 ep 202\n",
       "1  Looking Season 2 ep 203\n",
       "2  Looking Season 2 ep 204"
      ]
     },
     "execution_count": 42,
     "metadata": {},
     "output_type": "execute_result"
    }
   ],
   "source": [
    "query = '''\n",
    "            SELECT DISTINCT(Title)\n",
    "            FROM FilmLocations\n",
    "            WHERE [Release Year] == 2015\n",
    "            LIMIT 3 OFFSET 5\n",
    "        '''\n",
    "df = pd.read_sql_query(query, con)\n",
    "df.head()"
   ]
  },
  {
   "cell_type": "markdown",
   "metadata": {},
   "source": [
    "## Congratulations! You have completed this Lab."
   ]
  },
  {
   "cell_type": "code",
   "execution_count": 43,
   "metadata": {},
   "outputs": [],
   "source": [
    "con.close()"
   ]
  },
  {
   "cell_type": "markdown",
   "metadata": {},
   "source": [
    "## Author(s)\n",
    "\n",
    "- [Sandip Saha Joy](https://www.linkedin.com/in/sandipsahajoy/?utm_medium=Exinfluencer&utm_source=Exinfluencer&utm_content=000026UJ&utm_term=10006555&utm_id=NA-SkillsNetwork-Channel-SkillsNetworkCoursesIBMDeveloperSkillsNetworkDB0201ENSkillsNetwork20127838-2022-01-01)"
   ]
  },
  {
   "cell_type": "markdown",
   "metadata": {},
   "source": [
    "## Other Contributor(s)\n",
    "\n",
    "- "
   ]
  },
  {
   "cell_type": "markdown",
   "metadata": {},
   "source": [
    "## Changelog\n",
    "\n",
    "| Date              | Version | Changed By          | Change Description      |\n",
    "| ----------------- | ------- | ------------------- | ----------------------- |\n",
    "| 2022-07-27        | 1.2     | Lakshmi Holla       | Updated html tag        |\n",
    "| 2020-11-23        | 1.1     | Steve Ryan          | ID Review               |\n",
    "| 2020-11-24        | 1.0     | Sandip Saha Joy     | Initial version created |\n",
    "\n",
    "## <h3 align=\"center\"> © IBM Corporation 2020. All rights reserved. <h3/>"
   ]
  }
 ],
 "metadata": {
  "kernelspec": {
   "display_name": "Python 3.9.13 ('base')",
   "language": "python",
   "name": "python3"
  },
  "language_info": {
   "codemirror_mode": {
    "name": "ipython",
    "version": 3
   },
   "file_extension": ".py",
   "mimetype": "text/x-python",
   "name": "python",
   "nbconvert_exporter": "python",
   "pygments_lexer": "ipython3",
   "version": "3.9.13"
  },
  "orig_nbformat": 4,
  "vscode": {
   "interpreter": {
    "hash": "3cfd106f785ae1e288da74ae733f9b47f8a2699db986927140be0bc196406f4c"
   }
  }
 },
 "nbformat": 4,
 "nbformat_minor": 2
}
