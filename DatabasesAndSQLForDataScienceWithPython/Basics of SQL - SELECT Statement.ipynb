{
 "cells": [
  {
   "cell_type": "markdown",
   "metadata": {},
   "source": [
    "![](https://cf-courses-data.s3.us.cloud-object-storage.appdomain.cloud/IBMDeveloperSkillsNetwork-DB0201EN-SkillsNetwork/labs/Labs_Coursera_V5/labs/Lab%20-%20INSERT%20-%20UPDATE%20-%20DELETE/images/IDSNlogo.png)"
   ]
  },
  {
   "cell_type": "markdown",
   "metadata": {},
   "source": [
    "# Hands-on Lab : Basics of SQL SELECT Statement"
   ]
  },
  {
   "cell_type": "markdown",
   "metadata": {},
   "source": [
    "**Estimated time needed:** 20 minutes"
   ]
  },
  {
   "cell_type": "markdown",
   "metadata": {},
   "source": [
    "In this lab, you will learn one of the most commonly used statements of SQL (Structured Query Language), the SELECT statement. The SELECT statement is used to select data from a database."
   ]
  },
  {
   "cell_type": "markdown",
   "metadata": {},
   "source": [
    "**How does the syntax of a SELECT statement look?**"
   ]
  },
  {
   "cell_type": "markdown",
   "metadata": {},
   "source": [
    "```sql\n",
    "SELECT column1, column2, ...\n",
    "FROM table_name\n",
    "WHERE condition;\n",
    "```"
   ]
  },
  {
   "cell_type": "markdown",
   "metadata": {},
   "source": [
    "**What do the keywords / clauses of a SQL statement shown above do?**"
   ]
  },
  {
   "cell_type": "markdown",
   "metadata": {},
   "source": [
    "- **FROM**: Specifies from which table to get the data. The clause can include optional JOIN subclauses to specify the rules for joining tables.\n",
    "- [Optional Clause] **WHERE**: Specifies which rows to retrieve."
   ]
  },
  {
   "cell_type": "markdown",
   "metadata": {},
   "source": [
    "**Why is there a semicolon after the SQL statements?**"
   ]
  },
  {
   "cell_type": "markdown",
   "metadata": {},
   "source": [
    "- Some database systems require a semicolon at the end of each SQL statement for execution. It is a standard way to separate one SQL statement from another which allows more than one SQL statement to be executed in the same call to the server. So, it is good practice to use a semicolon at the end of each SQL statement."
   ]
  },
  {
   "cell_type": "markdown",
   "metadata": {},
   "source": [
    "## Software Used in this Lab"
   ]
  },
  {
   "cell_type": "markdown",
   "metadata": {},
   "source": [
    "In this lab, you will use [Datasette](https://github.com/simonw/datasette?utm_medium=Exinfluencer&utm_source=Exinfluencer&utm_content=000026UJ&utm_term=10006555&utm_id=NA-SkillsNetwork-Channel-SkillsNetworkCoursesIBMDeveloperSkillsNetworkDB0201ENSkillsNetwork20127838-2022-01-01), an open source multi-tool for exploring and publishing data."
   ]
  },
  {
   "cell_type": "markdown",
   "metadata": {},
   "source": [
    "## Database Used in this Lab"
   ]
  },
  {
   "cell_type": "markdown",
   "metadata": {},
   "source": [
    "The database used in this lab comes from the following dataset source: [Film Locations in San Francisco](https://data.sfgov.org/Culture-and-Recreation/Film-Locations-in-San-Francisco/yitu-d5am?utm_medium=Exinfluencer&utm_source=Exinfluencer&utm_content=000026UJ&utm_term=10006555&utm_id=NA-SkillsNetwork-Channel-SkillsNetworkCoursesIBMDeveloperSkillsNetworkDB0201ENSkillsNetwork20127838-2022-01-01) under a [PDDL: Public Domain Dedication and License](https://opendatacommons.org/licenses/pddl/1-0/?utm_medium=Exinfluencer&utm_source=Exinfluencer&utm_content=000026UJ&utm_term=10006555&utm_id=NA-SkillsNetwork-Channel-SkillsNetworkCoursesIBMDeveloperSkillsNetworkDB0201ENSkillsNetwork20127838-2022-01-01)."
   ]
  },
  {
   "cell_type": "markdown",
   "metadata": {},
   "source": [
    "## Objectives"
   ]
  },
  {
   "cell_type": "markdown",
   "metadata": {},
   "source": [
    "After completing this lab, you will be able to:\n",
    "\n",
    "- Query a database\n",
    "- Retrieve data records from one or more tables of a database as resultset according to the criteria you specify"
   ]
  },
  {
   "cell_type": "code",
   "execution_count": 1,
   "metadata": {},
   "outputs": [],
   "source": [
    "import sqlite3\n",
    "import pandas as pd"
   ]
  },
  {
   "cell_type": "code",
   "execution_count": 2,
   "metadata": {},
   "outputs": [],
   "source": [
    "con = sqlite3.connect('data/database.db')\n",
    "cur = con.cursor()"
   ]
  },
  {
   "cell_type": "markdown",
   "metadata": {},
   "source": [
    "## Task A: Exploring the Database"
   ]
  },
  {
   "cell_type": "markdown",
   "metadata": {},
   "source": [
    "Let us first explore the **SanFranciscoFilmLocations** database using the **Datasette** tool:\n",
    "\n",
    "1. If the first statement listed below is not already in the Datasette textbox on the right, then copy the code below by clicking on the little copy button on the bottom right of the codeblock below and then paste it into the textbox of the Datasette tool using either **Ctrl+V** or right-click in the text box and choose **Paste**.\n",
    "```sql\n",
    "SELECT * FROM FilmLocations;\n",
    "```\n",
    "![](https://cf-courses-data.s3.us.cloud-object-storage.appdomain.cloud/IBMDeveloperSkillsNetwork-DB0201EN-SkillsNetwork/labs/Labs_Coursera_V5/labs/Lab%20-%20Basics%20of%20SQL%20SELECT%20Statement/images/A.1.png)\n",
    "\n",
    "2. Click **Submit Query**.\n",
    "\n",
    "3. Now you can scroll down the table and explore all the columns and rows of the **FilmLocations** table to get an overall idea of the table contents.\n",
    "![](https://cf-courses-data.s3.us.cloud-object-storage.appdomain.cloud/IBMDeveloperSkillsNetwork-DB0201EN-SkillsNetwork/labs/Labs_Coursera_V5/labs/Lab%20-%20Basics%20of%20SQL%20SELECT%20Statement/images/A.2.png)\n",
    "\n",
    "4. These are the column attribute descriptions from the **FilmLocations** table:\n",
    "```\n",
    "FilmLocations(\n",
    "    Title:              titles of the films, \n",
    "    ReleaseYear:        time of public release of the films, \n",
    "    Locations:          locations of San Francisco where the films were shot, \n",
    "    FunFacts:           funny facts about the filming locations, \n",
    "    ProductionCompany:  companies who produced the films, \n",
    "    Distributor:        companies who distributed the films, \n",
    "    Director:           people who directed the films, \n",
    "    Writer:             people who wrote the films, \n",
    "    Actor1:             person 1 who acted in the films, \n",
    "    Actor2:             person 2 who acted in the films, \n",
    "    Actor3:             person 3 who acted in the films\n",
    ")\n",
    "```"
   ]
  },
  {
   "cell_type": "code",
   "execution_count": 3,
   "metadata": {},
   "outputs": [
    {
     "data": {
      "text/html": [
       "<div>\n",
       "<style scoped>\n",
       "    .dataframe tbody tr th:only-of-type {\n",
       "        vertical-align: middle;\n",
       "    }\n",
       "\n",
       "    .dataframe tbody tr th {\n",
       "        vertical-align: top;\n",
       "    }\n",
       "\n",
       "    .dataframe thead th {\n",
       "        text-align: right;\n",
       "    }\n",
       "</style>\n",
       "<table border=\"1\" class=\"dataframe\">\n",
       "  <thead>\n",
       "    <tr style=\"text-align: right;\">\n",
       "      <th></th>\n",
       "      <th>Title</th>\n",
       "      <th>Release Year</th>\n",
       "      <th>Locations</th>\n",
       "      <th>Fun Facts</th>\n",
       "      <th>Production Company</th>\n",
       "      <th>Distributor</th>\n",
       "      <th>Director</th>\n",
       "      <th>Writer</th>\n",
       "      <th>Actor 1</th>\n",
       "      <th>Actor 2</th>\n",
       "      <th>Actor 3</th>\n",
       "    </tr>\n",
       "  </thead>\n",
       "  <tbody>\n",
       "    <tr>\n",
       "      <th>0</th>\n",
       "      <td>A Jitney Elopement</td>\n",
       "      <td>1915</td>\n",
       "      <td>20th and Folsom Streets</td>\n",
       "      <td>None</td>\n",
       "      <td>The Essanay Film Manufacturing Company</td>\n",
       "      <td>General Film Company</td>\n",
       "      <td>Charles Chaplin</td>\n",
       "      <td>Charles Chaplin</td>\n",
       "      <td>Charles Chaplin</td>\n",
       "      <td>Edna Purviance</td>\n",
       "      <td>None</td>\n",
       "    </tr>\n",
       "    <tr>\n",
       "      <th>1</th>\n",
       "      <td>A Jitney Elopement</td>\n",
       "      <td>1915</td>\n",
       "      <td>Golden Gate Park</td>\n",
       "      <td>During San Francisco's Gold Rush era, the Park...</td>\n",
       "      <td>The Essanay Film Manufacturing Company</td>\n",
       "      <td>General Film Company</td>\n",
       "      <td>Charles Chaplin</td>\n",
       "      <td>Charles Chaplin</td>\n",
       "      <td>Charles Chaplin</td>\n",
       "      <td>Edna Purviance</td>\n",
       "      <td>None</td>\n",
       "    </tr>\n",
       "    <tr>\n",
       "      <th>2</th>\n",
       "      <td>Greed</td>\n",
       "      <td>1924</td>\n",
       "      <td>Cliff House (1090 Point Lobos Avenue)</td>\n",
       "      <td>In 1887, the Cliff House was severely damaged ...</td>\n",
       "      <td>Metro-Goldwyn-Mayer (MGM)</td>\n",
       "      <td>Metro-Goldwyn-Mayer (MGM)</td>\n",
       "      <td>Eric von Stroheim</td>\n",
       "      <td>Eric von Stroheim</td>\n",
       "      <td>Zasu Pitts</td>\n",
       "      <td>Gibson Gowland</td>\n",
       "      <td>Jean Hersholt</td>\n",
       "    </tr>\n",
       "    <tr>\n",
       "      <th>3</th>\n",
       "      <td>Greed</td>\n",
       "      <td>1924</td>\n",
       "      <td>Bush and Sutter Streets</td>\n",
       "      <td>None</td>\n",
       "      <td>Metro-Goldwyn-Mayer (MGM)</td>\n",
       "      <td>Metro-Goldwyn-Mayer (MGM)</td>\n",
       "      <td>Eric von Stroheim</td>\n",
       "      <td>Eric von Stroheim</td>\n",
       "      <td>Zasu Pitts</td>\n",
       "      <td>Gibson Gowland</td>\n",
       "      <td>Jean Hersholt</td>\n",
       "    </tr>\n",
       "    <tr>\n",
       "      <th>4</th>\n",
       "      <td>Greed</td>\n",
       "      <td>1924</td>\n",
       "      <td>Hayes Street at Laguna</td>\n",
       "      <td>None</td>\n",
       "      <td>Metro-Goldwyn-Mayer (MGM)</td>\n",
       "      <td>Metro-Goldwyn-Mayer (MGM)</td>\n",
       "      <td>Eric von Stroheim</td>\n",
       "      <td>Eric von Stroheim</td>\n",
       "      <td>Zasu Pitts</td>\n",
       "      <td>Gibson Gowland</td>\n",
       "      <td>Jean Hersholt</td>\n",
       "    </tr>\n",
       "  </tbody>\n",
       "</table>\n",
       "</div>"
      ],
      "text/plain": [
       "                Title  Release Year                              Locations  \\\n",
       "0  A Jitney Elopement          1915                20th and Folsom Streets   \n",
       "1  A Jitney Elopement          1915                       Golden Gate Park   \n",
       "2               Greed          1924  Cliff House (1090 Point Lobos Avenue)   \n",
       "3               Greed          1924                Bush and Sutter Streets   \n",
       "4               Greed          1924                 Hayes Street at Laguna   \n",
       "\n",
       "                                           Fun Facts  \\\n",
       "0                                               None   \n",
       "1  During San Francisco's Gold Rush era, the Park...   \n",
       "2  In 1887, the Cliff House was severely damaged ...   \n",
       "3                                               None   \n",
       "4                                               None   \n",
       "\n",
       "                       Production Company                Distributor  \\\n",
       "0  The Essanay Film Manufacturing Company       General Film Company   \n",
       "1  The Essanay Film Manufacturing Company       General Film Company   \n",
       "2               Metro-Goldwyn-Mayer (MGM)  Metro-Goldwyn-Mayer (MGM)   \n",
       "3               Metro-Goldwyn-Mayer (MGM)  Metro-Goldwyn-Mayer (MGM)   \n",
       "4               Metro-Goldwyn-Mayer (MGM)  Metro-Goldwyn-Mayer (MGM)   \n",
       "\n",
       "            Director             Writer          Actor 1         Actor 2  \\\n",
       "0    Charles Chaplin    Charles Chaplin  Charles Chaplin  Edna Purviance   \n",
       "1    Charles Chaplin    Charles Chaplin  Charles Chaplin  Edna Purviance   \n",
       "2  Eric von Stroheim  Eric von Stroheim       Zasu Pitts  Gibson Gowland   \n",
       "3  Eric von Stroheim  Eric von Stroheim       Zasu Pitts  Gibson Gowland   \n",
       "4  Eric von Stroheim  Eric von Stroheim       Zasu Pitts  Gibson Gowland   \n",
       "\n",
       "         Actor 3  \n",
       "0           None  \n",
       "1           None  \n",
       "2  Jean Hersholt  \n",
       "3  Jean Hersholt  \n",
       "4  Jean Hersholt  "
      ]
     },
     "execution_count": 3,
     "metadata": {},
     "output_type": "execute_result"
    }
   ],
   "source": [
    "query = '''\n",
    "            SELECT *\n",
    "            FROM FilmLocations\n",
    "        '''\n",
    "df = pd.read_sql_query(query, con)\n",
    "df.head()"
   ]
  },
  {
   "cell_type": "markdown",
   "metadata": {},
   "source": [
    "## Task B: Example exercises on SELECT statement"
   ]
  },
  {
   "cell_type": "markdown",
   "metadata": {},
   "source": [
    "Now let us go through some examples of SELECT queries:"
   ]
  },
  {
   "cell_type": "markdown",
   "metadata": {},
   "source": [
    "1. In this example, suppose we want to retrieve details of all the films from the \"FilmLocations\" table. The details of each film record should contain all the film columns.\n",
    "\n",
    "    1. Problem:\n",
    "\n",
    "        *Retrieve all records with all columns from the \"FilmLocations\" table.*\n",
    "\n",
    "    2. Solution:\n",
    "    ```sql\n",
    "    SELECT * FROM FilmLocations;\n",
    "    ```\n",
    "\n",
    "    3. Copy the solution code above by clicking on the little copy button on the bottom right of the codeblock below and paste it to the textbox of the Datasette tool. Then click **Submit query**.\n",
    "    ![](https://cf-courses-data.s3.us.cloud-object-storage.appdomain.cloud/IBMDeveloperSkillsNetwork-DB0201EN-SkillsNetwork/labs/Labs_Coursera_V5/labs/Lab%20-%20Basics%20of%20SQL%20SELECT%20Statement/images/B.1.3.png)\n",
    "\n",
    "    4. Your output resultset should match like below:\n",
    "    ![](https://cf-courses-data.s3.us.cloud-object-storage.appdomain.cloud/IBMDeveloperSkillsNetwork-DB0201EN-SkillsNetwork/labs/Labs_Coursera_V5/labs/Lab%20-%20Basics%20of%20SQL%20SELECT%20Statement/images/B.1.4.png)"
   ]
  },
  {
   "cell_type": "code",
   "execution_count": 4,
   "metadata": {},
   "outputs": [
    {
     "data": {
      "text/html": [
       "<div>\n",
       "<style scoped>\n",
       "    .dataframe tbody tr th:only-of-type {\n",
       "        vertical-align: middle;\n",
       "    }\n",
       "\n",
       "    .dataframe tbody tr th {\n",
       "        vertical-align: top;\n",
       "    }\n",
       "\n",
       "    .dataframe thead th {\n",
       "        text-align: right;\n",
       "    }\n",
       "</style>\n",
       "<table border=\"1\" class=\"dataframe\">\n",
       "  <thead>\n",
       "    <tr style=\"text-align: right;\">\n",
       "      <th></th>\n",
       "      <th>Title</th>\n",
       "      <th>Release Year</th>\n",
       "      <th>Locations</th>\n",
       "      <th>Fun Facts</th>\n",
       "      <th>Production Company</th>\n",
       "      <th>Distributor</th>\n",
       "      <th>Director</th>\n",
       "      <th>Writer</th>\n",
       "      <th>Actor 1</th>\n",
       "      <th>Actor 2</th>\n",
       "      <th>Actor 3</th>\n",
       "    </tr>\n",
       "  </thead>\n",
       "  <tbody>\n",
       "    <tr>\n",
       "      <th>0</th>\n",
       "      <td>A Jitney Elopement</td>\n",
       "      <td>1915</td>\n",
       "      <td>20th and Folsom Streets</td>\n",
       "      <td>None</td>\n",
       "      <td>The Essanay Film Manufacturing Company</td>\n",
       "      <td>General Film Company</td>\n",
       "      <td>Charles Chaplin</td>\n",
       "      <td>Charles Chaplin</td>\n",
       "      <td>Charles Chaplin</td>\n",
       "      <td>Edna Purviance</td>\n",
       "      <td>None</td>\n",
       "    </tr>\n",
       "    <tr>\n",
       "      <th>1</th>\n",
       "      <td>A Jitney Elopement</td>\n",
       "      <td>1915</td>\n",
       "      <td>Golden Gate Park</td>\n",
       "      <td>During San Francisco's Gold Rush era, the Park...</td>\n",
       "      <td>The Essanay Film Manufacturing Company</td>\n",
       "      <td>General Film Company</td>\n",
       "      <td>Charles Chaplin</td>\n",
       "      <td>Charles Chaplin</td>\n",
       "      <td>Charles Chaplin</td>\n",
       "      <td>Edna Purviance</td>\n",
       "      <td>None</td>\n",
       "    </tr>\n",
       "    <tr>\n",
       "      <th>2</th>\n",
       "      <td>Greed</td>\n",
       "      <td>1924</td>\n",
       "      <td>Cliff House (1090 Point Lobos Avenue)</td>\n",
       "      <td>In 1887, the Cliff House was severely damaged ...</td>\n",
       "      <td>Metro-Goldwyn-Mayer (MGM)</td>\n",
       "      <td>Metro-Goldwyn-Mayer (MGM)</td>\n",
       "      <td>Eric von Stroheim</td>\n",
       "      <td>Eric von Stroheim</td>\n",
       "      <td>Zasu Pitts</td>\n",
       "      <td>Gibson Gowland</td>\n",
       "      <td>Jean Hersholt</td>\n",
       "    </tr>\n",
       "    <tr>\n",
       "      <th>3</th>\n",
       "      <td>Greed</td>\n",
       "      <td>1924</td>\n",
       "      <td>Bush and Sutter Streets</td>\n",
       "      <td>None</td>\n",
       "      <td>Metro-Goldwyn-Mayer (MGM)</td>\n",
       "      <td>Metro-Goldwyn-Mayer (MGM)</td>\n",
       "      <td>Eric von Stroheim</td>\n",
       "      <td>Eric von Stroheim</td>\n",
       "      <td>Zasu Pitts</td>\n",
       "      <td>Gibson Gowland</td>\n",
       "      <td>Jean Hersholt</td>\n",
       "    </tr>\n",
       "    <tr>\n",
       "      <th>4</th>\n",
       "      <td>Greed</td>\n",
       "      <td>1924</td>\n",
       "      <td>Hayes Street at Laguna</td>\n",
       "      <td>None</td>\n",
       "      <td>Metro-Goldwyn-Mayer (MGM)</td>\n",
       "      <td>Metro-Goldwyn-Mayer (MGM)</td>\n",
       "      <td>Eric von Stroheim</td>\n",
       "      <td>Eric von Stroheim</td>\n",
       "      <td>Zasu Pitts</td>\n",
       "      <td>Gibson Gowland</td>\n",
       "      <td>Jean Hersholt</td>\n",
       "    </tr>\n",
       "  </tbody>\n",
       "</table>\n",
       "</div>"
      ],
      "text/plain": [
       "                Title  Release Year                              Locations  \\\n",
       "0  A Jitney Elopement          1915                20th and Folsom Streets   \n",
       "1  A Jitney Elopement          1915                       Golden Gate Park   \n",
       "2               Greed          1924  Cliff House (1090 Point Lobos Avenue)   \n",
       "3               Greed          1924                Bush and Sutter Streets   \n",
       "4               Greed          1924                 Hayes Street at Laguna   \n",
       "\n",
       "                                           Fun Facts  \\\n",
       "0                                               None   \n",
       "1  During San Francisco's Gold Rush era, the Park...   \n",
       "2  In 1887, the Cliff House was severely damaged ...   \n",
       "3                                               None   \n",
       "4                                               None   \n",
       "\n",
       "                       Production Company                Distributor  \\\n",
       "0  The Essanay Film Manufacturing Company       General Film Company   \n",
       "1  The Essanay Film Manufacturing Company       General Film Company   \n",
       "2               Metro-Goldwyn-Mayer (MGM)  Metro-Goldwyn-Mayer (MGM)   \n",
       "3               Metro-Goldwyn-Mayer (MGM)  Metro-Goldwyn-Mayer (MGM)   \n",
       "4               Metro-Goldwyn-Mayer (MGM)  Metro-Goldwyn-Mayer (MGM)   \n",
       "\n",
       "            Director             Writer          Actor 1         Actor 2  \\\n",
       "0    Charles Chaplin    Charles Chaplin  Charles Chaplin  Edna Purviance   \n",
       "1    Charles Chaplin    Charles Chaplin  Charles Chaplin  Edna Purviance   \n",
       "2  Eric von Stroheim  Eric von Stroheim       Zasu Pitts  Gibson Gowland   \n",
       "3  Eric von Stroheim  Eric von Stroheim       Zasu Pitts  Gibson Gowland   \n",
       "4  Eric von Stroheim  Eric von Stroheim       Zasu Pitts  Gibson Gowland   \n",
       "\n",
       "         Actor 3  \n",
       "0           None  \n",
       "1           None  \n",
       "2  Jean Hersholt  \n",
       "3  Jean Hersholt  \n",
       "4  Jean Hersholt  "
      ]
     },
     "execution_count": 4,
     "metadata": {},
     "output_type": "execute_result"
    }
   ],
   "source": [
    "query = '''\n",
    "            SELECT *\n",
    "            FROM FilmLocations\n",
    "        '''\n",
    "df = pd.read_sql_query(query, con)\n",
    "df.head()"
   ]
  },
  {
   "cell_type": "markdown",
   "metadata": {},
   "source": [
    "2. In this example, now we want to retrieve selective details of all the film records. Let us retrieve the names of all the films along with director names and writer names.\n",
    "\n",
    "    1. Problem:\n",
    "\n",
    "        *Retrieve the names of all films with director names and writer names.*\n",
    "\n",
    "    2. Solution:\n",
    "    ```sql\n",
    "    SELECT Title, Director, Writer FROM FilmLocations;\n",
    "    ```\n",
    "\n",
    "    3. Copy the solution code above by clicking on the little copy button on the bottom right of the codeblock below and paste it to the textbox of the Datasette tool. Then click **Submit query**.\n",
    "    ![](https://cf-courses-data.s3.us.cloud-object-storage.appdomain.cloud/IBMDeveloperSkillsNetwork-DB0201EN-SkillsNetwork/labs/Labs_Coursera_V5/labs/Lab%20-%20Basics%20of%20SQL%20SELECT%20Statement/images/B.2.3.png)\n",
    "\n",
    "    4. Your output resultset should match like below:\n",
    "    ![](https://cf-courses-data.s3.us.cloud-object-storage.appdomain.cloud/IBMDeveloperSkillsNetwork-DB0201EN-SkillsNetwork/labs/Labs_Coursera_V5/labs/Lab%20-%20Basics%20of%20SQL%20SELECT%20Statement/images/B.2.4.png)"
   ]
  },
  {
   "cell_type": "code",
   "execution_count": 5,
   "metadata": {},
   "outputs": [
    {
     "data": {
      "text/html": [
       "<div>\n",
       "<style scoped>\n",
       "    .dataframe tbody tr th:only-of-type {\n",
       "        vertical-align: middle;\n",
       "    }\n",
       "\n",
       "    .dataframe tbody tr th {\n",
       "        vertical-align: top;\n",
       "    }\n",
       "\n",
       "    .dataframe thead th {\n",
       "        text-align: right;\n",
       "    }\n",
       "</style>\n",
       "<table border=\"1\" class=\"dataframe\">\n",
       "  <thead>\n",
       "    <tr style=\"text-align: right;\">\n",
       "      <th></th>\n",
       "      <th>Title</th>\n",
       "      <th>Director</th>\n",
       "      <th>Writer</th>\n",
       "    </tr>\n",
       "  </thead>\n",
       "  <tbody>\n",
       "    <tr>\n",
       "      <th>0</th>\n",
       "      <td>A Jitney Elopement</td>\n",
       "      <td>Charles Chaplin</td>\n",
       "      <td>Charles Chaplin</td>\n",
       "    </tr>\n",
       "    <tr>\n",
       "      <th>1</th>\n",
       "      <td>A Jitney Elopement</td>\n",
       "      <td>Charles Chaplin</td>\n",
       "      <td>Charles Chaplin</td>\n",
       "    </tr>\n",
       "    <tr>\n",
       "      <th>2</th>\n",
       "      <td>Greed</td>\n",
       "      <td>Eric von Stroheim</td>\n",
       "      <td>Eric von Stroheim</td>\n",
       "    </tr>\n",
       "    <tr>\n",
       "      <th>3</th>\n",
       "      <td>Greed</td>\n",
       "      <td>Eric von Stroheim</td>\n",
       "      <td>Eric von Stroheim</td>\n",
       "    </tr>\n",
       "    <tr>\n",
       "      <th>4</th>\n",
       "      <td>Greed</td>\n",
       "      <td>Eric von Stroheim</td>\n",
       "      <td>Eric von Stroheim</td>\n",
       "    </tr>\n",
       "  </tbody>\n",
       "</table>\n",
       "</div>"
      ],
      "text/plain": [
       "                Title           Director             Writer\n",
       "0  A Jitney Elopement    Charles Chaplin    Charles Chaplin\n",
       "1  A Jitney Elopement    Charles Chaplin    Charles Chaplin\n",
       "2               Greed  Eric von Stroheim  Eric von Stroheim\n",
       "3               Greed  Eric von Stroheim  Eric von Stroheim\n",
       "4               Greed  Eric von Stroheim  Eric von Stroheim"
      ]
     },
     "execution_count": 5,
     "metadata": {},
     "output_type": "execute_result"
    }
   ],
   "source": [
    "query = '''\n",
    "            SELECT Title, Director, Writer\n",
    "            FROM FilmLocations\n",
    "        '''\n",
    "df = pd.read_sql_query(query, con)\n",
    "df.head()"
   ]
  },
  {
   "cell_type": "markdown",
   "metadata": {},
   "source": [
    "3. In this example, we want to retrieve film names along with filming locations and release years. But we also want to restrict the output resultset so that we can retrieve only the film records released in 2001 and onwards (release years after 2001 including 2001).\n",
    "\n",
    "    1. Problem:\n",
    "\n",
    "        *Retrieve the names of all films released in the 21st century and onwards (release years after 2001 including 2001), along with filming locations and release years.*\n",
    "\n",
    "    2. Solution:\n",
    "    ```sql\n",
    "    SELECT Title, ReleaseYear, Locations FROM FilmLocations WHERE ReleaseYear>=2001;\n",
    "    ```\n",
    "\n",
    "    3. Copy the solution code above by clicking on the little copy button on the bottom right of the codeblock below and paste it to the textbox of the Datasette tool. Then click **Submit query**.\n",
    "    ![](https://cf-courses-data.s3.us.cloud-object-storage.appdomain.cloud/IBMDeveloperSkillsNetwork-DB0201EN-SkillsNetwork/labs/Labs_Coursera_V5/labs/Lab%20-%20Basics%20of%20SQL%20SELECT%20Statement/images/B.3.3.png)\n",
    "\n",
    "    4. Your output resultset should match like below:\n",
    "    ![](https://cf-courses-data.s3.us.cloud-object-storage.appdomain.cloud/IBMDeveloperSkillsNetwork-DB0201EN-SkillsNetwork/labs/Labs_Coursera_V5/labs/Lab%20-%20Basics%20of%20SQL%20SELECT%20Statement/images/B.3.4.png)"
   ]
  },
  {
   "cell_type": "code",
   "execution_count": 6,
   "metadata": {},
   "outputs": [
    {
     "data": {
      "text/html": [
       "<div>\n",
       "<style scoped>\n",
       "    .dataframe tbody tr th:only-of-type {\n",
       "        vertical-align: middle;\n",
       "    }\n",
       "\n",
       "    .dataframe tbody tr th {\n",
       "        vertical-align: top;\n",
       "    }\n",
       "\n",
       "    .dataframe thead th {\n",
       "        text-align: right;\n",
       "    }\n",
       "</style>\n",
       "<table border=\"1\" class=\"dataframe\">\n",
       "  <thead>\n",
       "    <tr style=\"text-align: right;\">\n",
       "      <th></th>\n",
       "      <th>Title</th>\n",
       "      <th>Release Year</th>\n",
       "      <th>Locations</th>\n",
       "    </tr>\n",
       "  </thead>\n",
       "  <tbody>\n",
       "    <tr>\n",
       "      <th>0</th>\n",
       "      <td>By Hook or By Crook</td>\n",
       "      <td>2001</td>\n",
       "      <td>The Lexington Club (3464 19th Street at Lexing...</td>\n",
       "    </tr>\n",
       "    <tr>\n",
       "      <th>1</th>\n",
       "      <td>By Hook or By Crook</td>\n",
       "      <td>2001</td>\n",
       "      <td>Royan Hotel (405 Valencia Street, Mission Dist...</td>\n",
       "    </tr>\n",
       "    <tr>\n",
       "      <th>2</th>\n",
       "      <td>By Hook or By Crook</td>\n",
       "      <td>2001</td>\n",
       "      <td>Department of Public Health (101 Grove Street ...</td>\n",
       "    </tr>\n",
       "    <tr>\n",
       "      <th>3</th>\n",
       "      <td>Dr. Dolittle 2</td>\n",
       "      <td>2001</td>\n",
       "      <td>West Chrissy Field (Presidio, Golden Gate Nati...</td>\n",
       "    </tr>\n",
       "    <tr>\n",
       "      <th>4</th>\n",
       "      <td>Dr. Dolittle 2</td>\n",
       "      <td>2001</td>\n",
       "      <td>Sacramento St., Between Pierce &amp; Broderick Str...</td>\n",
       "    </tr>\n",
       "  </tbody>\n",
       "</table>\n",
       "</div>"
      ],
      "text/plain": [
       "                 Title  Release Year  \\\n",
       "0  By Hook or By Crook          2001   \n",
       "1  By Hook or By Crook          2001   \n",
       "2  By Hook or By Crook          2001   \n",
       "3       Dr. Dolittle 2          2001   \n",
       "4       Dr. Dolittle 2          2001   \n",
       "\n",
       "                                           Locations  \n",
       "0  The Lexington Club (3464 19th Street at Lexing...  \n",
       "1  Royan Hotel (405 Valencia Street, Mission Dist...  \n",
       "2  Department of Public Health (101 Grove Street ...  \n",
       "3  West Chrissy Field (Presidio, Golden Gate Nati...  \n",
       "4  Sacramento St., Between Pierce & Broderick Str...  "
      ]
     },
     "execution_count": 6,
     "metadata": {},
     "output_type": "execute_result"
    }
   ],
   "source": [
    "query = '''\n",
    "            SELECT Title, [Release Year], Locations\n",
    "            FROM FilmLocations\n",
    "            WHERE [Release Year] >= 2001\n",
    "        '''\n",
    "df = pd.read_sql_query(query, con)\n",
    "df.head()"
   ]
  },
  {
   "cell_type": "markdown",
   "metadata": {},
   "source": [
    "## Task C: Practice exercises on SELECT statement"
   ]
  },
  {
   "cell_type": "markdown",
   "metadata": {},
   "source": [
    "Finally, let us practice creating and running some SELECT queries."
   ]
  },
  {
   "cell_type": "markdown",
   "metadata": {},
   "source": [
    "1. Problem:\n",
    "\n",
    "    *Retrieve the fun facts and filming locations of all films.*\n",
    "\n",
    "<details>\n",
    "\t<summary>Click here for Hint</summary>\n",
    "\n",
    "Follow example 2 of SELECT where records have been retrieved containing details of some particular columns.\n",
    "\n",
    "</details>\n",
    "\n",
    "<details>\n",
    "\t<summary>Click here for Solution</summary>\n",
    "\n",
    "```sql\n",
    "SELECT Locations, FunFacts FROM FilmLocations;\n",
    "```\n",
    "\n",
    "</details>\n",
    "\n",
    "<details>\n",
    "\t<summary>Click here for Output</summary>\n",
    "\n",
    "![](https://cf-courses-data.s3.us.cloud-object-storage.appdomain.cloud/IBMDeveloperSkillsNetwork-DB0201EN-SkillsNetwork/labs/Labs_Coursera_V5/labs/Lab%20-%20Basics%20of%20SQL%20SELECT%20Statement/images/C.1.O.png)\n",
    "\n",
    "</details>"
   ]
  },
  {
   "cell_type": "code",
   "execution_count": 7,
   "metadata": {},
   "outputs": [
    {
     "data": {
      "text/html": [
       "<div>\n",
       "<style scoped>\n",
       "    .dataframe tbody tr th:only-of-type {\n",
       "        vertical-align: middle;\n",
       "    }\n",
       "\n",
       "    .dataframe tbody tr th {\n",
       "        vertical-align: top;\n",
       "    }\n",
       "\n",
       "    .dataframe thead th {\n",
       "        text-align: right;\n",
       "    }\n",
       "</style>\n",
       "<table border=\"1\" class=\"dataframe\">\n",
       "  <thead>\n",
       "    <tr style=\"text-align: right;\">\n",
       "      <th></th>\n",
       "      <th>Fun Facts</th>\n",
       "      <th>Locations</th>\n",
       "    </tr>\n",
       "  </thead>\n",
       "  <tbody>\n",
       "    <tr>\n",
       "      <th>0</th>\n",
       "      <td>None</td>\n",
       "      <td>20th and Folsom Streets</td>\n",
       "    </tr>\n",
       "    <tr>\n",
       "      <th>1</th>\n",
       "      <td>During San Francisco's Gold Rush era, the Park...</td>\n",
       "      <td>Golden Gate Park</td>\n",
       "    </tr>\n",
       "    <tr>\n",
       "      <th>2</th>\n",
       "      <td>In 1887, the Cliff House was severely damaged ...</td>\n",
       "      <td>Cliff House (1090 Point Lobos Avenue)</td>\n",
       "    </tr>\n",
       "    <tr>\n",
       "      <th>3</th>\n",
       "      <td>None</td>\n",
       "      <td>Bush and Sutter Streets</td>\n",
       "    </tr>\n",
       "    <tr>\n",
       "      <th>4</th>\n",
       "      <td>None</td>\n",
       "      <td>Hayes Street at Laguna</td>\n",
       "    </tr>\n",
       "  </tbody>\n",
       "</table>\n",
       "</div>"
      ],
      "text/plain": [
       "                                           Fun Facts  \\\n",
       "0                                               None   \n",
       "1  During San Francisco's Gold Rush era, the Park...   \n",
       "2  In 1887, the Cliff House was severely damaged ...   \n",
       "3                                               None   \n",
       "4                                               None   \n",
       "\n",
       "                               Locations  \n",
       "0                20th and Folsom Streets  \n",
       "1                       Golden Gate Park  \n",
       "2  Cliff House (1090 Point Lobos Avenue)  \n",
       "3                Bush and Sutter Streets  \n",
       "4                 Hayes Street at Laguna  "
      ]
     },
     "execution_count": 7,
     "metadata": {},
     "output_type": "execute_result"
    }
   ],
   "source": [
    "query = '''\n",
    "            SELECT [Fun Facts], Locations\n",
    "            FROM FilmLocations\n",
    "        '''\n",
    "df = pd.read_sql_query(query, con)\n",
    "df.head()"
   ]
  },
  {
   "cell_type": "markdown",
   "metadata": {},
   "source": [
    "2. Problem:\n",
    "\n",
    "    *Retrieve the names of all films released in the 20th century and before (release years before 2000 including 2000) that, along with filming locations and release years.*\n",
    "\n",
    "<details>\n",
    "\t<summary>Click here for Hint</summary>\n",
    "\n",
    "Follow example 3 of SELECT where we restricted the output resultset so that we can retrieve only the film records with certain release years. Use WHERE clause comparsion operator <= which means **\"Less than or equal to\"**.\n",
    "\n",
    "</details>\n",
    "\n",
    "<details>\n",
    "\t<summary>Click here for Solution</summary>\n",
    "\n",
    "```sql\n",
    "SELECT Title, ReleaseYear, Locations FROM FilmLocations WHERE ReleaseYear<=2000;\n",
    "```\n",
    "\n",
    "</details>\n",
    "\n",
    "<details>\n",
    "\t<summary>Click here for Output</summary>\n",
    "\n",
    "![](https://cf-courses-data.s3.us.cloud-object-storage.appdomain.cloud/IBMDeveloperSkillsNetwork-DB0201EN-SkillsNetwork/labs/Labs_Coursera_V5/labs/Lab%20-%20Basics%20of%20SQL%20SELECT%20Statement/images/C.2.O.png)\n",
    "\n",
    "</details>"
   ]
  },
  {
   "cell_type": "code",
   "execution_count": 8,
   "metadata": {},
   "outputs": [
    {
     "data": {
      "text/html": [
       "<div>\n",
       "<style scoped>\n",
       "    .dataframe tbody tr th:only-of-type {\n",
       "        vertical-align: middle;\n",
       "    }\n",
       "\n",
       "    .dataframe tbody tr th {\n",
       "        vertical-align: top;\n",
       "    }\n",
       "\n",
       "    .dataframe thead th {\n",
       "        text-align: right;\n",
       "    }\n",
       "</style>\n",
       "<table border=\"1\" class=\"dataframe\">\n",
       "  <thead>\n",
       "    <tr style=\"text-align: right;\">\n",
       "      <th></th>\n",
       "      <th>Title</th>\n",
       "      <th>Locations</th>\n",
       "      <th>Release Year</th>\n",
       "    </tr>\n",
       "  </thead>\n",
       "  <tbody>\n",
       "    <tr>\n",
       "      <th>0</th>\n",
       "      <td>A Jitney Elopement</td>\n",
       "      <td>20th and Folsom Streets</td>\n",
       "      <td>1915</td>\n",
       "    </tr>\n",
       "    <tr>\n",
       "      <th>1</th>\n",
       "      <td>A Jitney Elopement</td>\n",
       "      <td>Golden Gate Park</td>\n",
       "      <td>1915</td>\n",
       "    </tr>\n",
       "    <tr>\n",
       "      <th>2</th>\n",
       "      <td>Greed</td>\n",
       "      <td>Cliff House (1090 Point Lobos Avenue)</td>\n",
       "      <td>1924</td>\n",
       "    </tr>\n",
       "    <tr>\n",
       "      <th>3</th>\n",
       "      <td>Greed</td>\n",
       "      <td>Bush and Sutter Streets</td>\n",
       "      <td>1924</td>\n",
       "    </tr>\n",
       "    <tr>\n",
       "      <th>4</th>\n",
       "      <td>Greed</td>\n",
       "      <td>Hayes Street at Laguna</td>\n",
       "      <td>1924</td>\n",
       "    </tr>\n",
       "  </tbody>\n",
       "</table>\n",
       "</div>"
      ],
      "text/plain": [
       "                Title                              Locations  Release Year\n",
       "0  A Jitney Elopement                20th and Folsom Streets          1915\n",
       "1  A Jitney Elopement                       Golden Gate Park          1915\n",
       "2               Greed  Cliff House (1090 Point Lobos Avenue)          1924\n",
       "3               Greed                Bush and Sutter Streets          1924\n",
       "4               Greed                 Hayes Street at Laguna          1924"
      ]
     },
     "execution_count": 8,
     "metadata": {},
     "output_type": "execute_result"
    }
   ],
   "source": [
    "query = '''\n",
    "            SELECT Title, Locations, [Release Year]\n",
    "            FROM FilmLocations\n",
    "            WHERE [Release Year] <= 2000\n",
    "        '''\n",
    "df = pd.read_sql_query(query, con)\n",
    "df.head()"
   ]
  },
  {
   "cell_type": "markdown",
   "metadata": {},
   "source": [
    "3. Problem:\n",
    "\n",
    "    *Retrieve the names, production company names, filming locations, and release years of the films which are not written by James Cameron.*\n",
    "\n",
    "<details>\n",
    "\t<summary>Click here for Hint</summary>\n",
    "\n",
    "Use WHERE clause comparsion operator <> which means **\"Not equal to\"**.\n",
    "\n",
    "</details>\n",
    "\n",
    "<details>\n",
    "\t<summary>Click here for Solution</summary>\n",
    "\n",
    "```sql\n",
    "SELECT Title, ProductionCompany, Locations, ReleaseYear FROM FilmLocations WHERE Writer<>\"James Cameron\";\n",
    "```\n",
    "\n",
    "</details>\n",
    "\n",
    "<details>\n",
    "\t<summary>Click here for Output</summary>\n",
    "\n",
    "![](https://cf-courses-data.s3.us.cloud-object-storage.appdomain.cloud/IBMDeveloperSkillsNetwork-DB0201EN-SkillsNetwork/labs/Labs_Coursera_V5/labs/Lab%20-%20Basics%20of%20SQL%20SELECT%20Statement/images/C.3.O.png)\n",
    "\n",
    "</details>"
   ]
  },
  {
   "cell_type": "code",
   "execution_count": 9,
   "metadata": {},
   "outputs": [
    {
     "data": {
      "text/html": [
       "<div>\n",
       "<style scoped>\n",
       "    .dataframe tbody tr th:only-of-type {\n",
       "        vertical-align: middle;\n",
       "    }\n",
       "\n",
       "    .dataframe tbody tr th {\n",
       "        vertical-align: top;\n",
       "    }\n",
       "\n",
       "    .dataframe thead th {\n",
       "        text-align: right;\n",
       "    }\n",
       "</style>\n",
       "<table border=\"1\" class=\"dataframe\">\n",
       "  <thead>\n",
       "    <tr style=\"text-align: right;\">\n",
       "      <th></th>\n",
       "      <th>Title</th>\n",
       "      <th>Production Company</th>\n",
       "      <th>Locations</th>\n",
       "      <th>Release Year</th>\n",
       "    </tr>\n",
       "  </thead>\n",
       "  <tbody>\n",
       "    <tr>\n",
       "      <th>0</th>\n",
       "      <td>A Jitney Elopement</td>\n",
       "      <td>The Essanay Film Manufacturing Company</td>\n",
       "      <td>20th and Folsom Streets</td>\n",
       "      <td>1915</td>\n",
       "    </tr>\n",
       "    <tr>\n",
       "      <th>1</th>\n",
       "      <td>A Jitney Elopement</td>\n",
       "      <td>The Essanay Film Manufacturing Company</td>\n",
       "      <td>Golden Gate Park</td>\n",
       "      <td>1915</td>\n",
       "    </tr>\n",
       "    <tr>\n",
       "      <th>2</th>\n",
       "      <td>Greed</td>\n",
       "      <td>Metro-Goldwyn-Mayer (MGM)</td>\n",
       "      <td>Cliff House (1090 Point Lobos Avenue)</td>\n",
       "      <td>1924</td>\n",
       "    </tr>\n",
       "    <tr>\n",
       "      <th>3</th>\n",
       "      <td>Greed</td>\n",
       "      <td>Metro-Goldwyn-Mayer (MGM)</td>\n",
       "      <td>Bush and Sutter Streets</td>\n",
       "      <td>1924</td>\n",
       "    </tr>\n",
       "    <tr>\n",
       "      <th>4</th>\n",
       "      <td>Greed</td>\n",
       "      <td>Metro-Goldwyn-Mayer (MGM)</td>\n",
       "      <td>Hayes Street at Laguna</td>\n",
       "      <td>1924</td>\n",
       "    </tr>\n",
       "  </tbody>\n",
       "</table>\n",
       "</div>"
      ],
      "text/plain": [
       "                Title                      Production Company  \\\n",
       "0  A Jitney Elopement  The Essanay Film Manufacturing Company   \n",
       "1  A Jitney Elopement  The Essanay Film Manufacturing Company   \n",
       "2               Greed               Metro-Goldwyn-Mayer (MGM)   \n",
       "3               Greed               Metro-Goldwyn-Mayer (MGM)   \n",
       "4               Greed               Metro-Goldwyn-Mayer (MGM)   \n",
       "\n",
       "                               Locations  Release Year  \n",
       "0                20th and Folsom Streets          1915  \n",
       "1                       Golden Gate Park          1915  \n",
       "2  Cliff House (1090 Point Lobos Avenue)          1924  \n",
       "3                Bush and Sutter Streets          1924  \n",
       "4                 Hayes Street at Laguna          1924  "
      ]
     },
     "execution_count": 9,
     "metadata": {},
     "output_type": "execute_result"
    }
   ],
   "source": [
    "query = '''\n",
    "            SELECT Title, [Production Company], Locations, [Release Year]\n",
    "            FROM FilmLocations\n",
    "            WHERE [Writer] != 'James Cameron'\n",
    "        '''\n",
    "df = pd.read_sql_query(query, con)\n",
    "df.head()"
   ]
  },
  {
   "cell_type": "markdown",
   "metadata": {},
   "source": [
    "## Congratulations! You have completed this Lab."
   ]
  },
  {
   "cell_type": "code",
   "execution_count": 10,
   "metadata": {},
   "outputs": [],
   "source": [
    "con.close()"
   ]
  },
  {
   "cell_type": "markdown",
   "metadata": {},
   "source": [
    "## Author(s)\n",
    "\n",
    "- [Sandip Saha Joy](https://www.linkedin.com/in/sandipsahajoy/?utm_medium=Exinfluencer&utm_source=Exinfluencer&utm_content=000026UJ&utm_term=10006555&utm_id=NA-SkillsNetwork-Channel-SkillsNetworkCoursesIBMDeveloperSkillsNetworkDB0201ENSkillsNetwork20127838-2022-01-01)"
   ]
  },
  {
   "cell_type": "markdown",
   "metadata": {},
   "source": [
    "## Other Contributor(s)\n",
    "\n",
    "- "
   ]
  },
  {
   "cell_type": "markdown",
   "metadata": {},
   "source": [
    "## Changelog\n",
    "\n",
    "| Date              | Version | Changed By          | Change Description      |\n",
    "| ----------------- | ------- | ------------------- | ----------------------- |\n",
    "| 2022-07-27        | 1.2     | Lakshmi Holla       | Updated html tag        |\n",
    "| 2020-11-23        | 1.1     | Steve Ryan          | ID Review               |\n",
    "| 2020-11-20        | 1.0     | Sandip Saha Joy     | Initial version created |\n",
    "\n",
    "## <h3 align=\"center\"> © IBM Corporation 2020. All rights reserved. <h3/>"
   ]
  }
 ],
 "metadata": {
  "kernelspec": {
   "display_name": "Python 3.9.13 ('base')",
   "language": "python",
   "name": "python3"
  },
  "language_info": {
   "codemirror_mode": {
    "name": "ipython",
    "version": 3
   },
   "file_extension": ".py",
   "mimetype": "text/x-python",
   "name": "python",
   "nbconvert_exporter": "python",
   "pygments_lexer": "ipython3",
   "version": "3.9.13"
  },
  "orig_nbformat": 4,
  "vscode": {
   "interpreter": {
    "hash": "3cfd106f785ae1e288da74ae733f9b47f8a2699db986927140be0bc196406f4c"
   }
  }
 },
 "nbformat": 4,
 "nbformat_minor": 2
}
